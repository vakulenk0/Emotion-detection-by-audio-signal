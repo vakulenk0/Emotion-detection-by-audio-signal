{
 "cells": [
  {
   "cell_type": "code",
   "execution_count": 52,
   "id": "initial_id",
   "metadata": {
    "ExecuteTime": {
     "end_time": "2024-05-05T15:31:59.809784Z",
     "start_time": "2024-05-05T15:31:59.800976Z"
    }
   },
   "outputs": [],
   "source": [
    "import pandas as pd\n",
    "import numpy as np\n",
    "\n",
    "from pyAudioAnalysis import audioBasicIO \n",
    "from pyAudioAnalysis import ShortTermFeatures \n",
    "\n",
    "import os\n",
    "import sys\n",
    "\n",
    "# librosa is a Python library for analyzing audio and music. It can be used to extract the data from the audio files we will see it later.\n",
    "import librosa\n",
    "import librosa.display\n",
    "import librosa.feature\n",
    "import seaborn as sns\n",
    "import matplotlib.pyplot as plt\n",
    "\n",
    "from sklearn.preprocessing import StandardScaler, OneHotEncoder\n",
    "from sklearn.metrics import confusion_matrix, classification_report\n",
    "from sklearn.model_selection import train_test_split\n",
    "\n",
    "# to play the audio files\n",
    "from IPython.display import Audio\n",
    "\n",
    "import keras\n",
    "from keras.callbacks import ReduceLROnPlateau\n",
    "from keras.models import Sequential\n",
    "from keras.layers import Dense, Conv1D, MaxPooling1D, Flatten, Dropout, BatchNormalization\n",
    "# from keras.utils import np_utils, to_categorical\n",
    "from keras.callbacks import ModelCheckpoint\n",
    "\n",
    "import json\n",
    "\n",
    "import warnings\n",
    "if not sys.warnoptions:\n",
    "    warnings.simplefilter(\"ignore\")\n",
    "warnings.filterwarnings(\"ignore\", category=DeprecationWarning) "
   ]
  },
  {
   "cell_type": "code",
   "execution_count": 53,
   "id": "1b85b953a5bc2a98",
   "metadata": {
    "ExecuteTime": {
     "end_time": "2024-05-05T15:32:03.039044Z",
     "start_time": "2024-05-05T15:32:00.081007Z"
    }
   },
   "outputs": [
    {
     "name": "stdout",
     "output_type": "stream",
     "text": [
      "\n"
     ]
    }
   ],
   "source": [
    "count_emotions_wavs = {\"angry\": 0, \"sad\": 0, \"neutral\": 0, \"positive\": 0, \"other\": 0}\n",
    "crowd_train_path = \"DATASET_PATH/processed_dataset_090/aggregated_dataset/crowd_train.jsonl\"\n",
    "path_wav_file_train = \"DATASET_PATH/crowd_train/wavs/\"\n",
    "wavs = []\n",
    "arr_path = []\n",
    "arr_emotions = []\n",
    "\n",
    "with open(crowd_train_path) as file:\n",
    "    wavs = [f for f in file]\n",
    "\n",
    "k = 0\n",
    "for wav in wavs:\n",
    "    if k % 2 == 0:\n",
    "        if count_emotions_wavs[json.loads(wav)['emotion']] < 1200:\n",
    "            emotion = json.loads(wav)['emotion']\n",
    "            arr_path.append(path_wav_file_train + json.loads(wav)['hash_id'] + \".wav\")\n",
    "            arr_emotions.append(emotion)\n",
    "            count_emotions_wavs[json.loads(wav)['emotion']] += 1\n",
    "    k += 1\n",
    "print()\n"
   ]
  },
  {
   "cell_type": "code",
   "execution_count": 54,
   "id": "edcae3bf679261ca",
   "metadata": {
    "ExecuteTime": {
     "end_time": "2024-05-05T15:32:03.049261Z",
     "start_time": "2024-05-05T15:32:03.042042Z"
    }
   },
   "outputs": [
    {
     "data": {
      "text/plain": [
       "{'angry': 1200, 'sad': 1200, 'neutral': 1200, 'positive': 1200, 'other': 1200}"
      ]
     },
     "execution_count": 54,
     "metadata": {},
     "output_type": "execute_result"
    }
   ],
   "source": [
    "count_emotions_wavs"
   ]
  },
  {
   "cell_type": "markdown",
   "id": "ba9570a0-2d31-4f7e-8808-3672a753951b",
   "metadata": {},
   "source": [
    "# Создадим DataFrame с эмоцией и ссылкой на аудиофайл"
   ]
  },
  {
   "cell_type": "code",
   "execution_count": 55,
   "id": "51695116-8149-4c80-9197-0706e777462e",
   "metadata": {
    "ExecuteTime": {
     "end_time": "2024-05-05T15:32:03.069896Z",
     "start_time": "2024-05-05T15:32:03.051257Z"
    }
   },
   "outputs": [
    {
     "data": {
      "text/html": [
       "<div>\n",
       "<style scoped>\n",
       "    .dataframe tbody tr th:only-of-type {\n",
       "        vertical-align: middle;\n",
       "    }\n",
       "\n",
       "    .dataframe tbody tr th {\n",
       "        vertical-align: top;\n",
       "    }\n",
       "\n",
       "    .dataframe thead th {\n",
       "        text-align: right;\n",
       "    }\n",
       "</style>\n",
       "<table border=\"1\" class=\"dataframe\">\n",
       "  <thead>\n",
       "    <tr style=\"text-align: right;\">\n",
       "      <th></th>\n",
       "      <th>Emotion</th>\n",
       "      <th>Path</th>\n",
       "    </tr>\n",
       "  </thead>\n",
       "  <tbody>\n",
       "    <tr>\n",
       "      <th>0</th>\n",
       "      <td>angry</td>\n",
       "      <td>DATASET_PATH/crowd_train/wavs/475e76f77ac1ed7cabafca740b15b32a.wav</td>\n",
       "    </tr>\n",
       "    <tr>\n",
       "      <th>1</th>\n",
       "      <td>neutral</td>\n",
       "      <td>DATASET_PATH/crowd_train/wavs/2f9438ef68395c70a8714dc373a49d11.wav</td>\n",
       "    </tr>\n",
       "    <tr>\n",
       "      <th>2</th>\n",
       "      <td>neutral</td>\n",
       "      <td>DATASET_PATH/crowd_train/wavs/9937036a9c0dba20eecbffddd00f2be2.wav</td>\n",
       "    </tr>\n",
       "    <tr>\n",
       "      <th>3</th>\n",
       "      <td>neutral</td>\n",
       "      <td>DATASET_PATH/crowd_train/wavs/fb0ae78586a235018103acec22a80a8f.wav</td>\n",
       "    </tr>\n",
       "    <tr>\n",
       "      <th>4</th>\n",
       "      <td>neutral</td>\n",
       "      <td>DATASET_PATH/crowd_train/wavs/196dcf9e1aaac46c2aee45e7f6adfb92.wav</td>\n",
       "    </tr>\n",
       "    <tr>\n",
       "      <th>...</th>\n",
       "      <td>...</td>\n",
       "      <td>...</td>\n",
       "    </tr>\n",
       "    <tr>\n",
       "      <th>5995</th>\n",
       "      <td>other</td>\n",
       "      <td>DATASET_PATH/crowd_train/wavs/728f424ab5c555323d6862ee25b22c6f.wav</td>\n",
       "    </tr>\n",
       "    <tr>\n",
       "      <th>5996</th>\n",
       "      <td>other</td>\n",
       "      <td>DATASET_PATH/crowd_train/wavs/28e65ff2064249f71f4c0817ffd7a60f.wav</td>\n",
       "    </tr>\n",
       "    <tr>\n",
       "      <th>5997</th>\n",
       "      <td>other</td>\n",
       "      <td>DATASET_PATH/crowd_train/wavs/987acfba8eba908419f5fc384d80433c.wav</td>\n",
       "    </tr>\n",
       "    <tr>\n",
       "      <th>5998</th>\n",
       "      <td>other</td>\n",
       "      <td>DATASET_PATH/crowd_train/wavs/eafc6e9fd632ab9c21b3e90ddb7dbd95.wav</td>\n",
       "    </tr>\n",
       "    <tr>\n",
       "      <th>5999</th>\n",
       "      <td>other</td>\n",
       "      <td>DATASET_PATH/crowd_train/wavs/0b2378b91e57d5597f78e98f3aeaf5db.wav</td>\n",
       "    </tr>\n",
       "  </tbody>\n",
       "</table>\n",
       "<p>6000 rows × 2 columns</p>\n",
       "</div>"
      ],
      "text/plain": [
       "      Emotion  \\\n",
       "0       angry   \n",
       "1     neutral   \n",
       "2     neutral   \n",
       "3     neutral   \n",
       "4     neutral   \n",
       "...       ...   \n",
       "5995    other   \n",
       "5996    other   \n",
       "5997    other   \n",
       "5998    other   \n",
       "5999    other   \n",
       "\n",
       "                                                                    Path  \n",
       "0     DATASET_PATH/crowd_train/wavs/475e76f77ac1ed7cabafca740b15b32a.wav  \n",
       "1     DATASET_PATH/crowd_train/wavs/2f9438ef68395c70a8714dc373a49d11.wav  \n",
       "2     DATASET_PATH/crowd_train/wavs/9937036a9c0dba20eecbffddd00f2be2.wav  \n",
       "3     DATASET_PATH/crowd_train/wavs/fb0ae78586a235018103acec22a80a8f.wav  \n",
       "4     DATASET_PATH/crowd_train/wavs/196dcf9e1aaac46c2aee45e7f6adfb92.wav  \n",
       "...                                                                  ...  \n",
       "5995  DATASET_PATH/crowd_train/wavs/728f424ab5c555323d6862ee25b22c6f.wav  \n",
       "5996  DATASET_PATH/crowd_train/wavs/28e65ff2064249f71f4c0817ffd7a60f.wav  \n",
       "5997  DATASET_PATH/crowd_train/wavs/987acfba8eba908419f5fc384d80433c.wav  \n",
       "5998  DATASET_PATH/crowd_train/wavs/eafc6e9fd632ab9c21b3e90ddb7dbd95.wav  \n",
       "5999  DATASET_PATH/crowd_train/wavs/0b2378b91e57d5597f78e98f3aeaf5db.wav  \n",
       "\n",
       "[6000 rows x 2 columns]"
      ]
     },
     "execution_count": 55,
     "metadata": {},
     "output_type": "execute_result"
    }
   ],
   "source": [
    "emotion_df = pd.DataFrame(arr_emotions, columns=['Emotion'])\n",
    "path_df = pd.DataFrame(arr_path, columns=['Path'])\n",
    "Crowd_df = pd.concat([emotion_df, path_df], axis=1)\n",
    "Crowd_df"
   ]
  },
  {
   "cell_type": "code",
   "execution_count": 55,
   "id": "1d27f866ac4762a",
   "metadata": {
    "ExecuteTime": {
     "end_time": "2024-05-05T15:32:03.077569Z",
     "start_time": "2024-05-05T15:32:03.073893Z"
    }
   },
   "outputs": [],
   "source": []
  },
  {
   "cell_type": "code",
   "execution_count": 56,
   "id": "2e6a35c2a9ed155c",
   "metadata": {
    "ExecuteTime": {
     "end_time": "2024-05-05T15:32:03.416634Z",
     "start_time": "2024-05-05T15:32:03.079566Z"
    }
   },
   "outputs": [
    {
     "data": {
      "image/png": "[encoded data removed]",
      "text/plain": [
       "<Figure size 640x480 with 1 Axes>"
      ]
     },
     "metadata": {},
     "output_type": "display_data"
    }
   ],
   "source": [
    "plt.title('Количество файлов', size=16)\n",
    "sns.countplot(x=Crowd_df.Emotion)\n",
    "plt.ylabel('Количество', size=12)\n",
    "plt.xlabel('Эмоции', size=12)\n",
    "plt.show()"
   ]
  },
  {
   "cell_type": "code",
   "execution_count": 57,
   "id": "7b03b7f418017be2",
   "metadata": {
    "ExecuteTime": {
     "end_time": "2024-05-05T15:32:03.427332Z",
     "start_time": "2024-05-05T15:32:03.418637Z"
    }
   },
   "outputs": [
    {
     "data": {
      "text/plain": [
       "'DATASET_PATH/crowd_train/wavs/475e76f77ac1ed7cabafca740b15b32a.wav'"
      ]
     },
     "execution_count": 57,
     "metadata": {},
     "output_type": "execute_result"
    }
   ],
   "source": [
    "path = np.array(Crowd_df.Path)[0]\n",
    "path"
   ]
  },
  {
   "cell_type": "code",
   "execution_count": 58,
   "id": "670dbd6f88d1410e",
   "metadata": {
    "ExecuteTime": {
     "end_time": "2024-05-05T15:32:03.441588Z",
     "start_time": "2024-05-05T15:32:03.429324Z"
    }
   },
   "outputs": [
    {
     "data": {
      "text/plain": [
       "Number    0.767343\n",
       "dtype: float32"
      ]
     },
     "execution_count": 58,
     "metadata": {},
     "output_type": "execute_result"
    }
   ],
   "source": [
    "data, sample_rate = librosa.load(path)\n",
    "pd.DataFrame(data, columns=['Number']).max()"
   ]
  },
  {
   "cell_type": "code",
   "execution_count": 59,
   "id": "93d0b1d7bbda90db",
   "metadata": {
    "ExecuteTime": {
     "end_time": "2024-05-05T15:32:03.451886Z",
     "start_time": "2024-05-05T15:32:03.443583Z"
    }
   },
   "outputs": [
    {
     "data": {
      "text/html": [
       "\n",
       "                <audio  controls=\"controls\" >\n",
       "                    <source src=\"data:audio/wav;base64,UklGRphCAQBXQVZFSlVOSxwAAAAAAAAAAAAAAAAAAAAAAAAAAAAAAAAAAAAAAAAAZm10IBAAAAABAAEAgD4AAAB9AAACABAARkxMUqgPAAAAAAAAAAAAAAAAAAAAAAAAAAAAAAAAAAAAAAAAAAAAAAAAAAAAAAAAAAAAAAAAAAAAAAAAAAAAAAAAAAAAAAAAAAAAAAAAAAAAAAAAAAAAAAAAAAAAAAAAAAAAAAAAAAAAAAAAAAAAAAAAAAAAAAAAAAAAAAAAAAAAAAAAAAAAAAAAAAAAAAAAAAAAAAAAAAAAAAAAAAAAAAAAAAAAAAAAAAAAAAAAAAAAAAAAAAAAAAAAAAAAAAAAAAAAAAAAAAAAAAAAAAAAAAAAAAAAAAAAAAAAAAAAAAAAAAAAAAAAAAAAAAAAAAAAAAAAAAAAAAAAAAAAAAAAAAAAAAAAAAAAAAAAAAAAAAAAAAAAAAAAAAAAAAAAAAAAAAAAAAAAAAAAAAAAAAAAAAAAAAAAAAAAAAAAAAAAAAAAAAAAAAAAAAAAAAAAAAAAAAAAAAAAAAAAAAAAAAAAAAAAAAAAAAAAAAAAAAAAAAAAAAAAAAAAAAAAAAAAAAAAAAAAAAAAAAAAAAAAAAAAAAAAAAAAAAAAAAAAAAAAAAAAAAAAAAAAAAAAAAAAAAAAAAAAAAAAAAAAAAAAAAAAAAAAAAAAAAAAAAAAAAAAAAAAAAAAAAAAAAAAAAAAAAAAAAAAAAAAAAAAAAAAAAAAAAAAAAAAAAAAAAAAAAAAAAAAAAAAAAAAAAAAAAAAAAAAAAAAAAAAAAAAAAAAAAAAAAAAAAAAAAAAAAAAAAAAAAAAAAAAAAAAAAAAAAAAAAAAAAAAAAAAAAAAAAAAAAAAAAAAAAAAAAAAAAAAAAAAAAAAAAAAAAAAAAAAAAAAAAAAAAAAAAAAAAAAAAAAAAAAAAAAAAAAAAAAAAAAAAAAAAAAAAAAAAAAAAAAAAAAAAAAAAAAAAAAAAAAAAAAAAAAAAAAAAAAAAAAAAAAAAAAAAAAAAAAAAAAAAAAAAAAAAAAAAAAAAAAAAAAAAAAAAAAAAAAAAAAAAAAAAAAAAAAAAAAAAAAAAAAAAAAAAAAAAAAAAAAAAAAAAAAAAAAAAAAAAAAAAAAAAAAAAAAAAAAAAAAAAAAAAAAAAAAAAAAAAAAAAAAAAAAAAAAAAAAAAAAAAAAAAAAAAAAAAAAAAAAAAAAAAAAAAAAAAAAAAAAAAAAAAAAAAAAAAAAAAAAAAAAAAAAAAAAAAAAAAAAAAAAAAAAAAAAAAAAAAAAAAAAAAAAAAAAAAAAAAAAAAAAAAAAAAAAAAAAAAAAAAAAAAAAAAAAAAAAAAAAAAAAAAAAAAAAAAAAAAAAAAAAAAAAAAAAAAAAAAAAAAAAAAAAAAAAAAAAAAAAAAAAAAAAAAAAAAAAAAAAAAAAAAAAAAAAAAAAAAAAAAAAAAAAAAAAAAAAAAAAAAAAAAAAAAAAAAAAAAAAAAAAAAAAAAAAAAAAAAAAAAAAAAAAAAAAAAAAAAAAAAAAAAAAAAAAAAAAAAAAAAAAAAAAAAAAAAAAAAAAAAAAAAAAAAAAAAAAAAAAAAAAAAAAAAAAAAAAAAAAAAAAAAAAAAAAAAAAAAAAAAAAAAAAAAAAAAAAAAAAAAAAAAAAAAAAAAAAAAAAAAAAAAAAAAAAAAAAAAAAAAAAAAAAAAAAAAAAAAAAAAAAAAAAAAAAAAAAAAAAAAAAAAAAAAAAAAAAAAAAAAAAAAAAAAAAAAAAAAAAAAAAAAAAAAAAAAAAAAAAAAAAAAAAAAAAAAAAAAAAAAAAAAAAAAAAAAAAAAAAAAAAAAAAAAAAAAAAAAAAAAAAAAAAAAAAAAAAAAAAAAAAAAAAAAAAAAAAAAAAAAAAAAAAAAAAAAAAAAAAAAAAAAAAAAAAAAAAAAAAAAAAAAAAAAAAAAAAAAAAAAAAAAAAAAAAAAAAAAAAAAAAAAAAAAAAAAAAAAAAAAAAAAAAAAAAAAAAAAAAAAAAAAAAAAAAAAAAAAAAAAAAAAAAAAAAAAAAAAAAAAAAAAAAAAAAAAAAAAAAAAAAAAAAAAAAAAAAAAAAAAAAAAAAAAAAAAAAAAAAAAAAAAAAAAAAAAAAAAAAAAAAAAAAAAAAAAAAAAAAAAAAAAAAAAAAAAAAAAAAAAAAAAAAAAAAAAAAAAAAAAAAAAAAAAAAAAAAAAAAAAAAAAAAAAAAAAAAAAAAAAAAAAAAAAAAAAAAAAAAAAAAAAAAAAAAAAAAAAAAAAAAAAAAAAAAAAAAAAAAAAAAAAAAAAAAAAAAAAAAAAAAAAAAAAAAAAAAAAAAAAAAAAAAAAAAAAAAAAAAAAAAAAAAAAAAAAAAAAAAAAAAAAAAAAAAAAAAAAAAAAAAAAAAAAAAAAAAAAAAAAAAAAAAAAAAAAAAAAAAAAAAAAAAAAAAAAAAAAAAAAAAAAAAAAAAAAAAAAAAAAAAAAAAAAAAAAAAAAAAAAAAAAAAAAAAAAAAAAAAAAAAAAAAAAAAAAAAAAAAAAAAAAAAAAAAAAAAAAAAAAAAAAAAAAAAAAAAAAAAAAAAAAAAAAAAAAAAAAAAAAAAAAAAAAAAAAAAAAAAAAAAAAAAAAAAAAAAAAAAAAAAAAAAAAAAAAAAAAAAAAAAAAAAAAAAAAAAAAAAAAAAAAAAAAAAAAAAAAAAAAAAAAAAAAAAAAAAAAAAAAAAAAAAAAAAAAAAAAAAAAAAAAAAAAAAAAAAAAAAAAAAAAAAAAAAAAAAAAAAAAAAAAAAAAAAAAAAAAAAAAAAAAAAAAAAAAAAAAAAAAAAAAAAAAAAAAAAAAAAAAAAAAAAAAAAAAAAAAAAAAAAAAAAAAAAAAAAAAAAAAAAAAAAAAAAAAAAAAAAAAAAAAAAAAAAAAAAAAAAAAAAAAAAAAAAAAAAAAAAAAAAAAAAAAAAAAAAAAAAAAAAAAAAAAAAAAAAAAAAAAAAAAAAAAAAAAAAAAAAAAAAAAAAAAAAAAAAAAAAAAAAAAAAAAAAAAAAAAAAAAAAAAAAAAAAAAAAAAAAAAAAAAAAAAAAAAAAAAAAAAAAAAAAAAAAAAAAAAAAAAAAAAAAAAAAAAAAAAAAAAAAAAAAAAAAAAAAAAAAAAAAAAAAAAAAAAAAAAAAAAAAAAAAAAAAAAAAAAAAAAAAAAAAAAAAAAAAAAAAAAAAAAAAAAAAAAAAAAAAAAAAAAAAAAAAAAAAAAAAAAAAAAAAAAAAAAAAAAAAAAAAAAAAAAAAAAAAAAAAAAAAAAAAAAAAAAAAAAAAAAAAAAAAAAAAAAAAAAAAAAAAAAAAAAAAAAAAAAAAAAAAAAAAAAAAAAAAAAAAAAAAAAAAAAAAAAAAAAAAAAAAAAAAAAAAAAAAAAAAAAAAAAAAAAAAAAAAAAAAAAAAAAAAAAAAAAAAAAAAAAAAAAAAAAAAAAAAAAAAAAAAAAAAAAAAAAAAAAAAAAAAAAAAAAAAAAAAAAAAAAAAAAAAAAAAAAAAAAAAAAAAAAAAAAAAAAAAAAAAAAAAAAAAAAAAAAAAAAAAAAAAAAAAAAAAAAAAAAAAAAAAAAAAAAAAAAAAAAAAAAAAAAAAAAAAAAAAAAAAAAAAAAAAAAAAAAAAAAAAAAAAAAAAAAAAAAAAAAAAAAAAAAAAAAAAAAAAAAAAAAAAAAAAAAAAAAAAAAAAAAAAAAAAAAAAAAAAAAAAAAAAAAAAAAAAAAAAAAAAAAAAAAAAAAAAAAAAAAAAAAAAAAAAAAAAAAAAAAAAAAAAAAAAAAAAAAAAAAAAAAAAAAAAAAAAAAAAAAAAAAAAAAAAAAAAAAAAAAAAAAAAAAAAAAAAAAAAAAAAAAAAAAAAAAAAAAAAAAAAAAAAAAAAAAAAAAAAAAAAAAAAAAAAAAAAAAAAAAAAAAAAAAAAAAAAAAAAAAAAAAAAAAAAAAAAAAAAAAAAAAAAAAAAAAAAAAAAAAAAAAAAAAAAAAAAAAAAAAAAAAAAAAAAAAAAAAAAAAAAAAAAAAAAAAAAAAAAAAAAAAAAAAAAAAAAAAAAAAAAAAAAAAAAAAAAAAAAAAAAAAAAAAAAAAAAAAAAAAAAAAAAAAAAAAAAAAAAAAAAAAAAAAAAAAAAAAAAAAAAAAAAAAAAAAAAAAAAAAAAAAAAAAAAAAAAAAAAAAAAAAAAAAAAAAAAAAAAAAAAAAAAAAAAAAAAAAAAAAAAAAAAAAAAAAAAAAAAAAAAAAAAAAAAAAAAAAAAAAAAAAAAAAAAAAAAAAAAAAAAAAAAAAAAAAAAAAAAAAAAAAAAAAAAAAAAAAAAAAAAAAAAAAAAAAAAAAAAAAAAAAAAAAAAAAAAAAAAAAAAAAAAAAAAAAAAAAAAAAAAAAAAAAAAAAAAAAAAAAAAAAAAAAAAAAAAAAAAAAAAAAAAAAAAAAAAAAAAAAAAAAAAAAAAAAAAAAAAAAAAAAAAAAAAAAAAAAAAAAAAAAAAAAAAAAAAAAAAAAAAAAAAAAAAAAAAAAAAAAAAAAAAAAAAAAAAAAAAAAAAAAAAAAAAAAAAAAAAAAAAAAAAAAAAAAAAAAAAAAAAAAAAAAAAAAAAAAAAAAAAAAAAAAAAAAAAAAAAAAAAAAAAAAAAAAAAAAAAAAAAAAAAAAAAAAAAAAAAAAAAAAAAAAAAAAAAAAAAAAAAAAAAAAAAAAAAAAAAAAAAAAAAAAAAAAAAAAAAAAAAAAAAAAAAAAAAAAAAAAAAAAAAAAAAAAAAAAAAAAAAAAAAAAAAAAAAAAAAAAAAAAAAAAAAAAAAAAAAAAAAAAAAAAAAAAAAAAAAAAAAAAAAAAAAAAAAAAAAAAAAAAAAAAAAAAAAAAAAAAAAAAAAAAAAAAAAAAAAAAAAAAAAAAAAAAAAAAAAAAAAAAAAAAAAAAAAAAAAAAAAAAAAAAAAAAAAAAAAAAAAAAAAAAAAAAAAAAAAAAAAAAAAAAAAAAAAAAAAAAAAAAAAAAAAAAAAAAAAAAAAAAAAAAAAAAAAAAAAAAAAAAAAAAAAAAAAAAAAAAAAAAAAAAAAAAAAAAAAAAAAAAAAAAAAAAAAAAAAAAAAAAAAAAAAAAAAAAAAAAAAAAAAAAAAAAAAAAAAAAAAAAAAAAAAAAAAAAAAAAAAAAAAAAAAAAAAAAAAAAAAAAAAAAAAAAAAAAAAAAAAAAAAAAAAAAAAAAAAAAAAAAAAAAAAAAAAAAAAAAAAAAAAAAAAAAAAAAAAAAAAAAAAAAAAAAAAAAAAAAAAAAAAAAAAAAAAAAAAAAAAAAAAAAAAAAAAAAAAAAAAAAAAAAAAAAAAAAAAAAAAAAAAAAAAAAAAAAAAAAAAAAAAAAAAAAAAAAAAAAAAAAAAAAAAAAAAAAAAAAAAAAAAAAAAAAAAAAAAAAAAAAAAAAAAAAAAAAAAAAAAAAAAAAAAAAAAAAAAAAAAAAAAAABkYXRhoDIBAAAAAAAAAAAAAAAAAAAAAAAAAAAAAAAAAAAAAAAAAAAAAAAAAAAAAAAAAAAAAAAAAAAAAAAAAAAAAAAAAAAAAAAAAAAAAAAAAAAAAAAAAAAAAAAAAAAAAAAAAAAAAAAAAAAAAAAAAAAAAAAAAAAAAAAAAAAAAAAAAAAAAAAAAAAAAAAAAAAAAAAAAAAAAAAAAAAAAAAAAAAAAAAAAAAAAAAAAAAAAAAAAAAAAAAAAAAAAAAAAAAAAAAAAAAAAAAAAAAAAAAAAAAAAAAAAAAAAAAAAAAAAAAAAAAAAAAAAAAAAAD//wAAAAAAAAEA/////wAAAAAAAAEA//8BAAAAAAAAAP////8AAP7/AQAAAAAAAQAAAP7/AQD//wIAAQAAAAEAAQD9/wEA/P8AAP//AAABAAIAAAADAP3/AQABAP3//P8EAP3/AwD5//f/+f8AABwACgAAAAgAAwANAPL/AgDy//v/GgDh/zcAqQAg+70KCfrr9FcJMgGCAKgDuwBs/qr9zP15/vv+x/9LAIYA5QD+AMEA5ACuAIQAgABDABYADwDh/7j/tf/C/6D/h/+p/5D/gP+j/5n/t/+n/9L/3v/O//T/BQD+/x4AIgAtACsAMwA1ACkAPQAfAEoAJADw/7MAq/8qAJcA2f8aAC8AAgD8/xsABgAxAB0ACgA0AB4ADwAZAAkAHAAKAPH/CADt/+H/BADi//X/p//i/zIAtP/k//T/z//p/9P/6f/2/wYAvP/1/7P/DQDw/67/BQDa/5L/HQDU/8//8/+3/8v/8//x/9r/q/9CAA8Ayv8OADsA3/8TAPX/9/9HAPr/x/9mAIL/PQCDAAz//QBnAGL/hQBHAKMASv83APwA0f5FAD8Bav5OAQsBpP6sAA0AZAAu/wwB6P/6ASL9oP0jBpX6rP7xBNf9uP77AoUA7fyX/gwMtfb++O0WEu35/G8TsvRSAEwI6Pqz/ib/AABa+nL6fQJb+ooFgQGn/SIFSv/OAp3/fP6LAHMA8/7L//gBvf80/lYBSQAn/6UB1wDbAOcAVQBiAbb/xf9DAZb/Tv9eADr/2/62/0j/Mf/C/+T/gP+0AOr9VgKL/5r8hATT/br95wHI/w0AmQAaAK0ARv8P/oABqv1Z/sgA4/2g/7r/zP2SAV/+Nf+gAdD/rv7XAOsArwJm/of/dgHh//IA/f/H/90BvQAa/dQBsgFX/04DTvxrAuMCmvy7A08Dx/x1A24AYwDnApoBYwDH/VsFSwFj+mMCeAJH/Tj/rACe/5IAHP9M/CgDWABu/T0G8PjRABAIs+9JBEUD2fsm+bD+vQjP99X74w4y9Yf8jA1o6kv/xAsy+lD8cgOgAyTwKgFK6N49ouzx3pI3SfFO7tIPiPvd+wYBswRf+rQJCuSNKEAR2ZlTHnoo8vs1G/IOtvmD7XLrlPGl9pf6GwDSBbsGkwfaCbII0QeSB1UGaAR3Apn/pf2u+hr3XfVy8iHwNu8w7b/sku2Y7c/u+/DV8x72aPhR/Nf+OAERBDIGWwgcCloLkgySDTsOnA7ODp4Ozg7ZDTEN8AylC8QK5gnUCL0HgwZgBT8EBgP8AQUB7P8T/0j+c/2v/BH8kfsG+4L6P/r++aD5b/lm+Vb5Tfk6+Vb5bfmG+bH5zfkR+ln6iPqw+hb7bPuN+9T7L/x9/L78A/1Z/Zv91v0c/l/+p/7q/hX/S/9//8f/3v/3/08AbACJALIA0QD/AAsBLgFIAWoBhgGLAZUBswHDAb4BzgHrAfQB7wHqAQECDgL/AQcCFQL8ARgCAQLjAR4CBAL2AfwBBwLuAb4B3gHlAegBxAHWAdIBtAGfAZoBogGIAX4BeAFzAVsBdAEZAWYBjwEKAQMBBwH6APYABQEdARoB/wD0APwAvgCLAK8AkQB2AI8AfwB2AHoAcwBpAGQAUQBQAEgAOAA+ADYALQA4AC4AJwArACUAIAAUABkAFQAIAA4ADgALAAsACgAGAAIA///5//b/8v/2//f/8f/8//T/9f/9//j//v/7//r////+//z/AQAAAP3//v8AAP7/AwAKAAYACgALAAkACQAKAAoACQAIAAkADAARAA4AEQAVABQAEwARAA8AEwAUABAAFgAeAB4AHwAkACQAIQAhACAAIgAjACIAKQAsACwALgAxADAANAAxAC4AMwAyADEANAA1ADYANAA2ADgAOQA2ADMALwArACsAKwAvADQAOAA6ADoAPAA4ADMAMQAtACgAKgArAC8AMwA0ADMALwAtACkAJAAjACIAIQAhACIAIwAkACQAHwAcABoAEQAZAAkAFwBDAMX/+/9EABQAHgAaAAkA+f/1//f/+f8AAAMACgAKAAcACQALAAoABAAIAAUAAAADAP7/+v/4//f/+f/3//j/9//0//T/8f/y//L/8v/1//X/8//y//D/8P/w//L/8v/z//P/8v/z//X/8v/y//L/7//u//D/8f/y//L/8v/x/+7/7f/u/+z/6//t/+//7f/t/+7/7v/r/+n/6v/s/+z/6//o/+b/6P/r/+z/8P/y//L/8v/0//D/7//u/+7/8f/0//b/+v/3//n//f/9//3////z/+v/+P/8//r/AwADAP7//f/5//T/9f/7//j/AQAGAAIACgAIAAMAAwACAP//AgAJAAoADwASAA8ADwAOAA0ADwAPAAsADAAPAA8AEAARABAADgANAAsABgAJAAoACgAHAAwADAAIAAsAEAAIAAYAAgAJAAcABQAKABAAFAAOABEAEgAQABAADgAQABIAEQAXABkAHAAcABsAFwAZABcAFgAcABMAHAATAA4AFgAYABMAFQAPABgADQAOAA8ADwAWABAAGAAYABIAFAATABQADwAPAA0AEAAWABUAFwAYABMAFQAPAA8AFQATABEAEQASABEAEgARAA8AEgAMAAkADAAJAAgADAAHAAYADAAKAAMACgAJAAUABwAHAAQACAAKAAsACAAHAAcACwAMAAcACAAJAAQACAARAA4ACQANABAACAD8/wEAAgADAAIAAAAIAAsABgAMAA4ABwD+//z/BQACAAcABwAHAAcACAAPAA4ACAAGAAYABAABAAEACgAMAAsACwARAAEA/P8GAAcA//////3/AQACAPz/+P8CAAQA/f8EAAAA+//6//n/9v/2//b/+P8BAAMAAgAJAAgAAgD//////P/+/wIAAgAFAAcACAAJAAkABAAAAP7//f/9/wEAAAACAAMABAAEAAIA/v/5//j/9//5//3/AAAEAAcABgADAAEAAAD9//3/AQACAAAABwAKAAgACgAHAAIAAAD+//z///8EAAQABQAFAAMAAgACAP///P/4//f/+P/7/wEAAgADAAEA/f/8//v/+v/9////AAABAAQAAwAEAAYABAAEAAMAAgADAAUABgAIAAkACgAIAAUAAgABAAEAAQABAAIABAAEAAQABAAEAAQAAQACAAMAAQACAAMABAAFAAUABwAGAAUABAAEAAMAAwAEAAUABAAHAAgAEQD7/+//FAAkABsADADw/+D/8f/4//T/CgAiABYAFQAGAPX/9P/6/wIABAD9/+v/7f/+/wwAFQAaAA8AAQD5//D/7f/z//f//f8LABUAFgAVAA4A/v/y/+7/8v///wsAFgAbABcAEAAIAAAA+v/4//r/+//9/wIACAANAA0ADAAJAAkACAAFAAEA///9/wAABQAIAAsAEAAPAAoABAD///r/+v/+/wIABgAJAAgABwADAAAA/v/7//r//v///wEAAwAEAAMAAQABAAEAAAD+////AwADAAAAAAADAAMABAAGAAYABwAGAAUAAgAAAAAAAQAFAAQABQAGAAQAAwD/////AAAAAAIABAAGAAYAAgAHAAgAAwD//wQA///4/wAACgAJAAgACAAGAAIAAAAEAAYABgAEAAcABwADAAMAAgAAAP7//v8BAAQAAgABAAEA/P/2//b/+P/5//v//f8AAAAA/f/9//7//P/5//v/AwACAAAABwAIAAEAAAABAAEAAAACAAMAAQABAAEABAACAAEAAgADAAUABAAFAAMAAAABAAEAAgADAAUABAABAAAA//8AAAMAAwAEAAIAAQABAAEAAQACAAIAAgADAAEA/v8BAP///v8EAAMAAgACAAAA+v/7//v/+//7//3//v///wAA/v/7//z//P/8//7//f///wIAAQAAAAAAAQACAAMAAwADAAUABgAHAAcABgAEAAMAAAD//wAAAAD+//3//P/7//n/+P/4//r/AAABAAEAAAABAAAA///+////AQADAAYACAAGAAYAAwACAAQAAgAGAAcABwAIAAgACwAHAAQABgADAAMAAgABAAMAAwAFAAUAAwABAP//AAD9//z//v/9//3//P/7//n/+f/6//r//f/9//7///8BAAIAAwAFAAQABQADAAIABQAHAAgABwAIAAcABAAFAAAAAAD+//z//P/9////AQAAAP3//v8AAP///v/7//3///8AAAUABgADAAIAAwAEAAIAAwADAAQABAAFAAcABgAFAAYABQAGAAcABwAGAAQAAAD//wEA/v8AAP////8AAPz////7//j/+f/2//r//P/9/wAA/P/7//v/+v/5//f/+v/8/wIACQAKAAkABgAEAAIAAwAAAAEACAAGAAgABgADAAIA/f/8//v//f8AAP7////+//7//f/7//z/+//8/wIABQABAAAABQACAAIABQACAAQAAwACAAYACAAFAAQABQADAAcACAAFAAQAAQAAAAAAAgADAP7/AAD//wAAAQD///n/+P/4//z/BQADAP//BwD8//P/9//4//r/+f/6////CAAAAPz/AwD7//n/BAAGAAQABAAWABIABwAFAPX/8//+//7/BQARABMACwD7//T/7//w/+//AAAGAAoADQAJAPj/7//x//j/+/8BAAkACwAHAAcACAD6//n//P/9/woACQANAA8ABQAEAPz/9f/4//z/BAAKAA0ACQAFAAYA+//7//z/AAAGAAQABwAEAP7//f/6//j/8//0//r/+v/8/////f/8//z//P/6//n//v8CAAUABAACAAIAAQADAAIABQAFAAQAAwAFAAAAAgAEAAQA+//+/wIABAABAAYAAgD6/wEA9v/7/wgA+P/8//3//P/7//7/AAD7/wQABQAAAAgA+v/7/wkAAQAKAAIABAAIAPf//f/7//r/AAABAAoABAAAAAoA/v8JAPf//f8aAPn/9f8WAAQA+/8KAP3/5v/v//r/+f8ZABEAAQACAPb/4v/n//j/AQAOABUAEgAAAPr/8P/2//v/AQD+/wIABgAJAAwADQADAP7///8IAAUA//8DAP3//f8MAA8AAwDv/zkAQQCi/5D/KgAcAOX/FgAiAC0AGwC7/77//P/Z/+f/LQAtAA0ADQD0/9n/3//m//n/AgATACsAEQAFAAMA8v/z//P///8UACAAKAAQAAYACAD5//b//P/3//P/AgAXAA4ADgANAPn/6f/l/+7/+P8AAAEA//8HAAMA8v/4/+7/8v/8////BwADAA4AEAAHAAcA9P/3//r//v8LABQAFgAHAPj//v/2//j/+P8AABEACwAIAAYA9v/t//f//P/5//7/CgAOAAMAAgD9//D/9f/0/wMAEgAIAAgA/v8EAPr/5v8HAA4A/P8GAAwAAQAAAP//+f/+/w0A/v8DABAABAADAA8AAADr//f/AQD4//3/AgD+/wIAAgD9//r/+P/3//7/CgAMAAkABgAGAP//AAD//wAABQALAAYABAARAAgA//8AAP3/AQD1//D/AQAKAAQA/v/0//H/+/8EAPb/8//8//z/AAD6//3/AQAAAPr/9v/5//3//f8HAAYAAAAEAAkABQD9//j//f8IAAgABAAPAAwAAwADAAMAAAD8//z/AwAJAAUA/v////b//f8KAPv/7v/4//z//P/8//v/AgAIAAEA/f/z//f/+f///wQA/v8HAAsAAQAGAAYABQADAAAACQAKAAMAEAAKAAMAAQD6/wcAAwDu//L//v/+//z///8AAP3//P/6//D/8P/0/wEAAQD/////BQAEAPr/+//9//3/BgACAAUACwAJAAcA/v/+////AQAEAAMAAQD+/wUACwAEAPz/+v/+/wEA/v8DAAQABAABAPz////+//7/9f/z//n/AwD///v/AQD+/wMAAQABAAMA/v8HAAkA+////woAFQARAAUACAACAAQAAAD+/wUA+/8BAAkA/f8FAAcA/f/3//T/9//5////AwAAAAMAAwD+//f/8//4//3//P8BAAIABwD//wIA/v/6//7////9/wQABwAGAAEA//8EAP3//v8BAP3/AwAFAP3/AgAFAAMACAD//wEAAgAEAAMA/////wkAAgAAAP7//P8EAPP/9v/7//n/+P8DAAkAAQD4//X/9//+//3/AgADAAAABgAIAAUAAwD3//v/AwABAP7/9f8FAAsADAAAAP7/BgACAP///v8KAAUACQD6/wAACAAKAP//9v/6////CQAFAAIA/v///wUAAgD0//v//f8IAAEA+P8BAP//AQD6//L/AQAEAAAABgABAAsA/f/6//z/BAAEAAoA+v/5/wUAAAAFAPX/+//8/wgAAQD7//r/AQACAAAA+P/+/wMA+P8FAPP/AwAAAPz/BgD9/wAA/v8DAAUACAD4////CAD//wAABQACAAIAAwD8/wcAAwABAAAA/v8GAPb/AgD+//z/9//2/wEA/v8GAAAAAQD9/wQA/P8EAAEA/v8LAAEAAwACAAUABQAGAAAABAAEAAIAAgD9/wcAAQAKAAIAAwAJAP//DAD+////BAD9//v//v/+//r/9v8CAA8A5v/o/wcAAQD7//z/9f8CAAYA+v8BAPX//v8DAAcAAAAAAAkABQAGAP3/CQAEAAUABgD+/wIA//8EAP3/+v/6/wQA/P/5//j/+f/3//n/+v/z//7/9//+//3/9//7//z/BgADAP7/+/8EAAcACQACAAAABwADAAgAAQAAAAEABAAIAP3/AAABAAEAAgD6//7/CAAAAAEA/v/4//z//P/8//j/+f/+/////f/5//z//f/7//z/+v8BAAMABAAFAP//AwAEAAAA/v8AAAkABwAIAAsACgAPAAMAAgAJAAUABwAHAAkA//8EAAIA/v8BAPn/AAADAP7/9//5/wMABQD2//f//P/8//n/+P/8/wIA///7/wEAAQAAAPz//P8EAP3/AAADAAAAAwABAAIAAgADAAYABQAJAAEAAgAEAAcABQAEAPn/9f8YAPr/7/8OAAIA+/8SAPT///8JAPD///////z///8AAAEAAwABAP//AAD3//n/AwAGAPn//P8CAAwAAgD5/wYA/f/6//3/AgD//wEAAAADAAYA/v8NAAoAAQD8/wgADQAAAAIA///+/wAA+//+/wQA+//5//3//v/6//7////+//7/+v/+//r/+P/6/////v/1//v/AAD9//T/+v8AAP7/AgD+/wUAAwADAAcAAwADAAkAEAAKAAkACgAMAAgAAwAJAAsACwAKAAMABQD//wAAAgD5//z//f/8//j/9//5//f/+f/7//7/9P/y//b/8v/2//L/+f/2//b/9f/+////+f8AAAIABgAAAAQAAwAHAAIAAQAIAAcACQAEAA8ACwAKAAcACwANAAwAEQAJAAcAAwAHAAIA/v8DAO//+P8KAPr/8/////P/9v/9//L/9//3//X/9P/3//z/+P/5//X/+v/9//v/+/8AAAMAAAACAAMABwAGAAYAAgAAAAMAAwAEAAMABQAIAP7/AwAFAAcABwACAAcABQAGAAMAAAD//wYABAD8//7//f8DAP//+f/5//j//P/9//n/9f/9/wIAAAD9//z/AAD9/wAA///+////AAABAAEAAwD//wEA9v8AAAIA//8BAP3/AgAAAAQA//8AAP///P8BAAEA/v8EAAIAAgAIAAUABwAEAAQABQAKAAkAAwACAAcABQAFAAcAAwAKAAcAAwACAPz/AAAEAP7//P/8/wIABwAAAAAA/f/5/wAA//8BAPr/+v/3//n/AAD9//3/9//3//j/+v/3//b/+f/8//7////+//v/BgAGAAgACAAGAA0ACgAQAA4AEQAKAAYACAAHAAYA/f////7/+v/4//P/8//x//T/8//x/+z/7f/y//P/9v/1//f/+v/4//b//P8BAAQABQAIAA8ADAAHAAkADwAVABcAFwAUABgAHQAUABUAFwATABEADwAOAAoABwAGAP//+//7//v/9f/s/+r/8f/w/+b/4P/g/+X/4f/c/93/2v/i/+j/6P/o/+3/7//1//n/9v///wgACAALABQAGQAeACMAIwAoACkALAApACwALAAnACYAJAAfABsAFgARABEACgD//wIA+f/z/+j/6f/r/+L/5//k/9j/1v/Z/9P/1P/V/9X/3f/a/9v/3//e/+L/6v/w//D/9f/4//3///8GABEAEwAXABcAHQAoACoAKwApACsAMQAwAC4AKwAqACMAIAAeABgAHAAUAAMABQAAAPf/AAD6/+z/7f/r/+3/6P/h/93/3P/T/9T/3P/Y/9j/3v/b/9j/3v/i/+T/3f/l//L/6f/0/wUA/f///woADAAbABkAFwAhABgAHAArACwAKwAvACgALAAyACEAIwAmABcAFAASAA8ADwD//wEAAADu//T/+v/z//D/5v/k//P/5//Y/+n/4//c/+X/4P/l/+f/5f/t/+3/5//t//L/9f/5/+//8/8AAP//BgAOAAwADwAVAB0AIQAgACEAKAAoACUAJgAoACcAIgAsACwAHwAfABoAFgAYABIABwAIAAgA+v/0/+//5P/d/+T/2v/M/9D/0f/M/8z/1f/T/8z/1//W/9T/3f/f/+H/5v/m/+v/8v/0//v/AwACAAYADAATABoAIQAoACwALgAwADAAMQAvADAALAArACsAIAAWABsAFwAOAAwABgAAAPb/8v/w/+f/6P/i/9z/2f/Y/9f/1f/T/9b/3v/g/+b/6f/l/+3/8f/1//n/9v/6/wIABwAJAAYACAAMABEAFgAUAA8AEwAZABAADgAXABYAGwAeAB4AGAATABcAFwAUABAABwAHAAIA+//3//f/8f/j/+X/6v/t/+b/5f/k/+r/7//s//D/9v/5//j//v8GAAAA//8MABUACQAHAAwAEAANAAsADQAPABIAEAASABgAEAADAAEADAAKAA0ADgAOABIAEQATAA0AEwATABAACQABAAMACQACAPn/9v/5//f/7v/o/+r/6P/f/93/5P/f/93/5f/s/+//7P/q//L//P/+//r/+v8FAP//+f8BAAUADAD7//z/EAANAAcAEAAZABIA/v8UACIAEwANABEAFwAZAA0AHQATAAkAAgAMAA4AAAD8//3/+f/0/+j/5//n/+T/5f/s/+r/6//m/+z/9f/v//f//P8BAAEA/f8NABAACwAVAB8AHAAVAB8AEQACABAAFgAMAAUA///2//r/9P/z//v//f/5//X/+P/+//v/8v/x//z//f/6//n/9v/y//D/9f/t/+3/6v/v//H/7f/j/+n/8P/w//X/+P8DAA8ACQARAB8ALwAgACgALwAsACgAJgAkAB4AGQAWABQADwAEAPb/9P/1//H/8//t/+z/4v/S/+D/9v/y/+3/5v/q/+X/5f/s/+v/9P8AAAAA9f/q//P/+//2//b/9/8DAP//AgAMAAUABwAPABQAFwAdAB4AHAATAA4ACwARABIAFgATAAwADQAKAAkACAAKAAEAAQAAAPz/8//s/+j/6v/x/+j/4f/1//z/+v8CAAYABwADAAoADAAMAA0A+P/w//T/9v/4//D/+//5//P/6v/g/9b/2P/f/wMACgDE/9L/NQBTAAUA3//m/xQAJAAlABMAIAAjACQAHQAVAA4ACQAiAB4ABAAYABsAIAAqABgADwAeABYACgATABEAAwDt/+n/5//k/9r/0f/P/9X/y//J/8//v//F/8P/zf/U/9X/3f/o/+H/3v/t//z/9//4/xQAKQAyAD0ASQBIAEgASgBbAFMARwBNAFUASAAwACIAJAAeAA8ABQD7/+7/4P/P/9//2v/Q/9f/3v/n/+b/1P/V/9X/zv/P/8z/1v/e/+T/7//m/93/5P/s/+n/8f/y//j/DAARABsANQA0ADoAQABCAE8ANwAwAEoAQQA1ADIAFwAbAA0A+//z/+7/3f/T/+n/4//P/9D/1//T/9f/zv/O/8r/y//H/9P/4P/e/+r/FgD1/xIAMwAoABoAHwAqAD8AJQAtABcAIQA5ADEAGgADAPf////o/93/9//9/97/3//z/+X/3P/d/+7/5v/O/9H/8v/c/9v/HQDx/+X/BQAAAPH/AQDz/w8A//8EAB8AIAAMACUAKQAWADoALQAjAD4ALQAcAEkASQAzADUAHADW/5b/j/+0/8//3/8KAAwAyP+y/8r/0v/E/87/6v/r/9X/7v8AAPD/5//b//H/AgABABUAIwAdACAAOgBMAFIAVwBBADcAMgApADEANwAmAB8AEgAbABkAGAABAA0A8P+r/9L/FQDm/6z/zP/t/97/uf/M//7/8f+o/+H/BQDt/wMAFwAMAO7/xf/d//z/CwAoAEoANwAZACUAPAA+AEQAPQBaAEgAOAAoACAACAD3/9z/vAAD/tX+tgIm/+392wCD/wD/VwDQ////CwBt/3T/dQCV/5D/XAD+/+D/yP/1/wwAJwAlADsAPwAzAC0AVwBnAE8AaABeAEAALwArADYARgBIADAAKgAJAOv/+P/q/7r/xP/s/9r/qv+y/7z/0v/U/8b/3//k/+P/8P/o/8n/6v8PAA8AEQD4//H/BwAXADYA9//p/1cAfwA7ACcALgBsAIMARwAZADEAPwAUAPX/zP/S/+b/6//P/5//o//J/9D/1f8LAMP/hv+D/6T/uv9XAFEANgASAM3/if+9/2z/cP/i/yEAOwB5AFIATACQAHwAYgBqAEEALABZAEoAPQBZAFoATgBLACQA7v/d/8j/tv+4/57/jP+x/8D/qv+f/4z/hP+c/7D/tf+//9//5v/u//n/AQAPAAIA/v8YABwAFgAlAEgAQwBRAIAAhgCNAIkAdABPAEoARwA9AC0AHwAuAAoA6v/h/9//zP+o/8z/4v+j/4j/p/+S/4D/gv+C/63/nf+C/6j/of+T/8T/2f/h/wQAEgAoAEcAKQAwAGAAXwBTAFIAYgBfAHUAcABZAF8AZgBdAFAAMgA1AEcAJgADAPr/+f/t/9H/2f/j/97/2v/S/7n/v//E/9L/wv+5/+H//P/v/9D/uP/S/8L/2v/l//D/AQAbABkABAAOAC4AOgAsACEALAAUAA4AHQAgABcAGAAoADMAHgAgAJn/qv8iALr/7P/w/4L/LwCj/4n/3/+I/9v/5P+n//P/1v/i/xgA5v8JACQAEgApACYANgBXAF8AZgBjAF0ARwBVAEYAQABmAGIANQAWACEAEQD3/+f/zf/i/+b/1//Z/+P/7f/m/+//zf/W/+L/7P/3/wYACADa/97/5//a/+T/+v8UACsAIwATACEAGAAiADkAJgAaADUAQwA0ACAAHwAiACYAMAAjABAA8//f/8r/q/+m/8D/yf/I/8z/vP+p/63/qf+0/8H/zP/L/9n/6//k/9T/3f/r//n/CAAbADsAUABLAEYAOwBGAFQAWQBiAHEAcwBlAGMAWQA9ADIAJwAcAPj/5P/g/7j/rf+2/7D/mv+b/6b/pP+k/57/lf+c/6//qP+3/8r/xv/O/9r/6v/7//b/+f8HAAMACgAUABoARABUAFUAYABKAEsARgBIAFgAawB1AHgAZwBEAC0AFQDp/93/0/+8/7f/tP+7/6j/nv+O/43/hP+K/5r/jf+Y/53/l/+d/5v/sf/I/9j/6//x/xAAMgAuAEUAWgBiAHsAkQCYAJoAmQCHAJEAkAByAHgAdgBvAGEAVQBNADoAKAAUAA8A+//g/9f/zf+8/6P/m/+S/4r/mv+e/6P/oP+l/7r/xf/K/9P/5P/p//T/CgAgACEAJAAxADsAPgBJAEoASgBMAEUARQBBADsAOgAwACUAIAACAP7/EgD6/+3/8f/7//H/7v/m/9j/1//Q/9X/xv+3/8f/tf+3/8b/xf/X/+D/7P/3//3/AAAHAAoABwAZACYALAAyAD4AUABOADsALAA1AC4AHwAWABsAHwAcAAkA/f8MAPD/4f/z/+H/6P/y/97/3f/U/9D/0f/V/97/xf+y/7j/zf/K/8X/z//e/+T/5f/1/wIAGAAtADIANwA7ACMAKQAvACIALAA+AEQAPAAZAPj/5//J/9X/7f/+/xwABQD6/+X/r/++/87/zf/9//3/6P/y/+X/0//a/9n/3v/2//j/9v/x/+//DAAZAB0AIgARABAADwAhADYA4P/1/08AMwBtAHAADAAXAPv/3f8LAA8AGgBhAHwAPgD3/9H/wP/T/+D/AQAaAAIAGADw/7D/j/8//1T/z//4/zYALwDO/8j/nP97/9L/BQA3AF0AMgASABwA/v/1/ysANgBHAHAAUgBSADkA//8GABUAEAAmADAAKwAgAPT/2v/Z/9T/2f/W/+T/6f/i/9j/zP/N/8P/zv/o/9//5v/f/9f/8P/f/+f/BAADAB0AIQAoACsAGQAeACoAIgAUABkAIAAkACQAGgAzACwAEgAaABQAFAAsADUANwBDACAAJQAuAP3/BwATAPX/7P/d/9P/4//i/9H/8P/X/7r/yv+i/6T/mv96/7P/x//V//b/9v/m/9D/wv+x/87/8v8LAFAAVABQAE0ANwAnAB4ALABMAHYAjACGAJAAhQBuAHMAawBYAFQARQA9AC8AIgAVABcAFQD7/+b/zP+x/6L/nv+f/5z/lv+S/8H/3v+D/0P/Q/9s//r/MgAgANr/Nv/2/iL/jf8VAIQA6ADgAFwAxf9w/2X/uf89AMIAGQH0AKEAWQD8/7X/tP/y/1kAgQCEAHsAWQAbAO7/1P/B/77/zf/5/yAAIwAiABsA+v+0/33/a/+T/8f/4P/x//r/1f/B/6T/dP+0/3H/sv/b/6T/9P/e/7f/4f+Q/6L/+f8EACsAaAA+AEIANAAaAEYAUQBiAIkAgAB8AJAAYgBOAFAAQwA/AC8AMQA8ACQADQAKAO3/1v/Y/97/0f/O/9//5//Z/8j/yv/P/7v/xP/S/87/vP/S/9f/2v/V/9D/zf/l/8X/VQBo/wAAbQBa//QA2v+O/+MAQf8mAIoAZ/+KAJoA4P+lAEkA2P+wANb/SACFAC0AbwBVABQAEgAlAA8A6f/B/xgAIwBDAN3/r//b/7f/mv93/4D/xv/7/x0A3v+q/57/wf/P/8D/s/8LAFcA/P/l/+P/+P8GAAYA+v8WADwAUQBgADkAIgA+ADcACQD9/woAFwAtADEADwDu/9r/7//m/+j/BAAiAC8AJAAEAP3/8P/2/wwABgAYACoAHAAQAPX/4v/g/+L/2//Q/8T/wv+6/7v/uP/M/9n/3P/d/+L/7P/7/wYAHQAyADoAMwAxABoAHgAtADcATABMAFMARQApACkAJAAXABMAFQALAPv/3v/J/9H/1P/e/+D/4f/Y/8z/yv/D/8v/1//g/+P/6P/4//v/+v/6/wYAFgATAAoAAwACAOn/7P/z//D/+f8CAAsA/P/m/9v/3P/1//f/FAAlAB4ALwAoACUAJgAbABwAKQAaAAkA/f8AAPz/8//n/+v/9v8IAAoAAwDz/+n/6v/w//b/+f8LABYALABGADQAJAAmACYAOgA+AD8APwA5AC4AMAAZAAcA+f/0/93/1P/M/7r/0f/W//H/+v/g/+n/8P/s//H/7f/f/+H/9f/z//P/3f/Z//H/5v/p/+j/8f/o/+D/x/+1/53/uv/H/+D/7//n/wQADAD//xsALABbAI4AfAB5AHcAYABRAFQAVwBcAFsAWgBbAFAAIwAOAP7/6v/l/+D/5f/w//P/4v/d/7T/nP+X/53/o/+r/7T/vf+3/7X/sf/E/9f/3P/V/9L/wv+5/73/vv/Y/9v/1//h//L/FwAJAAoAFwA1AE0ARgBbAF8ATQBVAFUAWABZAF8AZgBcAEwAPgAiAA0A6v/h//X/4v/U/77/sf+x/5b/lf+U/4//kf+M/7H/wf/d//3/CwARABYAIgAYAAMABQAQAA8ABAD7//L/5//o//P/+P8FABIAEgAXABsALQAxAEEAPQA6AEIAOwA+AEcAQABIADcAHgAaAAQABAD8/93/6v/5/+//3P/J/8n/zv/S/97/8/8NABIAJgAhABEAEQAYACMAIAARAAIAAQD///3/2//g/9//1v/t/8b/lf/E//X/FgAJAPD/GwA9ADQAPgBSAFoAaQB1AG8AYwBdAFQAYgBlAEIAKQAVAAIA9//x//D/4//R/8b/sf+f/7T/1f/Y/8b/qf+h/5D/hf+I/63/0v/d//f/BwALAAMABAAOABoAJQAwADwAOwA5ADEALgAzACUAEwAPAPf/4P/h/+//6v/B/4j/qv/r//L//P/Y/97/DgAmABkADgDz/93/7f/5////DgAHAB4AOAAtAAoA+f/Y/8P/2//j//f/9//6/wkAHQA+ADYAIAAQAAIAHAAvAC0AJwAaAA4AAwD5/9v/3//1/wEACwATABoAEAAJAPb/DQDq/+3/9v/d/x0AHwATADEAEwAHABUA///o/wUABADN/9b/vf+0/8b/jf+Q/8f/xP+s/9T/0/+w/wgABwDw/1YABwDv/1EAMAAYAGQAVQAzADsAGAAPACoA9f/X/xMA5v/R//3/8f8fAEkAPwA+AEwANQAhACoAWQCBAHwAfAB0AFYANwAjACEALgAeAAIA/P/X/6n/KP9a/x7/KP+U/zn/bv/E/0r/g/9//1z/jv/G/7X/x/8HAMn/7/8nACkAMQBIAF0AcgCFAJAAfgBcADQAMgBaAEIAKwBXAG0AcQB7AHQAPQBNAGYAdgBoADsAHQDh/+P/yv+1/8T/sP+8/5P/a/9W/0v/U/9c/2z/Zf9G/0z/Pv9P/2f/hv+9/+r/DgA2AFcAfgCaAJQAqwDKAN0A6wDwAOkA1AC5AKAAlwCJAHIAXABQACgADQDi/7D/hP+e/8T/yv+r/3r/W/9U/0r/Sf9Q/1z/ef+P/5//pf+q/7L/uP/i/w4AKQA7AD8ARAA8ADkAMgAoADQAXwCHAIkAgQCNAJwApwCvAK0AnQCZAJQAcQA/ABQA/v/y/9r/y/+//6f/kP9//1T/Hf/5/vj+Av8m/0j/Xf9l/3D/nP/H/9v/BQAsAFcAbAB7AHgAhQCdAKwAsgCoAJoAkwCVAJwAjwBpAEcAOAA7ADUAHwALAP//7v/Z/8P/qP+e/6n/tv+z/6r/g/9n/2X/Zv9r/33/tP/J/7T/qv+t/8X/wf+z/9P//f8OAC8AQQAyACgAKwBIAGIAWQB0AKAAywDZALsAlwBgAEoAYQByAG4ASAAkAAAA/v/i/8L/wP+4/8r/pf9//1H/Rv9T/1//cf9w/3//pv/C/9b/3P/w/xUAJwA5ADMAVABmAIIAkgCDAHIAQQA0ACsARgBHADUAHwAGAP//8f8LABMACwAAAPn/BQDz/9z/wv/N/+D/1P/H/7P/kv+R/4z/pf/L/9X/xv/K/+D/zv/D/77/yP/Z//r/HAAkADIAOwBBADAAFwAwAGMAZwBqAH0AfABbACQACwAuADgANAARAPX/3/+8/5b/ev+T/7T/uf/A/7P/gf+C/7H/1v/f/+v/+v/y/x0APQBcAE8ANgAuAD8ATgBVAGIAVwBGAEMASgA2ABkAFAD1/9v/3P/F/7L/pP+p/7//4/8CAO//7//t/9X/qv9w/3D/k//K/8P/uv/I/8H/y//d//T/BQAWAEEAXwB2ACcAEgAlAE4ASgBSAH4AqgDEAMMAqACZAJEAmACcAKkApQCNAGUAKwDl/6f/ev9+/3//i/93/1f/NP8j/zP/IP8y/zf/Yf9y/6D/xf/I/+3/+v8xAE8AnAC3AKkApACRAMYAuwC8AJ8AlQCjAIsAjgBgAGMAOAAdABgAHABNADgAFgDv/+f/xP9w/4H/rf+5/6L/af9a/yb/AP/6/hf/Nv9h/4r/h/95/4H/rf/t//j/4P/Z/xQAJAARAAUAFwBfAJ0AywDzAAQBCAHrAM0ArQCSAJMAtgC6AJ0AWgAaAOv/7v/r/9v/0/+//5z/cf9g/0b/EP/v/hj/cP+g/5H/kv+r/8H/9P8XAEAARwA8ADQAEgA2AEoAQwBCAE8AcABaAFIAFgD7/+j/2P/L/6z/yf/j/wQADwDy/8D/s//S/+H/+v/9/+//4f/F/6j/p/+2/+v/BAAWAAkA1f/X/+b/BwD5/+//vv+U/7X/wv/X/+3/DgAqAB4AWQCEAJcAnACmAMUAsQCfAJ8AxADTALsAkQAsABEA2P+L/5j/hf9t/1v/X/+C/1D/Sv9i/2P/lf/B/9f/zP8UAHIAdgBkAHMAMQAgAFgAdQB9AG8AhgBcABYA9P/R/8L/x//F/8T/1v/t/9z/0//h/9f/3f/V/73/1//x/yYALgAXAOT/t/+e/47/pP/S/+3/DAANABEA/v/d/9L/1//8//z/+f/r/9D/0//q/wwAEwA8AF0AZgCrALQAsACsALgAiwBmAFwASABIADUA+v+8/6H/jP9Y/0v/V/9k/13/U/9S/2j/rP+z/6X/uP/s/04AhgCwAKwAlwCfAKcAigBMAFkAfABmAEMAGQDy/+b/7v/c/93/5//c/8L/tP++/8z/2//Y/8L/3P/v/+n/2f/b/+H/1f/b/7P/jv+c//v/GQDt/+//8f8eACcACQDq/8n/4v/w/x4APQApACkAXwC1AMMAjwBqAJ4AywC/AJwAngClAF0AVQBVADQAJQAKAMz/r/9U/xz/Pv9S/0L/Gf8S/yL/MP9W/9H/9/8AAPr//f9nAHYAiQCBAKUAqACOALEAlQBcABEAJAAkAB0ACQDN/+D/7//H/6P/lf+F/4v/pP+2/6f/wv/T//D/KQA1ACAA/P8OAMr/o/+3/8X/0//a/+z/8P/l/6//kf+B/47/qP+3/7b/f/+Y/+L/IABJAGMAZACPALMAugDOAAQB5QCKAHYAdwBTAA8A3v+8/6n/ff9V/w3/2P7c/gL/cf+I/2//Xv+n//3/CAAcABUAewC5ALgAmQCHAIoAWACSAM8AqQA6AOH/7P8FACMA4f/y//j/y/+t/6T/tf+1//r/PQAzABcA9f8HAFsAZQBFAFMAbQBLACUAKAAbAAwAAwARAAcA0f+d/5T/oP+z/7P/pf/H/5f/jv+2/7v/1P/T//L/YQC3AL4AvwDTALUAeQCHANQAqwBhAF4APwDs/5T/Tv9D/zT/OP9K/03/H//t/hD/cP/I//D/AgAMADIAWgB9ALEAqACyAMsACgEbAb8AbwBqAGcAIgACAPX/6//G/3z/gP+F/2v/Wv94/3T/Pf8I/yH/g//1/1AAMQAfAEsAGQD3/xoAQAAQAOX/nf9z/6D/vf/0//P/7P+u/7P/AwDf/7b/Qf/l//IAewBnAIMAGAA0AGQA0gBbAYgBEQF2AIwAZAAeAB8AAgDN/8D/if8q/xD/B/8a/17/l/99/3D/oP+s/8f/+P9XAGIAYQBfAIAA1gDUABEBAgGoAHgASQBDAAcA3v/W/8j/nP9e/2P/Qv9P/4f/nv97/3H/pP/O/wYAQQAsAMH/tv9BAGIAPAA9AD8AYABqAB0Au/+U/3v/rP8IAMz/Q/8q/3X/pf+V/5r/1/8kAC0ASwBZAC4ATgC6AEABPgGJAIkAygCwALwAdQA7APr/rP+2/7P/cP8R/+r+6P7z/gL/7/4H/0f/3f9GAF8AhwByAE8ApADVAMgAIQFHAQYBEAHQAG4ARgDx/87/7f/h/7H/df9R/03/Jv+T/xMAeP94/9P/iv8OAG4AOgBaAIMAXAB1AKUANwAPAP3/uv/K/wQAuv9T/2L/a/9h/3//0v9s/wz/Ff9O/77/+//m/ykAKgAMAI0A2gDxAB4B9gDbACUB6gCnAMcAVwArAEEAk/8c/0r/A//l/t/+4/5T/6H/df92/8j/rv/I/zoA5gCzALAACQH2AM8A3wCiAJUAogBeAF8AxwBHAKX/gv9o/2v/nv+K/wT/Qv+W/43/9v/Q/4T/EwA2AP7/9v8TAPH/KwBJACkAMwA1AAEACgA4AM//4v/o/3z/BwDX/63/uv85/17/cv+O//j/DwA4AEwAqwCzAGUA8gAZAQsBDgErAVoB7wDMAOcAjwAvAJT/dv+N/zb/K/8z/8P+af6Z/sb+6v5i/1f/hP/d/8b/uf8IAHgAxQD5AOEApwBYAJEAdQCAAMcAaAAqABUAlf+A/7P/wP+Z/2j/k/92/4v/tf9//8j/cABTAAAAtP+F/7n/9f8eADcACwDT/7b/uv/M/ykAEgCf/4z/fv+H/8n/BgAcANf/5v8AAO7/HABrAMAAIwFDAaQAVgCqAJMAngDZALsAnACBAEIA9v++/1n/Dv9j/0v/9P7g/tP+qv6W/uX+E/8Q/1D/Xf/U/2QAOQApADYARgCVAPoAEAEOARIA4/99AU4BiQAoAM//QgA9ADUAWQDa/+f/+//3/ykA9/8oANEAOAH+AMQAPgAIAFcAigCDADoAwP9h/x3/HP8e/yr/I//+/tP+j/53/jv+av4J/0P/pf/M/4z/lv/K/2oAkwD+AFoBZwGpAY8BNQH3AEoBwgGIAbsBGAGaAKUA0/+MAIUA/P9WAOr/2P+6//D/GwAFAMkAQAC3/+T/Yf98/9X/4v+K/2//Kf/5/mf/df/X/nr+Av8E/yv+B/8y/23+Rf8B/0j/BgDO/0gAlwD5AMMAUQAjAeYAegDnAOQATAEeAdcAIwHSAMIAkwBZAAAAmgDtAM4ADAFHANX/1f8L/wz/N/9m/9v/8P89AF//jv8xAHf/s/8NADj/t/9A/y//uP85/03/jP9S/2v/cf9F//z+H/+E/4b/r//X/6b/nP/r/yYAdgDYALAAjwCEAIsArQDrAAIBXAHWAIwAuwCGAJgAiQBwAIwASgAoAOv/wf/Q/5z/jP/J/47/9v4v/6//gv+y/z//D/+K/2L/9v+q/yMAYf+o/j0A/f+B/5H/if/t/xT/SP+bAFsA7ADa/+n+ZQBiAJcAcQC5/4kBvAGuAXIB6P8pAFoAbABtAU4B8QA1AD8AeAApAHIAEQAYABEAc/9v/0n/E/8Y/9T/GQCeAHD/nf8IAGb/hv/E/9z/IgBv/4f/DABQALX/IP+Z/0n/sv8LABQACQAaACQA+P/f/5//4f5v/44AsgC4AJIAJADf/0UANwBCAHEAXwDBAMn/IP8sAC0AKAB1AEYARwDS/6r/+f/O/0wAMAC1/2wAeP7f/gMB0/6h/tv/a//Y/7//wf93AN4A8wCK//j+P//e/rf/TgGYAdgAqQDq/0j/r/+N/5j/1f/J//r/XgBtABkAEQBjACUAWgDRAN4ALADQ/9n/r/8oAPz/qP9rAFwADAAyAMz/j/9x/zD/av/E/+P/1f8HABEAsv98/9H/Q/+GAGb/K/+/AnH/1v6lATf/zv+r/9P+lwAiAREC1ABRAB4Bqv7r/h8ACAGRAbUBvwFDAAYAMQB1/n3/CwChACQBqACG/yj+hv7bAcMAYv+yAc3+K/4UABj+//7U/0kA0/+y/2oABv8x/64AJAHrAToBCgA4/0z/DQAFAJ8AlwApAEkAtv91AOUAwv/Y//AAjwDz/+//ZP+k/tX+tf9fACgAp//s/nz/AQCv/1UAKACw//P/6f/P/9n/l/9B/2z/EwDc/+P/XAAYAJn/uf/Y/9L/IACz/8P/YwAvAFgAEwDj/yMAHAAvAEEApABRAP7/bwAuANT/x/81APv/7/9dAO7/4f/F/xP/E/9s/8f/bwBfAOv/vv9N/x3/qv8LAFkASwCBAKkATQA4AI3/yP8CAe4ADAHsAD4At/+c/2IA0ADuAMMAawBVAHz/Zf8DAPL/YgBWAMX/Wf9H/y//f/8GAM//r/+B/3T/CwCx/3f/1//s/+T/s/+l/yX/Rv94/6L/awBcABUAXAAfANr/+/+HALIA0AC8AHEAeABXADgAJQB8APUAlQBJAHUANADu/9f/b/9Q/2H/Wf9I/5r/bv/w/nH/s/9x/0P/tf+1/xUA8P/1AMIA0v4YAQQC6/+WAWkBLP+4/xQBiwAHAd4BfwCQ/28AFwBg/6D/6P9V/3b/X/+z/oH+SP93/sj+IABI/7r/WQBd//T+3P6l/9n/8P/ZALwANgB/ACYAy/8sAPEAjQCTAI4B4ABsANcAWwDE/+j/kQCFAGsAAgHwAGEASAAOAH//t//T/yL/Jf+5/4cA9P84/6b/bv/3/lj/KP8m/6//vP9w/8T/sP/8/qr/WwB1ALcARACt/4X/ZP/u/5QATQDn/3MAoABIAEkAJAC+/8v/XACNAHcAwQCSABYA9P9GAG8AiwDAALH/SQAYAcX/sv/NAD4AnP9H/6T/yv9yABoAu/46AHcAvP5y/wwA5/+R/2IAuQAuAE0A9f/g/0gAlAD0AOEAcABwABAAIAB9AOn/6f/K//H+Q/+V/3//w/+//3z/Rf9o/43/qf+q/43/0v/K/9v//f9IAJsA4f8y/7n/qgAfAaEACgDt/yMANQARAGQAEwCL/zoA8ABcAOj/rgBfAAEAwwCGAOH/gv+9/93/vP/y/0QACABX/w3/h/8//9P/fP+I/tn/MQAx/yv/iv9a/3X/FwDA/5T/SwCsAOIAJgF/AN7/WgD7/70AzgFsAZkAaADW/1L/ogBsAUkAJQANAIj/IQBBAI3/uf+Z/zH+jP58/wv/PP+1/1H/mf/H/xL/7v73//j/IgByAF8AWACQACEA3v8DAJn/Uv9/ACkBkACvAPcAlwBxAMr/bf/2/yIA+f+JALQASwBIAH8AUwAyAMr/pv8EAEwAFgDr/4P/ef/A/yAAEADv/+X/n/+t/zMAVwAkAEcAbwBXAEIAJQA6AIcAWAAZAH0AdAD6/8z/1/+l/7P/b/9Z/3H/eP8Q//b+Qv9t/3j/m/95/37/kP/o/1gAZAA/AAYACgA2AKcAmwBuAJYAygDSALkAqwChAJoAvwCqAP3/lf+4/+b/9f/p/8n/r/+q/63/qv+C/3P/w/8vAA0A9P8EAB0AOABGADIAwP+z/93/DgAJANb/+f8IABsAOQAdAOL/uf/6/x8A9P/a/xAAVABiAFQANQAFAB4AJABvAEAAwv+7/6P/nP+q/9H/5v+4/57/uv+B/0D/Vf94/7D/3v/z//b/3P/w//T/4f/4/0QAWgCBAHAACABXAL8AgQA6AGcAfQBcADoAPgALANv/DQBYAHMAJAAEAAcAGAAnADcAMQDq/wUASABjAD0A6v+t/8T/wv+U/6X/jP9t/2f/iv+E/2L/b/+L/33/df9c/43/5v8pADEAGwA1APn/3f9EACcACgDe/yIAQAAXAPL/+/9GABoA9v/3/8//2f8yAJAATAARAAEACwA5AHAATwBGACoAXACDAHEAlgCZAHUAVAAgAB8AMwD//8f/rv/N/8//u//Z/+3/y/9z/5z/6v/4//D/9v+8/33/4P89ABQAuf9P/yX/Z//2/ycA7/+w/3b/gv/k/xEAMAAqABIA4f/m/0UAXABkAC0ACADg//L/RwBoAGkAKwAOAPX//v9cAGUALwDw/xcAUgBgAIAAOwAFAAQAHQBUADcAGgAoAE8AHAD4/xUAHgDt/6T/of/M/xIA/f+r/73/r/+4/wUA/P/i/7b/5f/6//P/EAD3/wMA5f+6//P/JQAcAAcA+v/c/+H/IgBaAIUATQD5/73/o//O//L/BAAxACIA+f9nAH4AHAAGAEsAPgDb//v/HwAPADoAVQCIAHcAOQBWACMAxf+w//D/GgAwACIA6f9DAA8A3f/9/7//jv+1/+z/zv+d/3z/QP9O/4r/2P/M/5v/g/+A/7P/5v/k/+n/8P+2/9D/+/9KAEsAJQBPADQARQB5AJUAgwBlAFMAJQAYAI4A1QC6AJcAVwAeAOn/EwAIAN7/5//H/7v/w//p/+L/pP95/1D/hP+u/7D/qf+T/73/6f/h/8X/jf+H/6v/1v/W/7T/k/+h/+P/AQDc/+f/CgAaACUAMAD2/8r/+f///ykAQQBFADgAGAAZADIAWQBIAC0AHgAXABsADQAeACcADgAgADMABwD6//f/JwAkAAUACAAFADEACgAHAAcA9v8CAPP/7//m/+v/+/86AGAACADK/9X/2f/w/xQA9v+v/5j/qv++/wsAGQDc/4z/aP+O/8P/JwBCAOz/p/+9/woAKgAlAPj/2f/Y/wgATwBUAAsA+/8YAAsAGgBSAFwASwBSAFkAUQBLAGQAeQBxAEkAHgBPAE4ASABQAE4ALQARABQAMgBFAAIAv/+5/9r/xP/U/9P/tv++/6b/x//A/5X/pv/A/9P/8P8sADIA5//h/wEAJQBEABAA8P/t/+f/GwA8AD8ABwDh/+P/0v/9/ygANQAKAN3/v//y/3AAjgCPAHoAJgAVAF8AjQCYAHYAWwBOAEkAZwBgADUA8f/E/+7/8f/r//T/rv90/2z/mf+8/7X/mv9j/1L/af+A/6f/wP/U/8D/sP/M/+r/DAARANb/mv+5/9//5P8IACgANQBMAFEAUwBQAFQAVQBcAGYAVgBYAFAAQAAwADgAQQA7ACwAFgAlAAsA/P/o/87/xv/A/9r/wP+I/6P/yP/G/6//rP+d/6H/wf/K/8D/xP+2/6j/4P/7/+L/9f8xACQA/P8oAC0ACwAkAC8AHAAqAE8AYQA+ADEAFQDj/+3/KQBjAGIAOgANAAcACgAHACAAEADu/+z/8v/Z/8//zf+o/3P/bv+c/6L/sf/Q/7j/qP+s/77/t/+2/7H/s/+//7f/xP/g/+v/6//s//j//P8AABkAGgAkADgALwAcACYAQgBMAEgARwBDAD8AVwBoAGEAQAAZACgAUABtAHkAZwBJADMASQBfADcA+P/h//L/AwASAAQA0//C/9D/1P+3/6z/sf+n/67/zv/M/8//2//S/8b/0f/9/+7/5/8FAOr/y//h/xMACAADAAgACAAFAP//AQAHABAAKAA3ADcAMQAxAEgAUgBZAFMASwBNAF4AewBlAGIAXgBKAFoAXgBKACEABQAHACAAIgABAN//1f/e/+H/0/+w/5b/k/+q/77/vP+u/7v/y//H/8n/yv/Z//3/DgASAA4AGQAYACkAMAAWAAwAKwBVAGsAXABDAD8AOgA8AEAANgAgAAcABAADAAgA/f/+/wIA/f/6/9//0//T/9D/zP/O/87/0//c/9n/0f+1/6r/vf/O/9b/2f/X/9j/5v/2//P/4P/N/9b/+/8MABQAEwATABsAFgANAAcA+//w//b//f8FABsAKQAdABwAHAAiADEAMQAhABsAGwAiACYALAApACUAJwAkACUAHgAPAPX/4f/j/+r/4//W/8X/uP+5/7v/tP+0/6X/of+t/7b/uf+z/7H/vf+//8T/yP/U/+3/9//y/+3/8v8EABMAGgASABUAFQAPABAAHAARABsAKwA3ADcALQAnABoACgD6/wMAEQAFAAcAEQAQAA4AAADp/+H/5P/n/+v/6v/w//H/9v8BAAsABwAJABQAGQAaABQAEwAUABAAFAAXABIAGgA4ADgAHAARABIAEQADAPb/+f/n/+n/6P/Y/9H/2//t//H/9f/2//j//P/9//3/CQASABgAKwAzACgANwBJAEUAQQBIAGAAWgBEAEUARwA4ACAAEQALAAAA+v/s/9z/zv/N/83/0P/W/8v/0v/X/9n/2P/A/8X/1//b/+n/7f/5/w0ACQABAAoACwABAAwAFQAfAA0ABQAaAP//DAApAAsA8//8/zAAMgDm/xYAQQAhABoADAAkAAwA5v8aABIA0v/2/y0ABQDj/wEABQDr//T//P/c/8f/BQANANL/zv8LAM3/v/8RAAUA3f/p/zQARQC0/8b/LwD2/7//vv8LAPf/w/8YABQA1f/T//L/CwC+////HwDR/ygAFwAbADAAIABAAAsAGgByAA0A5v8/ADMABwD1/0MAJgDd/wMANwAUALv/6v9cAPz/s//x/xIABwC5/7n/JAD+/8z/BwAXAPj/3P/R/yEA7v+H/+f/HQADAIP/rP+pANf/j/83ABEAwv/b/xgALwCp/7D/hwA1AKv/yP97ACgAxP/z/zEAEwDq/2sA8f8YAG0AOwAZAEAACgBRADYACwAjAAgAGwAfAAwAvv/p//3/BACr/8f/GwCP/63/EADW/4//qv/S/+j/sP+x/9z/0v+n/9v/KgDW/8D/HQBQANH/FABHAGcARAAdADkAJgBSADcABABiAPP/9f9EAC0AHQC2/+3/GADo/9z/qv/j/wEAvP/k/xoAyv+0/x8AQgDp////KAA4ABsAVQAlAAYARQD0/zUAJwDE/ygA+/+///L/3P8fAJb/4P9SALr/9f/W/xgAIwDh/+H/TgBFANT/JAA0AO3/3v8qAEAA1f+y/0MA/f81AA0A4v8MAA8Awv9FAPj/t/8XANj/yP8SABEALwDa/+P/GgCs/ycABgD7/+X/+f///ygABwDw/xoAKAD8/xoAOQAVAD4AJAA2APj/WAAkAAMAMgDN/8f/DwDT/8f/EADc//D/9//m/6D/3P/g/9f/uf8JAOn/EQAcANX/JQDL/xkANQDI/yAAxv8CAPr/8f9cANX/mv8VAAsAcf+h/0IA7f+e/5v/5v8ZAIr/yf8rADkAif+E/3gAQQC1/+v/kQBZACUA6/96AKAAJAACAIgAqwDN/xIAZwBHAM//GQASAE8AvP+t/y4Apv+K/6b/BQAEADr/of/1/5f/6P/0//P/5f+i/yoAPQCe/7//mgCAAM7/FQC6AHoA5/8DAGQAPgDk/zgAoQBuAPX/HgCpAC4A9f8kADAA9f/Z/+D/HgA6AJ3/rP8kABwAgf9b/63/MADt/6H/rP8bAPL/4P8kADkABQDx/2gAYQC//6//OACOACwAzP8FACcAzv+0/ykAUQBTAPT/4f8AALn/y/8KACMADgAsACIADQD8/ykAZgBXABgAIgA8ANf/wf8JACsAJwAAAD0AGQCi/97/+P8IANv/zf/1/xIAoP+c/8X/wP/b//T/5//Y/87/5//e/8L/s/+8/+j/DQDJ/4P/t//T/+P/5f/i/8L/2f/u/93/5P8vAGAAVQAiACIAOgAcACUAVwB1ACUAFQBoAFgA/P/f/0EADAAAABUA6//t/83/2v/s/wUA7//y/9//uf+4/9n/4v/7/ysAGAAdAPv/FwDx/wsAOwAOABEAAAAKACMA+v/s//7/9f/l/7j/6P/3/+r/6f8AAPb/vf/S/9n/4v/J/8T/4P+//7D/wf8dAO3/4v/0/yEAHgD3/wcAGQAtADkAIQBSAE4ACAAlAEIAZwBFAF4AkABjAGsAUQA/ABEADQANABkADgD2/+X/5v/v/9P/rf+b/9D/0/+v/6T/v//G/9j/BwAPANr/2f8SANT/3P8eAAwA3f/N/xMALQAlAPX/7v8CANv/7f8mADoAHgAQABIACAAIAA0ACQAfAB0ABgAiACgA///q/xcAGwABAPT/+v8ZAOL/wf/k/+X/CAAsAPr/3v+w//D/CgARABsAMQAdAAoADwDn/+D/CgAbABEA+v8VAB8AEwAAAAIAFAAYAPv/7//3//X/9f8pAA0ADQAvAAoA+f/1/+T/BADh/wIAIgATAO7/8v8eABsAKgA1AEAAQQAWACEADQD0//v/FwAsAP7/CQA6ADAAHwAMAAwAHgAGAOT/2P/D/6T/pv/N//L//P8KAPb/4f/M/57/s/+4/9T/8P/d/7j/mP+B/6z/zP/P/77/sf+6/9f/5P+w/63/5v/o/9T/5/8OAO7/yf8CABcAEwD7/yMARgAvAB4ANABdAHkAmwCiAMcAxACUAJ4AwACwAIMAiACCAIYAgwBeAKIArwB7AFwAbQBxAFEAHQAMAC0AQQBBADwANAAZAN3/2P/G/9b/2P+p/4b/a/82/xr/Gf8O/+b+0/6j/l7+OP4c/jX+R/5o/mH+O/4H/uL96v0z/kr+fP7r/k3/uv/r/w8ACgDh/8T/3v9EAHwAoAC0AMMA8gB5ATkCxQIzA3UDiAPYAzAEVgTLBDAFbAWaBboF1AWqBXwFOQWKBPIDTAO4AlUCmQGyAKX/if6J/bz8D/w++zf6bfm7+A34hPcv92n3ffdp94H3iPeI99H3UvjP+CD5Lvm6+f/6VvzN/fj+9P84APT/AwCTAHYBbAJaA+0DGAQXBKwEDAakB+0IswkOCgoK9glmCgMLfgvZC9gLugtDC+AKugphCl8JJAjUBlQFBwTdApQBMwCU/t78dvsV+q/4X/c/9h/19vP78jTyivEl8RrxVfH48VvyqPLp8vHyiPN29Fj1DPbo9g74gfm3+9b9Yf8SAOj/uv8kAGEB+AJvBF0FvgX4BZgGEgg+CssL7wycDVgNhA0mDoYOzg4mD5QPmA9/D2oPrg5ZDRkMtApPCdgHgwZCBX4DSwH7/iP9gfvR+Y/4CvdE9cfzl/J38ZLwTPAE8JXvfe+87zbw2/BT8Zfx3fHT8vXzufTG9TX3Avky+2T9I/+L/0j/Iv97/7wAoQKVBLcFEAYgBrgGagjtCvUMWQ4UD7cOtQ5QD+8PehAVEVMRIREcERQRYxAOD8AN/At1CkQJtAfLBZUDfgEL/9v8CfsZ+U33nfXp8zPy7vDS79fuZ+7X7QHt8OyG7SLumu757jbvuu/l8C7yhPPu9Jr2jPjL+hD9g/7y/tP+9f7K/2kBTQMdBU0GhwbaBuEHAgpnDGkO3g8XEAsQOhDIEEkR1xFWEqMSxxKYEuIR0RDOD/YN3wt4CgEJOQfbBEcCd//3/AT7O/mc92X18vLl8HzvWO5W7a7sE+xd6zzrweuN7Hvtyu0B7mTuW+/T8JzyM/WF92v5j/ub/QD/SP8J/yz/UwCIAgwFugZiByQHHgfFCHoLag5QEDERHBGtEAcRtxFbEiQTrhPJE6ITUhMQEykSTRAzDmkMCgoaCfYGeQWDApn/j/vH+eL3I/ZE9P/xAfBY7qTs0+rD6/zpPOq+6gTr0+l88Ofp3eq98Jnvle4B9TL0YvaL+wz8wf/w/gr/Y/8AAO0ACQRCBh8HOgdkBzkJ5wnODSEQJBFhEnMShBBzEoESnhLjFj0VXROuFIUVshLbEZEQyg0VDBQLSglmB+4D4QCs/IL6Z/i79RH0UvL17//sNOxu6gzp9Ohd6IDoy+lV6RDpmern6i7rcO1e78fw0/Pn9rz4d/wR/gn/AQDB/tn+JAJ2A8EFsghhCBMIPQk9CkQNgxBTElMT2RKOEsESuBOcFDEV2BUoFmQVKxXgFGoTyhEVEIUObgybCnMIAgWeAaX+3Puk+HX2pfRG8rPvTe0166zpE+gW537ny+dn54PnEeh46CPptupy7KztWu9W8en05fhj/Fr+B/9Q/gD+Uf+BAa0EDQcBCMAHTwgICWYL1w0dEVYTvRNfE1gT4BOoFE0V9BUqFxgXbhZIFjIWexSDEikRfA93DZYLfQhoBYoB1v2l+pH4gfbV81Hxeu6w66HpCugj56rm2+Ws5afl6eWy5k3nN+ji6QXrw+wG7/7xAva6+Pj7a/7y/oP98P0j/wICBgWtB8kInQhnCHYJ1gtcD2ASZxRYFCsUFxRJFIUVOBYoF44YxBceFzcX9xUUFN4S0BFFDycNCAv/B0gEGgDs/D76mPfl9ILyL/A57ZvqougD5w/mmuXP5Wjl2uT85AflKuaU6PXp3+oM7RrwmfNX9xr7UP1G/Xf8uvxf/kABsgQpB4oIwAjXCA8KZgybD9ASfxTiFKEUcRQDFTgWdBejGJoZkhmZGHwX1haIFcMTtBKkD4wMww35CnEDAP/5/7H66vUT9XPzre857Kzq4Ogz5rfksOQ95A/kvuTF5HfkfOUh5k7nlerz8DbziPFG9Jv6qf5k/HT7dfzB/gwB5QNaB8sJyAmSCKwK5g3DEQoUQhaSF2YWnRVrFrQYNhlJGrUaFxrlGGMX/BaqFhkVFhFVDuEOTwuLA6kBLgAi+U31wfMo8Xntd+y26e7lNOWI5V3jXeJY5N/kHeTD5Ijmgucp5p3qB/Lg9cTyzPTj+pz/zP82/Y3+iAD5AGcB3AbhCMsHywdOCaULFQ1uEFIUQxcTFb4TfBUMF5MYERqvG5Mb1RlyF8UXlxdQFaMSOBFwDb0I3gUDA1z/y/k29ofzXe8Y7JHqvOeK5GHkWuKV3g7hDuQe4QfiUeSW5nfm5+fb7BD1WPk++KX3YPrRA/kG/AJA/58BeQTFBl8JVwlmCf8ImQtsCzkL7w7fFBsXxRNiEbgQDBWsGY8a4RiPGnkaCxccFuMVzRXxE5sR/QrTBbUDGwHE/fj4B/RZ7uHrWepf5+nkQeSR4oLfBt+833ThxOJv5NHlguY25x7qVfN9+6L73vUj92sBsgfSBSoBwACTBHgH/gi4CfEKHAyhDc4NdAy8DlQVZhuPGSAShw8PF54cIBw+G0YbJho8GAIXYxUwFUYUORBDCU4Cyf07/Z/82vYz70bpfufw5aXjT+Hu4KTfF90D3CXdFd9c4+rk/uaM5SXoUu+L+kL/sPrA9//7uwZUCXAFIAKyA3IGjghRC2wJQAvPDRIQZg65DswSLRqPHroYDRLAE8oaZh3QHrYdUxsqGWUXihVNFHUTChF4DE8EK/yD+Ef5Bvey7+joMOQK4kfgzt5K3pjd/drj2AXbutzS3lHiOejy5lDmSu5o/IYAv/rr9tz9DwlyCx0ElwBLBawI7QptDLsKtQmnD8UT0xHYD6cUax3tILkakhP8FsYdDyEZIVMfYhwuGSoYkxeaFGEQ+Q3gCgsCgfdL9NHz7/EE67LiI94z3G3cWt143H3Y5teG2sHbtd0k30TlIueA6ZTtIvu4/FP6r/k2AV0KGgltA9gAsAd9B00I3AuPCwALWQ1EEWcRaRLuFT4f9CFnG+cVohmpIK4jpSP7Ic8f7hsnG9caXxcUEt0Orwo0ARj5rvN+8nDvvehU4Wrb+thO2Kzbqdr21TjUOdU12OTcAOCv39biu+zy9jb7C/e987z8xwnlDPYDWgBaADQF5gi5DJQK4gm2DFsP1hB1EHsWzh+HJisfXBh4Gqch4Ce1KmEoJSMbICcejh4QG2YXqxNJDgUE3Pk99B7yKPFp6abfCthe1FbUFNiX1+nSXtGq0l3SUNmw3E3dpeBo68X1C/kj84zuzvtdCcMJ0wJf/kz/IwLtCM8L9wp6CGYMNRKjEg8SMhgHJMYoqCO0HCYf8iSoK4Uwri48J7siQCI8IgIfZBkHFdoOZATY+FTyC/AB7FnmQ90O1NzO8tC70xDTUtBbzWvPFtLc1NTXcdrd4Yvwofl38xDuLvA9AEkM/Qip/0b8of3/AW0LRgyCCYIKRQ9BEKcQCBWlID8s5CrdIRkesyIVK3000TWML0gnCyagJs4ish0KGuwVWQ11/7D06e8v7UnppeLV167LVMvNziLS4c+IytrLr86D0t/Q09TO34Pxtvic7qLmA+g5/hYLJArG/Kr1yPeDAW8LZglkCMkKyhBrEB8QVRMnIoMwYC/bJdcehCEMLYs6jzodMkgpnCbKJ/Ik7B8tG8kXhQ59Abr0Nu3E7GTsRebG1p/LE8nCzR/T+M+2y3zKis5k0vzP19Vv4nb0ffWn673iK+uN/YAGIgZi+iDzJfZAAmkIiQc1BxgMlREKEYgQqRf5JfguyS5vKDoi6SRjMUY7SjqrMV0qFSjrJTYi5B3AGb8T+gld/k3xpuqr6Xnp2uEh1U3Nb8xwz1rSEtEsz4jQxtPvz5HVJeJS72DzB+/R5wvt6/aX/ToBW/1k9mn1I/wa/wUB/AQPCugMPwxDDR0VIh9wJoAqXSldJEUk6yyCNDw3bDR2L0IrsCZjIjkfRRuGFEYNnwM999futumO6LbjV9vx0ybPYc7O0F7UY9Kl1LjTldLb1Yfk1+839R/whumv7VP3TP05/8v8m/a99hv8D/7E/hACQQijDG4LGwoQED4a/SLyJiom8yCDIGonLi/rMw8xqy14KkolFSBeHJAZrBXrDxwGk/qH8B7sX+oG5p7fDtlJ1KPSgdOl0u/Vx9aP14/WR9sz5OvuAPLj8Gvv8vFg+Pj5/Py/+rz53fr2/RD/7v3EAoMHdgvSC5IMkhBgFwYdyh+RICofJCCBJTIpxSmoKlsqzCbCIv0djBmJFd4R9w2mBkT9CfVa8CnrmeZp4vnek9wd2g/XNtcx2EnaddoU3VDel+gz7qzy9/As8cjzHPkn/DH85vyF+gL9uv5dAMn/HQJbB48KQAv1Cm4NeBKgFygafBpaGSIaPx63IrUkHSQ3JPkj8CCTHDgYkRTLEYQOtggxAej4FPTv8H/s7+gO5UniSuCf3pXd+dw83a/eGd/w4ULl7OrW7mPyz/NK9vP3nfmZ+yX7mPxO/Ov9PwC+AAMCxQTSBYII2QoODZAPyRAREgwTrhR7FoQYGRtkHJocxBx/GyYaVhd3FXMTNhB1DQoKBAeAA8H/zvxj+ar1EPMT8e3uvuyD6kfou+aI5Tbmr+b75g7oxumo63vu1vBb8lfyrPD18J3yqfP79Kr2HPh4+R36cPs8/TT/jgIEB/4JWgsYDbAPeBKfFTIZbxwnHhcgUCGCIdwgkB8GHl8ciRqGF18V4RI7DgUK2wSWAL79o/n79Rny2u0d613o5OTk43vjiuJ54bbhWeNB5f3niOoY6x/qHulL6ujsNu4k8ELyw/P69W740/mc+z/+pQI/B/8Jmgz+Dq0RkhQMF60a4h0BICojaCQrJcMkYyPyIbgfIB6DHDMasBYEEmoNIwgLBMIAs/xy+AT0ue+E6xHo1+VS5Lbi4uDe3wff0N4B4TXkxuZW6IDooucy50Hoz+pU7UfvcPFZ89r0C/eq+U/8LgBuBLUI6gtdDiARvxPRFmsaNR7wIH0jGibnJ8MocSfUJdEjoiEEIIgd7xqAFlgR6AtGBoQC9P7C+nj2ZfDW6wbo8uSF4lrg/t4X3RLcu9tZ3G/e+eDq46TlcOZB5nzmO+j56WDsKO+n8dL0O/fg+d/87f9EBOQIJw3vD9sRqhR+FwsazxyRH88iRyVPJ5ApnijfJSok/SItIaQeQRzbGOQTAA9cCsEFSgGD/GH4nPMH7tXpq+ZS42jhnd+/3ZfcMtsV21zdQ99g4nzkR+S55AflZ+Yk6TTrv+0U8Ojynfa0+Yn8u/+WAwYIjgzxD9USsRVSGJIayRx+H0Mi6yT1J+UpKyl7J3oltCMeInkfaxzGGGUUWxBMCx8GGgFw/F/4rPNp71nriudX5Lrhm99Y3uTcE9zV2xTcOd574Q3k9eXV5ZblW+YC6F7rMO1D76TyrvVS+V789P7FApMGKQtsD/IRaBTBFgAZpxsOHr8gyiMvJrYnZCgSKJklKCKBIC4eHhuLGLAV2hEpDO0GsgK4/R/5fvQ/8CjsU+gg5lHjR+G63z/ect0M3XPd6N5g4WDkSuaz5rnmXueD6dbrbO3y7lzxpPSC+IP7xP0VAAQDcQc5DOAPbxIcFdEXSRotHMwfoyL7I/omIigjJyEmECQ3IgQfmRsjGlsWrRFRDpIJyAOc/if60PUY8Sjt3Onk5gTkseA73kDe1t1a3Vvd/92j4O3jUueY6TvpE+mu6qvsl++t8fHzcfbD+E78af79/zMDCwdfC/AO7xD0EoQVTRgeGtcbkB74IOYi0SQyJWQk0iKhIOgeCRy3GasWYxPHDwELGwZPAdH8Yvgz9Erw9+zm6e/m8ePf4Gnf/d7R3tbeSN+T4Arj+uVs6LzpA+pL6gjs2e2V79nx7/MK95D5Vful/V8ALgTRCEgMHg9LEWATrBbLGJoaGh2UH9Eh6CNGJaslRSSXIl8gkR2MG2IYgRWeEiUOYAmfBDgApfu59nXyOO/567jof+U44nrfud5W31Pezt1J3tzfZuNL5vLnIOkR6VrqYeyy7dvvAPKy9PX3dvr0/E//OgLLBv0KdQ5kEYATzBXOF/4Zahw2HzAhgyIJJIUlXSWYI1kipB/2HEEaIxcuFEQQ3wupB+MCx/6M+kH1y/Aa7qPq3eZJ5H7g7N563jXer91n3TreJeG85L3nF+lA6RPptOqv7Afu7PAx8//1Jfm/+1b+AwFgBH4ItgsxD90RARSOFl8YABprHDogMiIBI4EkhSUiJb4jIiFjHzgcvhjbFvISqg6ACiQGUwKT/Yn4gPOT76rsWekH5lvjJeFd3x7ekN1L3YnesN8k4sDlvudY6bnp2um762Ptq+7P8KHz2/bW+cv8Rf/pATwFDQkkDfQPLRI+FIkWDBmuGhIdbyC5IYAiFySmJNUj8SL3ILseVBtzGEAW4RFIDVcJigUDAd77dvcl8xDvQOzf6HPli+IG4f3fsd743aPddt4K4Dzis+UJ6OHoUerY6rXrp+xW7irxyPOc9k75zvtf/g4BeATmCMAMxA9SEmoUvhY/GRUbFR5kIfgi8yNCJZwm/SWwI/MhayBHHXYZWBbCEqQNvggEBQ0B6vuG9nPy4O446ynnG+TR4n/hn9963kTdYdzV3OXdvuE95XHnr+mu6t3qMOxT7d7vZvJc9L32bfmC/Mz+fAFeBX8J6wwNEIoSRRV6F0cZFxvfHY4gUCJdJI4lhyWoJG8j5yFaIIEdthrOFkoS/g2CCbYEggDC/Hb3OfMl7yPr5+fO4+HhuuDw3vLeDN7E3OXbjtwB4Mvj+OY36RDrROvX6x/tDu/v8az0Rvfo+ez8Jv9ZAr0F6QigDHgQNRMFFgUXihjNGuscLCBpIcUixSQ+JEwj4yIfIeUf0RxIGZ0WVRL5DZ8JUAV1Abn8x/ho9cjwW+1M6dDlNeRS4tzgJeBE31LejNzM3IDfHOPb5jvpxOra6h3qles27uXwgPOa9an4L/sd/t4A6wRzCEkLLw94EtcUIhcUGT8aOhxoHuMgRyOGJK0kLSRtIuUgZx+9HMUZuRYkE9gNbgotBswBm/zn+IT2f/L07bXqSOfR4/fiteFJ4Sjgk94h3i3eqd884gXl0+gI63nrgOyI7X/v9O9N8rr1PfgQ++P95/8XA+oFJwq8DukQ+xMVFgQYsRlFG8QcQh8jIdEilCMsI0cjGiGKH8QdPhsTGHgUqRC3DNMH3gOh/3T7y/dy8yvwauwr6TLmmeOH4brfiN+t387ewd7U3tDfH+Ni5pjpduyh7Efsz+3C7m7xgPU0+Mn6cP1+/6QCHwaECZQNkxCgE4kV8BaXGF0amBv8HIMfiSGqIs8jjyMgIsUfLh1OG1QYyRQYEgQOlwkmBbAAL/3j+E31aPFT7njriOce5c7iN+BR4FvgsN9m31Pend864r3lG+lV6/zrIezQ7Dbug/A986n2Y/ku/Ln/SwFAA1wHkAr0DT4RgBQEFzQY0Rl8G5cdTB54IHYi5iNkI90hWCIGH8sbqRn2FkoTtg8DC6gHbAPC/YX6tfX18UjuwesO6Tbmp+O64HHgjN9y32nec97m39jhr+Vu6AHrO+0F7cbsE++578Xx0fbN+Bj8AP+gANAD2gXgCJQMkA+ME/wVpxfiGXYbnhzVHjcf5CCuIjIjziJyIRIg2xy4Ga0WxxLgDxUOJQl4BEH/t/gQ9knzQu+d7MjqA+dO5VPjd+GQ4eXfwN6M3vrfYOMk6Cbrne0P7fzpz+kV6xXtp/AD9V/47vp2/fL+2AEGBLMGPgvcDhYTVBY9GD4bKx6gHsMfHCFsITgjDyUyJDQiuCAeHEoXpxebFSsRDQnkARP/TPsA93H2AfR87WTqr+Vn4GXhVuOD5pHmPuGo39visOpQ8PTynvJI9JLvK+h54tng+eJo5lLreuyK7ljw0/P19j/8tQNhEBQchiSfKq0tNi9GLy8wMzLeM6s16zUqMfEpqCFkGsgRSQr8A2r9efkB9FTtJOf+4Ijeit0+3NLcVN9T4gLoiekh7WXtLuZb5+bxNgEXB0QG7AE3+6ztm+PN3incs+Dg6SzxMvC56QbrOPR//fEI1hdYKqk2CD1WPBI3+DSrMzozOjJqLmYqrSeyHOcN3/+d9iHzb+/i6mPngOUK5EfgFdxC2C3bPeDU5snrBPEn9kL8y/tV8RHrvfRVB2kQ9wzjAwr8DfHs4kXYPdUy2pnmCu+z7/vr0OxA+FID9g0lGwUv7z7fRMdAoTqUNlkySy9MKiwmLyGQHWUUzQPH9VfuXewh6Srma+Wp5mjoIeZg413fHeJW6A/w+/Ew9lj7wgCm/pXuIujr8eoHZhBKCa37AfZG6iLclNKP0h3cV+tn9JP0yPAg8/b+eAk/FIAhADSXQlRFqjwWNMMteiohJb8fGhxRGSoVLgoM/EzvBOoT6ufp5emn607uM+8O7SzqOeej6EbtUfMb96r6tfnd/oj7Du6/5RXz8wa2DiII7vvA9M/pVtyl1MzXtN+17T34NfkA9jL5nwMYDi0W5yL5M+NAREKHOeQvBScZIXQc0BeYElERpg6cBeb4zu2N6XbqMuyb7YrvRPJq84jxpe3p6DLpdO4F9e/2Mvd0+Df/vvuT7FnmO/SbDBIVYAmn+THzLum73/3UEtV84/z1pf6V/3D7Lf4nCM8RbBt7JLMywz/HQmA3VShbHcgZKxV2DyYMBwyxCY8CbvbL6yPmDugu7GDvAvLy8urz3fOZ773pXukC7fD00vh092D4fP0c/+jvH+N26tMEfhavESsCWft/9JHni9o51mTg5/Hm/6MGyAU+AqEGig7RFo0c7CcROGlBGztpLFAehBaKEZkLWAfGB0UJgwQF+27wp+en5zrqt+1m8CTyRfSJ9Zfz8e0h6mXqFe7l8h73W/kZ+3X9kvp67e3jTO7zB7cW8xBEA3D9wPcU6ovZFtXb4NT0xwLCBxQIbwkeDTMSjRY8HJonZzh8QDY54SlkHP8Unw32BCMAVQIzBSADf/l673voFuil6g7sHe8r81P37vlm9ontcOew5xrs2fDd8pn47/4fAtv2cucH5137zA9nE04JNQVjBFz4H+V81eTWeuin+eICtQdBC2cQqhS1FNwViBx8Kkg5VTwGMgomAR6WFjMKmf6J+gIAMwN8/l32He+X7DDsVep/6TvspvFW+Bn62fZc8O7r1etr7ILuCfJA9/P82QHN+dLuA+4D/BoNbxK0CqcFcwHz9tbnJNqM2brlUvS//wgH9AkQD9wTgBdAGPMbciYeMzE48DAkJ40fqRd/DGEBm/vy/ND92/vu9yXyxu9b78/udezE7I7x/PZ9+XX2g/FN7//tpu3D7njwSvdt/rQBtPm17SfssvoVCZYOEQhcBPkChvfN5tvXBdi84zjxG/shBe4MqxKqFmcWgBY1GWkiii0OM90vfikRJOgahw+gA0P8GvxJ/S38F/kT9tP06vNG8Wnuvu288DL1l/at93724/Pj8R/vne858Wj0fPnEAPD/BfUi6qruTgBXDKUK3ANaBNAB2/Nb3unULNu+6WHze/vsBVYSIhkhGb8VfBYMHuAmzy3UL6stvilbJFYYhQpF/+v5Xvol+tP2LvVU9lD3s/bM8Lvtze9Q9PP1PfZy9g74XvdG89vvPu5j8c/2y/oq/ub5hu8K7bf1HQUODMEFEQKGBYr+Su0J2gDWLeHv7FvyQPokCAUVsBhGFfsSZxfeIIUn/isxLnYt3CmuIVYURAdk/R/6A/op+bb3xvcx+dv3U/Rc8JXv7/KW9gP4lvj2+Dv5V/bT8HLupPDk9Oz42/ol/f76QPEe6VftNP2UCkwLIwe/BmUDx/Rv337Tdte05GrwWPmxBbsSPBkXGFwUaxQ+G5ci2ynlLvAuMCvoI/QXiAqL/5f5svgm+TP5D/o/+g35G/YS8/rxQvRC+AX6C/sT+/364fer8g7w8fB582711fZx+ZH8cfQP6nvoI/Y3BkULPgdsCDkH1/wW6KPWDNRY3RPpj/N3//UMrBd6GpkYSxWPGJMfNyfuLIUufSyaKAUf0hAjA9r6hPko+rX5gPj3+f76j/mO9mP0kvTP98n5p/qA+hr5gfd9807w6+9/8Y7zCPXx9oz6S/b/6WrlC/FGBIINBgq8BnQI/QCV7aPW4M9K2IHmJfDp+fMFfBSPG1MbvhYiF3MeKSg6Lcksnio6KJQiBBaSB+L9+/sd/Pn6Vfgi+JP6E/wM+kD4z/fe+aj7L/tF+Vj3zPUq9HHxFO/c7RrvQPJY9aD3tvno9f7qjeYe8bwE2A9PDHUHLgZ//QnrkdX8zRrWSeW78d/7rwdxFXUd6h1+GrIawyIfK2AvVi5CKskmhyDtFGEHBP6i+5L8Tvvt+KL4ifnQ+bL5j/iB9/747/vV/PL6jveM9UDzC+8I7QjusO+28mv2+vhM/EH1AecR4l7vJQaNDvQHFgQ9BnH/1OrR0LzKv9Vi6Ff1Zf5uCnUbiCO/Ihwb6RleIoYsvy/2LCgoNyVfH84STgSO+x/7xPt++/v4h/jX+kr8/vs5+cj2w/iT+zv8J/m/9e706vNU8VLtv+to7j/y6fUu98348fNJ6MjhFOuP/xkNsgthCSIINQFQ7tLWes351PXkivMs/0IKmxeTIDEijB4ZHlQjkiztMMMuPCodJFwdHhSZB0X/WPst++P71Pl/+FD4bflw+gv5k/e+94D5jPtO+Xf1SPRq8xnxnO2b6/TtOfFr9N30yfXG9LXr/uHA5G34ggm/EJ4NigtRBA30neAh0vnRWd7z7tv+IwkwEoMcvyHzIbsf3SJoKt0wLzIcLJckxhx0E+4JMgC++4P74ftu/JP6avlA+Wv4lfd69o32KPlj++b6eviF9gr1PvKq7iLr5epm7Tzwb/JH8enyufGR5u7g1et1A5QSoxQvEW8NMACi77fcyNJN1fPjgfUXAqgIGRGYGycgACHMIGwn4S9UNXIyPCy1Iv0Z4Q+YBb3/qful+0j81PoR+Ff0XvQD9Wv0SPQS9rT5Cvqc+Lj2rvQs8rvw0+917Wbta+0p8CTy2O888y7zUOnF4ybwBgm4Fw8WIRE1DFz/2u5A3S7UcNZY5K73AgNhB2gPvxmSINUgyyHhKEMzOjjVM3krVSEjGOkMMARV/dn5YfqE+3T7Evdt85TySfMk8kfxTPSA9yz6cvri+Oj16fEt8i7xzu0u7O3tV/Es88bxtPTQ8bboOOTo8BsKJRj3FxMTYwwT/6vvZN1x1FPWaObb+MEDbQduDScWaR3GHm0h0CmRM6o5UDemLsshEBavC5ADxv0++t76cf3i/MT2C/JO8FTv4u8e7zvzcPaW+Y36fPdp9Mzy3fTu9PPwMu/l8OrzsfIO8CjxT/FO6nXmY+4MBbYT7BdWE0gLiP0N8tXlT9z92fDozPlDA3sF4AYxD4sWQxv8H4UnHTFTOlQ6uzGyI3cXcA+rBzoAQftk/Mn+yPzd9Y7wHe677MDsye7V8cz0svfO+P72tfIq80n2QfU78yvy4PO29DzynPB572rxyOut587rz/8HEKMVQRFMCwgC9fe07gjlruBe6Cv5jgE1AkgA7gUmD9UURxlrIdQszTeBPFU3uCorHmAWrg8+B38BA/+Q/1j92/Wl7oXpqehR6ZHrfO4U8HL0/Pe+9svyJ/LO9C/4MvfA9ZL1EPUE9eHyGfCy8m/uC+tQ6ar21giQEEwSNA5oBqf7y/SG7EPlAeZO9BkACQFw/48BzAebDUMTSRvZJIUwLzr0Oi0y5CWBHaMWDA//Bj4DZwFk/3/6LfGZ6trm7OaB6f/qgOyE70j0WfQw8lPw4vCL9Cf2Nvbx9cz1I/bv9kb2lPXw9XvvFe6C81gBkgkwDCsLvgh8/xf4AfLF6n7pg/E2/fsAgv8dAi4GbQjnDKAT+xpNJekvWjXRMd0pcSPjHIcWzw6LCmMIugSZAD754/D86lToV+iE6N7oIewQ7xLwRO/B7dntjPA185f08fTn9Ir2t/cD+G737fiM+HP0I/Ku9y0CGwhgC0EJBgWx/2v6AfRY7+zua/UE/XMBvwHCA68FkQfFCs8OpBVNH+wphi1OKoomTiG+HCIXFRLTDl4MWApOBd79KvZP8Lzsqev56XLp4OoI7NbsFusv6jvqQOwp7zTvi/GR8w72/PiQ+az5b/pa/PH5fPef+dn+KQSMBwQHYQXTAeH+4PqV+O728vhc/yoDgAXEBvsGXgY3B5AJtQxbEtkY/BymHNwb7BiIFTUUlhJMER0Q1Q09C/AGEAF9/On4Nvco9S3z5/Jw8azvPe4W7Irq2erv6nTso+5k797wE/MK9UH1SPes+Mj5gvqI+1j80v1oASICCwR0BHwCSQLYAXQA3v8EAaoD8wU2B2sHhgeCB4QIgAgwCRUJKgmZCxgMvQvxC4YL6AoUC58KfgnBCL0IgAgHB1AGXQUxBL4D9AETAFj+wPwn+1T5w/dY9uT0VfQ18zjygfII8hvyS/Kp8t/yMvNP9HT1lvaC9iH3pvcv+Mv45/nZ+wz8Zf0L/18ASAEdAloDnwTOBXEGlgceCN4HRwhlCFoIZAjmCPwJ0gqKC9cLhQsHC8kKmwqlCl0KXApuChIK1QiOB+8FdQRnAzIC4gAYAB7/4/3u/Ij7F/q5+IT3qfZR9cD0lfQa9OnzU/PO8tjyAPPt8njzYPND8/fzKPUS9gL3/fhA+278B/7M/qb/VQCGAN8BegMVBdwFeQeiCKIIjAg0CDoIMgj5CLMJZQoCCykMuwwSDJYL5gq/CuEJYgkwCdYIeAiyB0cH/AWJBBkDtgHeAMr/x/83/3H+vf07/KP6tfjV9rb1EfWS9MjzZvP/8jHyDPKI8ijzQ/QM9X31mPYt93j3dPfn9wP5Pfrh+0r91/7M/8L/QAD6AGwBwwLqBMYGxwdcCKAIkAgwCMMHBAcMB1UHRgf2B7YIAAkjCQMJ3gh0CKcI0gjVCJYJjgnPCGsI3QeOBkAF8wN9Av4ALQDb/if+dP3h+xD7zPkD+Yn48vfG9433jPcH93X2yvVB9QL1DfVU9WT1ZvV59db1PvbL9pX3xfi7+dX6BfzF/Mb9Tf6p/p7/zv/S/8YAaQELAqcDWARFBR0GTwYNB1oHcwhgCV8KzgtUDMoMtwyxC84KXQprCd8ILAkNCdQIKwhHB/UGSAYUBnwF4AQQBDIDTAK0ALL+1/xu+9P5qvi898/2OPbs9Tf1FPW+9fr11fXC9R72/vX39bD1I/XU9Hj0fvTH9O30/PTB9UD3G/jE+Ib6aPw0/jAAuwFGA+AE2QWkBkoHDwiJCDwJignZCNYI8wjGCMcIbAlOCu8KpAtrDEoMGQu/CsEKqQpqCvEJUgmFCEsHbgZwBZIEJQNEAswB3AAyAAz/uv1W/Pf6qvmP+Lb3w/ac9Xn0dPOS8jLyEvL68ffxnfEj8hLzgvM79Gv1qfbx92j57PkN+qv6WPst/Pf8pf2x/r3/GAEdAtACkwOQBNIFJQc+CAcJ9QnkCiILaQt3CyoLcQq+CVQJFAlkCRsJuQhtCFgIJAi0B5wHcwdxB+4GLgZGBmYFKAR6AtIAmf9X/q79gfxn+yH6D/lP+Fz3Jvcs9533l/eo9/j3ivcF94/2rPYE9/32HPdK97v3PPiU+Pf4XPkY+tr6evsl/Kv8Vf0M/kT+w/6D/3gAMgGGAUUC7AJtA4QESgXqBWQGDgfaBzgIBAljCQsJIgnpCCUITwf0BiwG2gW+Ba0FMgW0BDYEogOxAwUEFgQSBEEE1APhA5sDcQJIAQIAaf/X/iv+nv2M/O/7LPuu+lT6yPmB+Tj5FvkA+aX4NvjV99P3Dfhk+Gv4Ufh4+MD4hvlb+vv6iPv7+8H84fxd/TP+of4Z/3X/igB0AS8CQQKbAnECowL4Ak0DBgM2A98DagQ+BYoF4wUVBsYF9QV9BV8FkAWcBaMFhwVgBfUEqwQNBfgE6wSHBcMFegXmBKsENAQ4A7MCRQK1AQABgwDg//n+tv3m/D/8AvyZ+3L7Qfu6+tb5OflP+aX4CvpR/N75W/dM9y/37vZn+br5rPmg+qX6o/ox+9f8QPyq/GX9Zf2j/df8wf1y/nT/YgCBAYUARwEuASgB3QGTAZkCMQS3BfgGtgbfBkkG0QUEBh4GVAYxB40HIwizBzsH6AYvBmkG0wYNBxMHiQZRBvkEPwS0BNIDJAQnAysCPQF7//L+6/0F+z37ffsU+0r5yfdH9hP19/TS9cb25fck+fv3J/i2+Jz4JPoL+tn5cPkh+Z/5Dvru+UD76PuQ+0H9tv3C+6j8sf4wAWUDfARmBKgDJQNdA3ICaAEcA1YFugZlBwEHIAYtBawFAgY9BW0GrAjDCVIKHQplCWwIIAlPCmAJUgnFCXMJbQkXCM4GqwSXA0sDsQFo/6j+5/xx+0D6lveI9cXz1fPd8jfxrfEN8pDx1vE+8q7yV/Q99Xz26vbW9xj58Po8/On8xf1x/vv+6v+5ARb/Lf3ZAJkE4geoCBQIEwXUA+oCxALtALUAlQQpBssGuwSRAnoAjgE9AwYEgQW0CIcL1AsmDDwLxwoHDBoPyA8rDwwPQw7+C+0J8QeABUAEkQN6Ae79vPrC9wn1HPNf8ZbuxuvZ68DrNuoF6mjqtepI7cLuVu5m72XySvbz+OP7I/2S/jMC7gNiBMoG7wQ6BJAIngvzD3kPawzCCpYHzAMhBBYCCQFmBKEFJwQcAVX/ff3F/SUBfQOrBKUGJAklCeAIuQiUCSYKZQ35DqgOAA5xDVsLTwkCCBkG0wN/AoAACPw1+HH15PK87+vty+u+6cjpc+n/6A7pZuot7B/uk+978Qf1u/e1/Nr/jAJTBk0HSQnMC/ALGwhOCuoN0xOTFMcRAQ6ECDoE4QJ0AJb8R/9DAAj/P/sv9yH1bPUk+Sz94/5iAMgECgYLBo8GpQgXC/YO7BGIEUUQ4g+JD1IN0wvfCboH1gV6Awv/1/n+9SHzHfH37bvrhumP6KTnmOdI56DoD+yl7a/uofC59NT39PyWAfsElwcaC5INBw78CsMKGxBMFicYyBXQEO4JCgZjBJUBRf2//cv/bP//+uj1D/Ny8zb4afsG/MP9fwE7BCUF4AQtBlIKmQ43EhARew/pD9MPjA7TC2oJ5AeMBjkE6P7H+KX15vNq8G3tiOps57fmuedl5h3m8ufG6dvrlO0D8NTzaPhQ/YYClAXZB3cLEw4zD3UL6gyuEh4YgxoqF7MQxwuJCLUGwgXRAAAAqAHP/4/6NPVx84X1UPoL/Q39hP1HAKACzwPABN4G0wryDYoPWQ5mDSEOiw+GDt0LswjaBuQEywET/Y/4ovY19KvwOuwE6FXl0eR/5UnmYeZL58Lp5uqE6wXvPvP590r+PAHTAzMHiworDhoPzwrcDj0WZxqLGW0VXA9aCyMKngpbB70DCQWVBDsB8/qp9z/3+fmU/rX/ffy3/cMAfQGDAt8DSgZqCTgMkwwRCmIJ8wvlDF8LawngBqoE6wKwAGP8PvlW+JH2oPKP7hDrdeh26Zfp7OdM6ELqWeqS7KPuQ+4v8mv4tvyA/qUAIARIB0IJSwssCmsJGA8EFQIWpxGyDowLnAlACAsJRQb0BJ4GGQX3/mb7jvy//dj/nwKqAQn/fgHzA1kEgQRcB+sIxQhVCSUJJgi6CNwKpAkLB7UFnwR5AjwB9P9U/XL6pfgo9mjxw+7W7QztAuzo60fqrul86mTr9ezk7X/wjvNd9uj4cvwx/rkAYwTXBe0H6wiMB+kK2xB7E/oQ/Q4xDFALmwoqDS4Megh0CMoIOQW8AWUCfwIxAzME9QPVAAwAYgIwBPsD7APqBNkDNgPSA7kDZgOuBNcEHwOkABUACwBa/4T/zP5j/Oj5Wfhk9uTz7vJT87rxRPAC8I/u4+008Ivx2PHY81n1Bvdn+Xr7SP3I/2MBNAMkBX4GKAdbBukGbAmpDOUN8QusChYJ3AdDCDEJQwa3BWUGbgUnAxMCFAK2ATQC2wLiAbcAcAKDA3IDHwO1A3ADNwMWBNIDyALwAn8DewJiAVoBxwHYAMkAkQDQ/q79mP3Y/AH7Bfqf+fP3zfXu9LDz8fKf8zj01PPU83701/TW9Zf3g/nB+nz8U/4//tX+aAD/AGUCAgNbAksEHAc0B4wGRQZ+BdcFqAbIB+YG3wWBBpAGdQXVBFYFxwU6BiIGeAW0A7kDbwWvBaAEIAR3BJsD5gIZA8kCJQL3ApcCogCf//P/xgAlAU0BhABB/zf+If4y/a37T/sY+0z6c/mg+Nz3Z/hz+E/3z/b89sv2EPjd+FT4efgr+VP5s/lw+s36gvtl/N/8U/1Y/dX9Sf8zAQ8CQAIeAnACJwMcBFcFawWbBVYGqQZ/BuIGZwfpB88H9weSB4YGAwfpBx8I/QfOB2gHsgYcBikG5AU+BfwEtAQKBFQD2wNdA0ICMAKMAQ4Ay/9///r9l/zk+376DPn8+MH44Pcv91P2d/X09Hb0SfQw9C70YPSc9OX09vQ69fj1cPbb9hH4Qfkx+gv7E/xh/Q3/YwBsAZQCzwOJBTMHswgZCUkJUAmECaYJwgkTCh0KtglZCfQIOwieCBYJ1wiFCBUIyQecB4QHsAc0B7cGhAYFBoIFbAUzBb0EJgQTA+sB6QBaABcAZP///an8i/sQ+gf5Svgv9xv2DvUS9C7zLPJX8Rrx4/B98D3wM/CG8EHxDPJ98iDzQ/R79cn2L/jI+V/76/yr/nsAbgJVBCgGPgcECMsIcAlPCl0LAgxUDFoMAQwQDCkMgwyCDcwNnw1BDfcM+Qy9DLsM0gxwDBgMjgukCm0JeQiuB8wGcAUGBKECQQEVAM7+uPyn+ub4WvcW9ur0xvMr8qzwcO+I7s7tK+0y7TbtuOyq7DPtye2u7uHvJPE28k/zsvSd9uP43fq9/LH+jwC4AssEmgZMCEwJwgmjCl0Lowv0CxkMTgxIDBgMDAxlDEYNxg2+DWcN4wyZDAQNbg2HDQUNZAz4Cw0LigodCowJtwiSB1cGJgUkBIsCOQFk/1j9sftx+cf3TPZ89Kby8fBT7+ftKe2m7CvsxOso6+HqCeu/673sl+227rXvy/Au8tbz+/X/9yT6ePzl/j0BEAMvBYgGiwfHCKYJhApjC94LXwycDPkMwg1+DowPVBCBEHcQRxCEELMQ2BAoEaIQCRBND04O4g0RDRsMJAu9CawHoAUnBLgCxgCJ/if8pPmF98f1ufOn8ervIe6+7P7r/urp6VHp+ugO6YHp+ukq61rsTe1t7unvefFD8571CfiP+in9vf8SAuYDtwUQBx0IPglhCiULqgvvC9MLBAxuDHANgw4aD80P/g+qD3APew+cD7gPcw8mD8AO8Q1FDdMMWQxzC24KhQkaCGMGEgXSA/0Brv8l/RD7D/kS9171QvMh8XHvFu7A7KbrBus56r7pzek36tvqXetq7HntVO5W7+3wLvN49fv3YvrQ/Pz+rwCFAvMD6wRsBsgHoAjBCWAKuwqAC0EMwQ0BDxUQLhEaETgRfBHuEToS9REuEuYRfBEqEYkQ9A+hDrMNjgztCnEJQQejBfQDHAF6/tT7KPn69pn0gfLn723t5Osc6i/pJ+i05kLmV+bN5qHnkehx6bHqdeu+7ATvMPFD9Jr3U/pE/Yn/fQFmA+8ElgaCCCgKdgt6DN4MDQ2RDasOHhCPEakSLxPnElISOhKeEtgS5RKsEsoRLBF+EOYPKA9RDq0M4QoYCakG4wQDA+YAhP6a+1D59/bi9IryF/Dg7Qjs2Opk6UPohuei5ofm/ubG5+LoM+p566vsDe4Y73jxWPYp93D43P6nAEj+/QIGBnUDnQZsCuEIJAkWC1cLVAu+DNoOzw+JEOQRHhKIERMSzhItE3oTfhNZEyITwxKnEm8SCBG8D3MOWwwlCjcIVAZcA34Adf1l+uz38/TJ8nHwfO1L60zpteeZ5sjlkuWB5UPluuW65pTnpejm6VfrY+347znzUvYD+eT7u/01/90AAAINBAkGewf5CLQJtAoDDI0NpQ98EdEStBPiE10U9BSEFaIWMhfPFkAWHRbRFX4VWhVCFA0ThxAuDrsMxgl3B6YEsABT/TH6X/f98xjxFO7C6sbo5+aS5DnkieMl4mjihOO3463kNOfD5y3pGOyl7mrx/PRn+Cr78vy7/q0AzAGcA9EFBAclCOsI0QnmCnUMzw50EC0RAhJvEuYSlBNKFFkVxBXYFdwVdRV4FZ0VQRWUFJ0TzRGkD+gN0wtsCQQHUQTjAID9avoF9w/0ffFO7pLrxOni5x3mKeV75A7k1eNV5BflluXK5k/o4OlO7GHvv/K99eD3n/nk+hf8l/3F/7sBEQN3BOsF/gaaCL8KyQyvDtQPsxCzEY0SCxTWFdAW+RYgF8IXVxjpGIcZ/hgqF0kVoBPuEUMQ9w0kC+cHiwToAMX97fqP9xv0ffGg7mjrNOn55hvlgeTU4zLjNuNh41Xj6+NB5a7mRulg7H7v+fI+9Gf0yPYB+p373/26AMsBvgJ7BbcHEgncCsANOBBbEQwTPRQWFE8WKxleGTUZ/RktG64akxqVG+0ZbhYPFbwTlhC/DfMLIgm9BMkAaf0c+gD3zPOt8NPtuuoj6JLmkeVL5Nnj/+O14xjjkONa5p/oPemZ6kftDvFf9K31zvao90X4Avtb/vf/EQGjA+4G8QcYCPUK8A7KEDoSbRM9E6MTCRZaGAcYVxfwGHsaqRlFGWkZThdfFL0SnBDFDUILJQl1BaEA+vxr+t/3yPSy8QnvKOyG6ZXoEeiD5p7ldeYh53XlfuWo6fHsLuzj7IXwfvT79nb4AvlA+L73gfrd/c3+/v+/AmAEwwMgBVMJXgwcDrIPWBBHEIYR2xRgFiYVuBUsGGgYhhesGAMZ9xWmE8USWBD9DWMLuwjeBF//rfy2+0b4TPSo8TLvC+zC6n3qCOmX583nCei35jjmhunU7SDtm+yY7/vzi/aO97D38/Zo9lH4x/uf/a/+TQEhA04CWgPPB98LsQ18DyYQlxBFEocVjBfcFkEXVRlnGhYa3Rm5GfsXJxXdEpwQWQ6tC3AIYARe/836YvjV9drxLu/F7EfpfegG6ITmzeXm5THli+S15hjsy+wR6+bsovF19UP2u/dT9y/2y/bJ+p39gv5K/zIC7gPRAwUH5gsFD6UQthIRFAQV6RZNGqIbgxs1G6gc9RzDG0sbJhplFysUhxGlDvAK0QdjBPD+A/nM9CzyE++z617pYucX5Yfj8+I04zHiHuE44h7niOpH6afobezl8mL1+vSP9mj3t/W291j+qwDA/0wCnwXfBPAFLQvCEN0SMBPHFMIWaxduGssdqh14HCAdbx6SHbccDRx8GbgUlRFqD9sMlAjsBCoAW/nk88HwUu7P6nbn+eQ8463gGOGZ4o3hGN/o4SzpS+kK58Lo4e4q8wr0Y/Up9V7zKPTj+v/+zP2L/+kCsQNrA8MFeQx3ES4TNRQIFgMXJRmjHlcg0x1oHRcgJiFtHz8ejBx4GAYUyhESD1ILaggPBKr+YPcf8rbuye0G6rXl2eOl4c7gH+DU34/e6uPT6q/nmePE5sXuM/L78cPzVvHV7DTy2/ri+3X5+/2sAeP+8P5dBi8OaBCFEX4TGRQnFeYbbSI/IEcdkiD/ImEipyE3IlQfnhnnFh8Upg/iDJsLGgYW/Gb2+/Jn8MftMusT5urirOIQ4R3d7dyL5J3o1eSK32vi+ule7lnwrPFA7T3oYO6M92H4ePen/Jf/K/wz/GIEFAz2D2QSABSnEt8TwhytI/wghB4dItcjGSPvI30kLCExHBcaJRabEOIOKA9ECaX+8/eY9PzxbvDv7e7nJuNw4sTeU90/4c/nbeYN4Wrf3OEc6D3sCvBf7eTlVuU57ufzgvXE+Ef81/l2+Fv9FwcNDY8QWRTfExcRyBUHIbwj9yEyI+ojuCGDI6Ul6iTGIEQceBhyEzoPnQ5TDKcF5PyA9U/ycfBK7kTrW+ok5FXdd91R5LDnH+e95GHh4uHz5FTshO847Vbm7efg7M/vDPRb+r37E/m8+Tj+KgT9CeURdhVmE4cQaRaOHEkfGCL3I50hAh/iH58g8R9GHugbLBauD6sLogpPCAgDe/yD9gPwgu047UXtw+pz5DLfZeE16NLpVefZ5l7mHOd56g7wd/Ct7GLrG/DH8XfyM/ik/Y7+Xf1q/8gD0QdiDQQV9xY6EwsTHxgPGtgbxR/WIL0eEBwZG3caShmMGLIVzw8aCvIG7wSKAKX7Bfcd8nfti+ob6sjpz+Pi4EDkm+lu6Avng+cN5yXqjuwU8Zjxye2+7aHycPSs9dX6WQCaAIMB5QN+By0L3w+zFlkYghVCFmgaEBreGy8fcx/5HM8ZSRldF3gUWRRpErcMDgayA0YBQvqm96j0ye/o6gHpZujF5Y7h9OBM5W3pm+df53TmkuYV6qvuCvNB8ZjtMvCM87f0q/jB/hACZQNWBZUHWgqSDpYV4BtYHCMaJBs0HOEcmiBTI54hlR+eHKMYDxakFGoTyxCoCoUEnADj+kf26PI18V7s4Oed5SvkvN+d3IXhL+cG5tTjjOSX4/Xllurz747w4e3b7dfxefNf9av7TgHeAtEE+AYoCX4MIBI4GicdWxtcHOge5x3wHhAjwSOHIcQg5x06GdIVfhR3E1wPUQnqBKAAoflc9dbyP+4+6tjoMee44iDdKN1V4lrlTeU95kDja+HE5BDpNe3d7k3tpe4k8QHxgPQI/OT/NwMjB50HBAnqDOQSHBpBHfocih6KHr4dmCA4I/wibCMSIh8e0BnmFegTORKgDtUKhgZD/7X45fRO8SLusOtm6tXm5OD03Pnd+uEE5H7l2OSJ4tviOOQF6ELs4+tp7OnvZ/D08NX1B/uc/tIDbQfcCEsLhQ4gFP8ZYhuEHXog5x+4H6khNSOJIiYjViOTHyMb7RbCE7ERLA6iCn8HsgBz+i71mfBJ7a7rW+p452PipN5a3/fgo+BR4+PjQ+Iz4uPjtuWw5x7pwuvb7lDvqvHk9hn61v2RA0YH3AkHDScRbBWsGC0b6h4UIUYhIiNgJOMjsSOhIx4iKiAhHX0Z9xUiEdYM5QnvBKX/JvoH9RjwHew+6jboK+Wd4VrfON/q3hXg9OGT4RzhtuHH4t/jIOVR50zqKOxU7l/yfvbp+YL+MgPTBmAKsg6lEi0WMBlYHLsfgiHeIoIklSXRJXAmnSXhI2kheh3UGbUWWxJ9DmwKPQWRAFP7wfUz8cXt/Ops6Fbl+eGJ31veHt5/32XhxOHP4QfiDuK84inkC+bM6K/rXO7V8ef1vvhF/JQA3QMgCNkMgxAIFO0WvBmNHdcg2CKXJKEl7SWeJWQlySQuI5cgOhxSGYIWpBElDhMKwASz/0f6ffWo8U3u3uql6J3lZeE939rdtN313z/gkd/43/re9N724J7izuRt5xfq4uwI8cz0NPjg/AsBDAV2CooO7BENFuQY6xvPHzYibyRFJmMmWibDJmgmuSRwIhAfKhuIF6ATFBDvC1QH3AFh/Kf3KvM28FHtx+kX593im99p3vDdXN+f4GHg3t8o3z3fHOHY4tfkGufH6ZvsS/B99CD4Q/xaAB4EtwgmDecQshT2F1cbFx7nIJYjDSUmJogloiRRJcgjaCEmH3QbqxdpE7kPVAwOCPACrP3t+Lz0DfHv7WfruOgw5Rnixd8R3zfgAuFj4ffhvuGJ4X/ix+OG5enno+qd7ePwofRM+I77bv+MA2YH3AuVD/QSVhYCGU4cMx8wIVEijyNxJCkjlCPjIlQgax47GkEXAhUPELgM5QifA4L/5vqb9gfzDu/P64bp++Yx5JvhwN+o39XgJ+KW4tbin+JQ4nvjNeV/5y7qmewt7zbyt/Wt+Zf9eQEaBdAItgzzD2YTthYWGtIcbh/uIc0iWSP/I1ckZyOnIdcfsR0iGmYWTxObD/wKuAauAgv+/viY9OTwiu3h6rHo7eWJ4gXgw9783ufgUuLp4r3iQ+K84nHkfebq6Gzrr+3j8Kv0Pvjm+z7/4wLmBrkKHA+JEsoUIxhRG94dqSDEIsEjaCQnJMQjWCOxIccfRh2tGc0VBRKfDqwKJwbIAe38A/jZ81vwGO1H6lfni+T94UffNt6O3rXf2uBe4ZPhg+H54RjjNeU26Pvq4O1E8T70pvem+2T/ugNRCMYLfA8/E9MVHBluHHAeZyGwI5EkWSVRJc4kgCMLItkf0hwBGukVARJTDoUJYQVkAaP8+vfO877vAuxT6ebmMOSa4SLfg90K3rjfuODp4TDiueHD4rzjUOWV6CXrw+0O8SP00fex+zD/8AL8BngKLg6TEiQVsxcLGx8dpx9PIuIjvCRxJIgjHCOeIZgfeR0UGo4WNxLyDbAKNwZRAXD9pvgW9AbxQu2B6pzoY+XB4jXgs95o39fgQOJF47/jveMn5BjmBehC6gnt/e7q8ZH1gfgO/Gz/NAKRBlwKgg0kEVoTbRVkGLsaFR3KH7MgUyE0ImMh7CAZIEweEhwbGdUVjBImD0sLxAa9Arb+I/pj9pTyrO7w69jpfOdF5dri4uCU4HfhRuMf5eHlzeU55krn/uj96mrtm++v8cv0k/iF+7z+pQFABI8H8grUDRMRNxNyFIMXpRnpGuUdKB9uHh4fBB9rHTkc+xpFGK4VHBIPDoIL/Qe9A1EAfPzg92b0efGn7q3swOr75xXmUeQY44TjCuXa5jzo6Oho6bXpkeoY7JLtKfBo8qH0gfe/+XX8kv/jAYQE+gcECxUO1hCWEjUUmBYTGOQZUxw/HcAd+x3CHPgbcBouGIoWphR4EZcNqgr5BuYCcv9U+3v3nPQz8XzuP+zV6VXoMedJ5WjkwORW5UvnB+l16pzrlutT7ATugu8v8rX0tPY1+Wn7lf1lAAIDiwVMCNgKMA2AD4oR4RLyFHIWvxcQGgAbrht7HGwbfxpaGWUXtxV6E2AQdQ3zCV8FVQEf/uL6e/fG9JfxIe7P6/zpsegi6EDm7+T75Ivlx+dt6tnrE+2s7Wbufu9q8AHztfWZ97j5dPsn/ZP/+AE2BTQItApdDSkPuxAbEpITMRWIFlkYsxlkGmIbOxsAGpsYZRaJFMkSHRBEDQUKcgZPAnL+J/ua90j01vFM7yDtdus+6Y3nv+aT5bflAOfi51XqYux+7aruR+/77xHxyvIt9bv3OfoO/ML97P+tATcEKQduCZEMzg4IENsRtxIPFJcVwhbGGPkZLBprGggabRioFu8UrBKWENwNhQq/BykExf9o/ET5qfUy8wnxp+5z7MzqH+kr6IbnlObg5jvo1emV7FPuhu868OvvCPFU8ir0Cvdk+Wj7Hf1d/pb/hAFVBBMHugmEDC4OBRA8ESkSgBPFFE8WiBjuGbcaohpmGSYX8hTmEkoRxA8zDfkJ/gb9AuD+A/wL+Jv02PLF8Bfv2u3661vq1eg055/m4ufn6RbsZu5s7+fvJfBk8ATxPfJe9P725PkM/Cn99/3z/m4AcgOVBuIJXA0zDwAQxRBhEVkSjBNOFcUXTRm+GaQZTRmzFkIUpBKOEBoOGgw7CvkHwAMB/3r7KfiF9TfzXfEF8I/uvuwC6xzpiOdx58jo0+ql7dbva/CX8Ozvq+8Z8FXxzvNc9j35eft4/LT92P47AB8DmwVgCMALMQ7SD9cQNxFcEmoT1RSVFygZsBlhGk8ZFRcxFcUS9RCUD0UNCQuKCJ4EngCc/BL5UPa380TymfDw7hHuC+x26XDopec+6IrqwezY7r/v9O7M7rTulO5F8FzyJ/UA+AX6JPx9/YP+agDoAm4FtAgaDKIOBxDiEOgRqxITFGQWGBhrGYoaGRq4GCwX4BSdEtEQOw4dDM4KNggyBI4A7vzN+Lv1wfPe8SzwTO8D7ozrselP6CPoCekX6w3uhvBJ8PDu9O017fTspO/k8w/3ifg1+ln8lPx//D7+WQDyAj0I6gvODjAT1xN+E0QULBWdE7sTHh/3IH4dkhj/E9YQxBAqFYUQlAtFCz4I4P53/FP8Vvjh80H1+PXy86XyBusn4pvi/PFb/Fv74PYH9bbrPN7Z2+Ha09lY4TDw+fHN6Lvm7+s876b1UQM3EJgZgyIWKZImvCAmIaUo9ioPKcUq4SkWIqEZChMvCvUCbwL6AeL7XfSW8C/uuuhR5C3m+eew5vzo1vAl9hb5he916/LyOgh8FBAQ1wS/+/j0W+js4Bbbxd2B54jxLO4T55bmdu/R/OcHgRZCJIgx/jhlN9EvECu3KW4qkyjGImIcyhZODasA3/QL7fXqLuop6H7lP+OI43rkj+JV4fzkt+l68r75rgTQAwD2NvGOAxccUhtnDEAAu/oj7BLa29Km0+nZquhm9LPwmeua8P7+lguvF+0pTjrzQLBA5jzgM+IoYSKBICEefBn3EvYIL/vh7/PpgOUC4YziMefa6XLpMuv561HqaeoD7BfvJfbqAFsNVAeU8j/tZQApFjAToATR+GvzVeaR1yfPjs371p7pPPhs+iX5Of1RCoMY1SVQMjY7iUHwRClAWzK6IaUZSxiAFWgN3wTJ/TT4dPEw6EHh3+H/54Xteu/r7j3xwPLV73fsLuuD7cHz3vtSBGoBrO555kj3FxC8DrQA0PVW8uzjaNPrznLSDNum7Lr/ZQUtAzAFahGPHc0ncDOLPspDyUPLPdEwBCELFegPTA5TCiMF6P3A9pfv6+ru59DmHOqA7330pPTL8qryHvEk7HTo6eez61/yhf1IAj3w3uH06fwI0xGaBmP3+/Ot62fcctIh0R3WLOeU/3oMiAn9BLMOkx9zKk4wLjeXQFhGn0L9M/kgAhRdENkOTwmTAuH+Mvxy9njvoOjh5nDqIPGn9Hbz8vJ69j71wezB5irmnuh67nH1f/6m+NXoNuMy9jIMVA0mAIv1evPf5n/WAM5T0uzf9fS/BlsPDA55DucXoSOYKqIuqTdNQTFDsTg+KSQc1hJGDEcIdAXDAP/8VPkg9ZLuvek06h3vL/OJ9Or17PZc9m/y8epS5r/mjugZ7i31mf/u+XrlBNyM8wYSmBTTAfX0AfUE6+TWF8l5zojgBPiZCmASKA4UDRAYbSTNJ3cnezIYQxJGkTeFJloanRLkCvsEJgBH/WH81/xo+LLuZum/7Cvz5vSe9JD29Pre+pD07uri5g7nFuiG7cn1fAAp9x/j/d5C+oES1BD7/+r2UvOg5K7SxMrEz/ze3PkkD0cW2g7WDrEapiSuJEkm/TMYQl1DjjXwJaoYew/eB5kDFf/K/PX9lv4o+fDucOpj7mb0hfWY9QL4YPqt+AvzrOtO5wXlbebX68b0f//v+oHnFOBj9gIRphPgBH/77vjg6qzYms0YzhXb9PJVCuMVTxPYEmIb5CFYIRwh1SsjO8xAPjc8KgIeLRMlB6b96Plk+YT6K/3P+/PzYe6s7w7zm/Pd8q/00vhr+kP3Su+x6NvkGeWV6fPwdvoM/17zKeYF7YAHABdZDSP/Nfya96jmA9Zzz3rV4OYV/j8PoRI2EWAY3yDOIZMekSJDMKk7gznsLbAh0BfRDGQARvh89vv3oPrz+2X3zvD97t/y7PPi8X/yzfcZ/Nr5Q/Ns62fm5+Xv6WLu+vJ1/UX/We/m4jjzsxPHH1kSNANy/bvxQOAI0sbOdtg/7zkIaxdHGDIUyxZ1GsQaXRpkIcsvGju1N5cqtBzbD5QDkvlt9U/2a/k3/IH9S/hh8Rbw/PIB9E7ze/Rz+Aj84Pkv813q8uST5Tfq7u439HwAIwEQ8aTlqPRhE9seqBROBTsA2vQ65GDSq8uX1HnqbgIiE8oXyBSOF6UaTR3pGqYe9CrkNxQ3DytcHasQYga1/Gj3//WF+E/7mv2s+bTz7fFP83n0l/P78732avmy+C70Oet85Kvkgehv7ZPzuP+KBdH1JOTB7oUPniB5GE8JaQVa/X3oL9OOyCrOYuL/+2cPtRgdF4cYoRxXHH0YEBrBJ8E4PzxjMPIiIxcMC+r+HfYk9Jb2jvqr/RT7FPN975rxSvPE8YbxQfWz+jD72vax7LLkV+NQ5a7qpe+b+n8Fzf0d62nptwRHH6sgtw8bBof9EOvs1LLH8MjB2bzzZwysG+MblRnDGl8c9RmaGW8kLjWiPZI11SeIGpINUAAo92Lz0vQr+WT8e/vk9ELwUPF+8w7z7fJg9dv4sPni9o/vh+bT4bjjWOos8ED3OwMFBsn0a+eU9BYV6iPUGtsK+wGW8rncEMvuxVTPb+UhAY0WZB7vGj4a9BzBHVAaCB5VK3w3STfJK7oeYhLdBW/7GvZ+9Lr2/fp6/C353fJy8B/ywvMl9MH1r/jm+vv5L/Ts6/jjL+Pc5ZzrMfJf/KIJVwY88tXl0/lKGDEk7BfVCOD/EvEy20jJacVA0HXprQQqGEwb1BiGG9keGhuuFbQcpSzEOO41hyp8HXURzQSn+nv0b/Of94r8Pf3J93nxne8B8jH0uPXc9zP8BP/s/GT1/+pZ4y3j7ujD8JD3jwI4DbQB3+qa5XoCAB+FIjoRkQOx97/lAtCgwQTDaNb69FAPsRsKGCcWzRmAG0wWXhXAIlQ0XToOMcIiAxUSCqf/p/hd9aD30Pys/837mvMi717xgvU991T4Wfvf/z4A3vma8EnpkOai52LrbPKw++MG2A+GAJblSuBnArAgHiL+D7YF9/vg5y/PVL1HvdrTTfd3EeMathZRF4UcDBzIE9kSASNMNs47YzAlIuAUMgqy/5X4GPUy+F3+1gAh+z/xG+5G8qz2CffK9zr8AgLFAar5xe/J6ebou+kK7t/z/vrQA4wNkwBZ5KTd4gHdJNAlQhGOBSn6FeN4yvy7oL5p1Aj4ShO3GxUVORNVGNIYtxK1FD8ntznRPDIwDyEVE1sIZv/K+Yv3evonAPoAePpS8IPtC/Hb9X33LPrX/icDvAHj+bvxu+t96eDpnO6l81z7gAQhDhb/2OGM2C76yh6pJOYWZQxhAOblMc0zvti9bM6N8o8RkRsWFNIRKRdCFjcQ4RPYJ+44cjwyMhQlgRTDBqD+Lfu8+GH7zwI7Bar8M/DQ60LvdvJ39Aj5zgAmBn0EXfzO8mDry+hA6OzraPBF+SsEYw6fBknna9RP6isXiCg7ILkT8gkr8jnVL8Eju6fFMONTBugYJRiREoYTSxMZD40RZCKYNSU9CDjDK6caSAnl/vb6QPpr/bYDTAX3/bfyMO1k7ULvKPLW9/r+DAVSBUn+Wfal8MPuousV7OXvBPXz+HABPQtW/bzdcdTe+tgkLCyqHcQRjAKW5cHKZbxGvBTMW+02CxgUgA4XDnoSsRGVEJ8c3DAkPqo+7TZsJ4UULgbe/+/8+/tHAIQFYgMv+CHureo77IbuJfMO+9ECFAb9AkP8WvXL8QnvmuyN7SHyk/dA/RwC8AUP8kfY+dnTBZopAyzuHJcPrfrr2p7DrLmPvK/Q1vOoDYkQxQi7CTcQihLTGFQqED02RLg/5TQ7IhMO/gGP/xT/MgAoBNgGtf8v8l/od+fa6lzw6/ikAL8EzQMOACL60PO28JHxy/Gf8e/xA/TF9nr64gJq9pzZqNWOBNUvmS67GQkNOvxO22zDQ7z2voHP7PJqDv8NkgFWBNcQaRVeHE0xA0ZNSuNB7zSTIDQKZv8+AcsCKgKGBVkHefxE6yfj5+Xe6p3xWvvSA+wEJQMp/xv5cPKE8VX2FvfX8vPwLfEc84v0FP4w9cXazNUKAeQupSw/GEkKb/3R3HPGssCOxIfTLfPaDAwK/Pz8/nMN+xOJHXo0lEq0TtBEqzaTICsKvQCxA8ADqAGbBMkGUvvX6WDiDeb96qnx7/sgBJMD6gCz/b73MfDE8Bv2l/f38xfz2/T58jzxRfV4+4Xn8tdV7PAfojGAITIQpgOT6C7MfsbJyGbPquZrBrENOP7p9hMC2AxCFSIsHkjmU0ZMWT4CKacODv8PAXMEVwMqBaYJhABH7fjg0uIO6KLvz/sQBwkHGQJ//uH3A+/E7Bz1o/tZ+fL1uPTh8bfua/DJ+oH4cuTQ3Zr+iSfWKOcWgQj3+iPeoM7sz5PRldlq9PIJvQJc81D1pALfCpobKTkmUN9QjEZeN8IfWgmZA/QHRAf5BcUJBQfh9UTkk9864yvq//XkAuwFlQDE+8D24+1o6m7ybv0t/7771Pe0837txe1n9DwAi/1l6A7gR/kkG6wbGhJ7Can85eRl2nTZ1dNm26X2IQij/lTzP/gvAmwJKRtGNexGYEoURh44zR+nDYsLfg2OCqMJSQx0BTfz2eOa3nXhg+n/9mAALP//+av1qPB66Vbr5fUZAIsCbAEf/RX1RO9A8QL3/fpE//bw7t7v48kHbRuiE2sLXgW/9ELft9vZ2+ndiO5MBWoHHvlu9Jz7KwK0DCcmTEJaTdFHwDpNJ+kTZQ2mEPEQtA7HDtIJKvcR47LbzN9a6df1awCLANv4NPGr7Fvp5+pU9lACpgU5Apf7rvSY7nLtTvL79xcAlP/P61vZE+cwCxUYhxMKEJAI5fFa4GbgWN+k4bf1ygmHBQ/25vFX+F//tBBnKz9A+kSwQTo5oCfIFo4T1xf5FfsQGQ1jBAbzOOYS487mcOzW80H4DfVJ7zzsL+xa7Mjwufl+ACMBG/4v+dvyv/B488P3IPlb/5L+9+i+2abqsw13FY0QUwxpAxHto+DF4l3iIuaD+W4JlAIt9Fjzs/yeBB4UkCwLP1RBazspMxslZhjQGGodyBmmEc8MFAX09D7p6OZL6mntBPFf83rvAOr85+bqke2i8aL5iP+x/Wb5APdV9W3yr/Pr+ez+8QCK/pnsAN0F5b4EchZhFMkMjwKf9Hbm4eFd4JXnffhYBngGY/109Vv3XwBVDboeAjJnPsM7DjEDJwUfCxuEGrgawBgkFBYMrf738D3pbegY7efvWu8f7OvpRehy57XpWO+U9X75Jfrv+Ev3i/WU9PT29/oT/0sB6gIp+O7mbOTG9lEMthBzD2UGY/rP61zkHuFX5bzzPgLuBusDjfzi9dD3MQM1E8MhVTC9N8o0vCxyJIgdeRqjG48d8BshFxcNmP518k3rSumL6cvrquwT66rpQOgi5pfmbOqo8En1pfh8+jz5P/iH9zv5tPov/eQAzwJ/+XvtEu6A/aQKtA0nCmwAB/a07gLrmudl7IX5rQJdA/f/BPrN9PT3+QLmEIwfiC2bMnEulidwIbAcSRxrIDwjAyHtGbkNgv4C81ftCux77ZTw7/Gn7k/pVuRC4aziJeii7pXzZfaC9/30JfJN8dnzafkB/00DwQTa/HHzB/HO+ocFoQxRD3QJuf5Z9J7uHutC7pT3g/6iAJgBbv1W9hb1qf2zCvYXkCThKrkpuyZUI98e/hxaH1IiQyFQHGYSwAXk+1n10/Gx8S7zSfKT7Svp++QJ4QbhuuQc6XTsZu/C8BTv3e3l7tHyN/jV/rgCbwTs/oP23PTs+7YGVQ0mEhoNcQJ7+GLzKvAy8Jj3b/6tAa8CMgA++cv0CfhxAeMN+xueJDUlNSKlHp4Z+xfkGhkfvCCEH8sZrw75A7L82fjS9jr4W/mQ9gPx8uoP5RvivOJy5QLoeuoS7GLri+oY6yrtc/GO9qb78v5lAXb/ufoW++T/8wbrCpMOPgwYBdb+NPtO+Vf5Bf51Ah0DJgN/AWr92/qp/HMCxQlsEu4XSRjZFosVGRPHEpwUdBdWF5QWTBRoDiYJNAX/ARD/1/3N/YH7rvcZ837uluuw6iDriOpY6tLq++ph6ybs8+wl727yfvZh+Cn7Z/7t/bP7LvwGAAYE9ge+C/sKEAZqAUj+TPzo/IsBkQRuBPkEzAMhAaf/VwDQArkFfApFDlEPjQ+UDhsNrgvyDHEPSRHPEgMStg7VCs4HsQUHBGsDdQLa/zz9N/q09jbzVfEZ8O3u2e4C74vuW+5t7ubu/u7M8Frzr/UI+Av6Cfya/dH8E/tO++D9SwGCA8sFUwUzA1gBRABB/5T/+wKXBVgF5gQKBAgCsgBGAQsDYgXPCDgLGgteC2sLvQpFC54Mkw5bDs0OSQ4uC6sI7wbFBTEEugP7AwwC0f+5/Yv62vcC9rj1RfQT80zzpPKI8drw/PAw8WfxS/IM8+T0RPcr+bD5FfrG+En3tfiZ/DkBsgO3Bm0GKgPc/5v+4f6DABgFBQg/CDcHMgVmAfb+AAD5AlkGGwrUDGELwgkECQwI3AfgCWMNNw6PDrUNIQvcBxQG4gU+Bc4FmwYPBR4Ci/+c/JH5uvd89372SPVf9FbyG/Dk7knvH+948HfxBvK28iP0ffV09t74Ivsd/cv8pPxT/gYB3QM9BhAIWAf6BWYESwJhAF8BpwMqBW0FLAW2A4IBBwExAdcB6QOCB7cJjgkfCXAIDgfFBikIfQqGDFENtwzVCTYHvQUcBWoFhgVEBpsF0wO9AMz8Vvkb90b2rPUC9SP0wfKZ8CHvL+4q73PxK/SZ9T73jvj7+HL60fvO/KX+Qv+g/br9YP+QAbUCcQSMBIICcgHGADYAgP+CAcwD3QMQA6kCBAGY//3/8QC8AcQDDgfkB+MHpQgGCZUJeQpGDMAN+Q7kD3oOPwyVCjgJhAdhBgEGswQeAloAfv16+fP33PYW9ivzC/Qy9i3zqvJ18n7xqfGc80z1n/R29Tz1mPe7+cj6NP0W/5n/pf5e+x38jv/vAkkEdgXjBXsCff+E/dP76/pC/r4BtwHLAP8A6P8E/oP/zAH0BK0I+wxqDaEL4ws0DPULgQ2wENoQLxAPEM0NOgnyB0wJWwi7B2cHDQX+ALv+J/zf+In35/YG9Szyp/Cs737uLO6973TwSfG180v1wvQq9P315vi9+lP9cf6v/nr+DP6I+gn4TPrE/h4DwwMBBisEAQBn/ZP81/vN/foE0gckBtoDbgIt/0b/MQOrBhcKYA6hEWEPlA07Dn8QWBJsE+gUuhOfEngQPQuSBycGWASDAx4BHv7e+qv4ivWx8mXyi/CE8H/vHe1i7f/sMO/48N/wzvEc8sXzpfOa9P/2xPif+z/9b/7H/qL/jgH+/RX6Mf1nA94IEgnjCuYI9QJ2/nT8/Pr++3AD9QeABmoC8f/d/KD8RAGqB48NxBHVFOsSrg97EKQTpRTJFWAXjBcQFBoQJAyxBqkDuQIdAfj81PkT+DX05e/37Arrn+mw6QLquuhd59LoS+q+69LtxfBG9Dv1vvVm9zb65/3aAhQGuAQpBWkGFgJO/Kv+KAZpCzINZA0+Cm4CIP18+9/5tvo/AVEHxgSi/6f8IvqW+pkAoghGDgITlBbeFRMTsxNGFosYChvIHBobohXCEHwLngX2AZcANv6P+f30F/D66pHniuZt5WHkCeXt5S7lv+T95ufpMe1o8Tb17Pel+WT6K/yL/s0BqwfnCmELmApNCXkDJf06AegJNw9/Dt0NQAqB/xf51fgY+Wn6YwLKBxoDpvwd+/X5kfoDA1AMrxBVEykX8BUhES8TAhmeG5gb9xuzGOsQIgvbB9YCuf7Q/Vb7lfTt7ZHq4+Yl5O7kr+Vp5CzjzOPi4ybkDeja7efxgfQZ+NT5VfkL/FYBWwXpCasNUg4IDEcL8Qf7AGYCGgzEEpQQyQ1ZCsoATPgt+Ef6yfqO/ygEnf8W9wj23Pf9+boAeQp0DxoQAxKLEpkQ4xLOGcQcSRsqGqgXuhHrC3MJKAbFAY/+YPuo9Kbt3urq6EHmZeV35eHjFuJF4oTjxORm6E3uX/LQ9GL3bfmc+nj95QLvB1AMzA/CD+AN+wnmAVQBzAg2EkEUmRCDDOEBkfg69ZH3W/mJ/D8CdP/D9o/yn/MN9Uz7VgVwDWMP4RF2E3QRThOTGTAfEB8RH1IeCRhbEd0NyArxBWYCXP/n+M/wI+yE6UbmduSl5Fnj4OCD4LrhQeJ05RXrNu+g8Ub0Wff2+Cf7+P+DBbkJxw0ND+ENKwsyBF8BSwa/DuoS1RDdDAEEw/nw9HT2nfh0+x0Arv/2+ID0y/QX9uf67QJRDNYQOxO9FeQUQBWCGQkf5yBeIHEfQxudFLMP/gu+BzQDmv/l+oLzJ+6W6jjnW+R04+HiEeHi38jgD+KN42/nwOs07zHydfWH99X5wvzUAXIG+gkDDRENQAwgBesABwXpDRITQBFkDkAG4Pyp93P5xfoj/Nr/JQHw+zj39/dp+OD7RwNvDAUQrBHJFNoU7BTnGP4d8B7oHcYdYxtVFbMQhQ0GCd8DawAm/AT1tu+n7AbpcOXZ4wLj2OAV39ff1uDX4RblPelZ7HHvLvNf9Z/38vqIAOoF1wlgDWUNOw20CL4C2AQADN4TDxSWEMAJzf+7+tr6Hv2f/Uf/pgAU/Qf4APdg9/P5r/8YBwgMXw10EIYSCxTtFpIaRRzNG24cIByrGGcUfxDvCxoHRgO7/y36c/SZ8G3sJeho5QHkMuK04IngwOCD4Driy+W36cbtWfHU81f1j/ch/BUCrgbnCrAMAA2ECi8EogNiCXsRMxRcERIM8gJz/ID7ef3I/RL+wf+9/er4Q/fS9xr5tP1aBMkJPgvZDV0RkxI/FQcZeBtEG4AbwxyJGsIWbxNrD14KDQYIA5D+H/ly9WrxX+xd6DDmo+S64kbig+KK4bLhq+N+5rDp0u248V3zn/Sy9wP9RgLCBqoJzQmDCaIEEgOTBosNdhInEIoMrwW7/939yv9RAIH/GQBY/xb8O/ro+p37e/6SAioHLAlEC+kO/BDtE30XoRmUGHoXGRgrGDAXcBWJEdsLQwc3BGgBkP1O+pb26PGh7drqy+jx5hfmkOVr5MHjweRk5nfoj+vp7n3w//A38+b2vPuYADIEhAXEBZUEFQH8ATUH8Q0KD8UMFwnZAsj/8QClAwMDQgKBAnsA2P0k/pn/CADaAbUFlwcrCAcL5g7OEBIS3hOPFGcTexQ0FpoV7BPoEd4OKAoFBxIFXwIk/7b8d/mh9L3wru6C7HrqqOnn6FHnmOZY53botum861fude/u71Py6fWm+aH9WADoAOoAaQGkAA8BVQQICUULRgp3ByAE6QHoAmYFqwWKBFIDAQK2AAAB6wGDAkwDNgXABsYHxQleDJ8OfRDzEWsS7REXEgIT9BLIEUUQZA4BC8sHeQUhA8kA6P6e/CT5lPUz82rxx+/A7tPtm+yF62TruOvg68nscu5V75vvBPFM8+D1v/jl+qf71/vi/Bz9Ef0M/9sC1QUXBrIE1gLrAfgCwAXxBrYFIQTQAwgDRgObBEIFiQVkBgoI5QjMCR8Mjw5iEFARphC4D9EOAhBMEckQ7w+1DT0KnAcjBssElgM0AgsAnP18+hb4Ovai9NrzPvK+8CfvaO5T7mXune4G7/Huq+5C7+DwxPKX9CP2dvaq9nj3GPm8+XL6uPyq/3sBPgKBAtwBZAIqBPQF/AUUBQIF/QQHBVwGBwfRBqgGAQcXCJoIKwokDP8MaA2TDZQNOg4cD4IOoQ65DsQNgwxzC1AJcQcvB/AFbwQlA4cANP7Y/BT7H/qS+Lj2UPVu81byafFK8MTvTO/P7orulu7R7vLvB/Fq8TvyYvNE9Dj1/PXN9oj4dvoO/JL9uP7A/94AFwJdA28DwAOLBOEEhgVsBoUGrQYdB5kHeAjvCSMMgg2xDk4PeQ/eD0AQFRGvEbERXRFfEA4PlQ1gDA4M0QrgCHYHMQUsA0wBW/9L/T77KPnU9rX05fKf8XDwJu8b7mbtbuzW6wnsPOyX7Ert0+2j7t3va/HL8oDzdPRK9iP4qvnv+4n9QP+EAGcBrwLNAo4DOwWwBa4GqwcgCKAItwjjCR8L/AvmDVIPChBMEKYQcBGYEeYRnBIYEnIRKhEAEKcOzA5pDP4KhQkyBqUGKgQdAUz/Ffxg+/H5G/dT9FvwAO+C7jDvhu7m7Fbrp+ld6tvrZ+ym7Nbsne197y7xb/Kt8jPzE/Vb98f5/vsL/rT/DAFGAkcDvwNpBJEFTgZ2B1AI1wg3CYEJkgrAC3ENUA+EELgRYxKBEtYSGRP1Ei0T8BI+EvIR9hChD0UOYQytChIJqAaPBPoCwQB7/jD8a/nk9qf0avLA8GzvGu4T7U/sWeu+6ofqmuow6+Lrxezj7SLvY/C28Y/yCfNO9Ev2G/hx+qL8Vf4EAKsAtwHJAvwCDwRtBfoFOwfsB44IGQmfCfAKmwwaDr8PVhESEk0ShxL3Es4S+BIqE/oSqxISEgcRqA8hDnkMwQqBCAgGFgQSAo//YP3W+vP3gPWF887xWvA07xju3OzL69vqg+p06qzqgetP7BLtAO4Y7zLwP/EV8vbyXPR39nT4vvq4/Fj+EQAbAS8CKwNwA3UE0wWRBpgHUggwCRYJ0wmFCy4N2g7XEDoSbBK/EukSGhMUE1MTfxNeE9US9RE/EQcQzg3xC9kJQQdYBaQDRwHU/kD8Lvlb9lj0U/LK8HXvG+4Z7dLrXOrZ6dTpvumF6mHrNuwh7UDumu/y8Afyp/LN8+r1kPeE+S78mv1A/4gApgFhAqkClgOlBMIF/QbNB4oI6ghaCfYKmQx+DpEQKBJUE3gTVROEE2MTyxMOFAAUtxO7ErwRlxBADosMYAqBBwAGLgSzAWv/nvxW+bH2b/R58nXxTPBj7kbtFuyj6nrqbupn6jvrEuyW7IrtVO5d79bwivH88RDz8fT+9hv5efsq/dX+9/+tAL8B/wHQAlAEUQU5BlwHPgi/CGYJ6wq0DNAODxGZEpsTmxMsE3sTmhOLE28UfxTdEyYT2xGyEB8PEw0nC8gI7AaVBEECYwCd/UD72/c69W3ztfF/8GPvFe677HfrTeo26q/q4Ooz6wTssuzC7Qjv8e9m8MvwAPIn9Cf2RfjK+uT8wv6u/1oAAQEpAVECKQRgBbIGwgdgCNcIywm8CwAObxBWErATThTNE/ETlhSQFP0UPRXDFHYUgBNOElYRGw/FDBkLhwj/BUgEbAKM/5784vk79zb1AfNv8e/vx+197MHrROqW6bDpa+nq6cHqXet77PztEu+n79TvcPDF8vb0ovZq+dX7vf3o/jz/z//q/5IAbAJgBFAFKAZ+B+YHzQj3CpYNBhAUEt8TvhSYFLMUfBVYFZ8VHBbXFdYVoBQkE4kSUhDvDZ8MgQlsBgAFNwMpAIT9/vnL9tj0h/Lr8MjvkO2z6+3qy+kP6T7pQelY6QjqtOoR7LPtXu5o7hrvvPD98lD1u/cr+Yb7+/0c/oz+Pv8n/18A4QIJBKgE/AXSBp4HlglZDCEPaxH4EkwUyRTTFI4VUxaRFpoWlBaZFuoVuBSLEzkSTRC8DRMMPQmbBgYEPgFJ/v/67/i+9j/0uPHc7/7tYezk6vjpYulv6erorehj6fDpauva7M7tae2h7X7wGvP582L2F/l1+0T9A/7N/sf+M/7C//oBzAKVAwQFIQZzB4EJ3QvuDsURbxOvFAgV1hS2FZIW6xZPF2YXGxd+FosVFBR5ErUQXQ7fC4UJyAYlBK8BuP5T+774g/br8+zxP/A37hjsguqB6fro4Oj36CPpj+mi6sHr3+wA7bDs0e5y8tTzIfVz9yL6h/za/A39nf1C/bD9FADRAfUBZQKoBFQGawdXCggOmBA5EsYTtRQdFRcWZxdbGCcYYxe1F64XOhZKFV4UFhKYD0INsAr4By4FpgLS/yz8LPkY9370svHF7y7uIOx86p3pdOkz6Yzo/OjV6YzqjetU7ODrvex48PvyoPOW9eT3o/rr+/X7U/x2/LX8Gf5LAGUBOwE5AkAEMgUQB00LEg+aEAUSrBNSFMYUKBbwF6gYARhVGOQYYhdCFusVjhRmEb0OCA1tCkIHswTCAQ/+hPp190f1/PKR8KbuwuyO6obpdOm/6Ejoreid6dzqjevG6kDrHe6+8MDxzfL19Cf4zvpR+/773fsr+rD7hf+IAEMAigH+AkQD4wRGCcwMxg6cEG0SYBPWE7MVzBcMGEEXsxdnGNEXqBd/F5oV+RLyD+cNVQxOCTMGQgN6/4b7rfjn9oP0XfGF7kjs/+ox6gPqsems6HbosukE67jqqOkb6+HviPJP8SjyrfUM+fP5t/m5+u/5SPnP/BcANQDf/9kATgLDA7sGUwtYDq8P8BCqEvQTlxQGF+AY7hcAF/cYdxoPGUAYMRc0FAgRcQ63DBIKYAZyA1sAzvsW+G/29/Q28C7tLO3B69zoHOkE6ino8+ds6YHqa+l06fvr0PJS9B7wNvGM9xz6KPk1+6H7Rfjx+E3+WACP/xwA9gEkA5kEwgjRDQ0QORDkEbgT5hO9FRsZiRngF18YVhpnGvYYHhidFu8SMg9dDaIL4wbSA0IA0/v/91T1jPNV8IXtJesR6gDpo+ey547oSOhV6NDo2Oeu6KruB/Th8tvw3vLz90j6I/mf+hv70/fW+P3+SQGo/uP/7QILA5kEjQqtD/cQihGVE2wUgRSoFxgbPhptGPQZUxvoGugZJBkKFs0RnQ4iDWgKwAURAiH+9/ii9M3yCvG57XDqLukQ6I7mheaU58nncucr5rrl4emV8Bzzx/Cb8L/z8/fQ+dH5Ivpw92T2tPo+/9z/V/9YAWwCLgMYBykNtBDmEOsSfhWkFdsWvBrfGxIajRoKHMMcjRtiGkwZiBV+EeMOowxyCCAElAGu/Mn2efPS8Z3uWOt/6crnKObu5XDmoeZT56vleuPl5fvsg/IF8SnvAvGw9fP3yvhg+mD4rPWb+B/+n////pwArQMMBM4ElgrxEKISrhNRFsQWQxbiGZMdPR2jGzwcvh2JHD4bIxqdFikSkg5+DNsIswO/AOj8FPfN8X3uhez76dTn6+bV5dXk8+SI5qrmj+JZ4knoPPDk8Pfthu7s8av0wvVK+ED4xvNs9Pz6+/1z/Rf/vQL5AmwEkAkQD+YRaRRQGGgZ/Bf5GXAejR/wHt0fCSJgHlocpB2mGhoUGRHDDiIJZAQNAR/+qfgd8tLtGevk51TmAebl5EfjfuKb5Gvj9t804zns4+8r7cLsS+7c8GfzyvZ8+GT0TPEb9R36t/pb/D0BkQI0AvUERAoKD0wThxgDG18ZpRj4HLkgiyHWIrUj0yLlIJ4ffh7kGloWNxMlD9IHjQLSAFb8cvaD8PLrZeil5SPlkeQI4z/hLeIV36XbseEo6tXtqese6tDqW+2Z7xv0qveo8rnuOvOT9kL3nfu8AfACoAHtA5AJaQ4jE2QabB0sGl0Y8h0BIrgieCUtJ5kkYyF5IFAfdBvtFwwWCxHuCKkDLgEp/PH2HfLF7PvnLOYO5tfl8+N94u/gMt3D3XflHuzC6YjoAuoG69bryO3J8oTyPu//71XyrfNV9bz7hQGNAccBlgWBCnwOtBV9HDscNhqpHAcg4CG2JLEnFSjpJAsiwCCeHdwZ4xfpFLkNwgaFAwL/3Ph99I7wzuyc6CPni+Y95Vbk/t+53xDjxuji6tbo9edQ6KjpvukJ7nrwgO1O7bPu7O6u8PP01foe/hP/fACFBJgItA3uFZcZ1RjjGaAcoh5LIU8koyaWJlQk+yHlHmob9xkKGRQUXwxcBycDivz/9wD1BfES7ZfqfOnX523lwOBP4BnlEOp17M3rDuqS6Tjrvet07mXxz++j77fvqO7M7z7zF/nf/OD+FgCzAvIFHwpGES0VMhaUFy4YmBmRHJof/iJMJI8iVCDdHCwZ8BfSFjkTKQ6wCWsEd/3++N/1SvL77pDtxevn6OjmQeLn4RPnxeyq7oTtg+sf6qrqZuyB8BHzF/KM8UTxovCQ8a/1nvuq/2kBYQLkA/IF/QpHEYcUXhbeFjIXSRjCGUscnR8+IBEfqx1XGfMVxRR/ElUP4Qs8B7sBrPuV9gPzqfCT79TtIewm6vDjVeG05iTtb+5N77LtP+qW6ufrEfDs8m/zUvMt85Txd/BO9W37EQAJBA0G2AZVB/gKeRDYExoWuRfIGKAYgxg6GhkcgBygHeUcFRgjFNsRCQ/JC9sIdwZPAo/8n/ac8q7vnu1L7aDt7Op65DPjQeYn63juXe/77V3sDuub6wLv6/Dx8Tr0J/VR807zW/ZN+1MAnQS2B8EJVQq9DfsRlhTxFo4ZShuvGyoc1RvWG/sbWhykG9EYuhTcEYwOngpKByUEawC9+/H2GfI87uvqZuob69jnreMD5RLou+hn66Tsiuo36u/p2uuA7jHvn/DR8sbyJPIj9PH3WfxoAfcFogg1CsoM1xBpExgWXRmXGyMcRR3GHcQduh1/Hd4drRvwFwMVBRJ8DbMJ/AZ4A/T+3/ky9dzwDu3Y6wLsGOmM5TPkLeXn5kLpIOtv6rXpLOjS6Cjr8uuN7RPwpPC/8DLy8fTS+LT9JAKiBf8IWAuQDvARiBOLFpQabBwlHs8f8x//Hn4elx5wHZgbJhlEFvIS/Q37CbYGWgL1/YT5v/Qo8f3t1utN6qrmP+Ui5pHnt+im6onq7ejf55bnEemM6tzrVe7y78TvdfCR8sb1Lvok/0cDAgfJCcwM8w9CEhQVfhgQG5Qd/x/YIEwglR/SH+8eTx1bG+wY+BV/EV8MJQjSAzb/MvtG9wTzqe9O7aHqf+c65fPks+VG5zPoIOj25/fl1+R05i7oOOmu67rtKO4m79rwLvQK+Nv8wAGdBSsJdgyoD/ERMBSDF4UaFB1IIAciUCIKIkshKSCUHsYc3xoTGNUT2w7uCZwFugCF/Hr4fPQ88Xjutesg6IflUOT95BHm1ueI6GXnt+Va5EDkzeVS50vpruvX7O3t8O+/8gr2xPp9/2cEBQlBDD8P2xERFAQXnhq8HawgAiOjI3sj6SKDIawgcB8FHQgazRaoEksObQl7A7v+QfpQ9m/zzPD97SfqD+ZM5G7kWOWf5/Dnwubz5CDinuFl4j7j0eWR6BrqNOsu7Xzva/IV9xX8bwF1Bl8KzQ2VEM8SFRYCGjodsiA0JCYl0SQgJf4jLCKQINgefxxHGQ8VpxAIDNQFLwAH/Cr4vfSM8pfviesD6ILlBOXK5dnm8+Y05hzkCOKj4WTh2uEi5CDmceeH6ZTrwO308PP00/lG/wQEVgg3DDYP6hGhFecY6hsLIEEjBiW8Jd4lAyWVI0IhNB9OHQka9xV0EeIMiAd8Atf9ifma9gz0zfC27Bbp+uYY5pHm4ufE59DmSOTu4ZPhN+ED4i7k2+Ui5+Po4epd7Q/xO/Xk+Uz/FQRhCDAMJg8OEiwVqxiSHIQgUiQ9JlcmGybmJCkjFCHSHnocdBl/FSQRYAwsB6ABf/y1+Mv1MvMM8Lrrg+gO5wHm9+b950bnNeZ842Lh7eCF4NHhhOQ15rHnNenm6qDtbvHo9fj6NACqBPkItAxlD58SVxaeGSQe0SFIJBcmTyaoJXMk7SJzIHQe4RsQGO8UNhCaCgQFD/8w+uD2pvRe8iPvNusF6OPm+uYU6Bjod+f45MzhqOAh4JXgFuMt5ZPmNejE6STsI+/58u73G/03AjoHWgulDmURVxSsF2gbUR84I/4lFidDJ68lnCOgIcEfdR3iGqYXyRIYDQ4HpwEA/Tf5evbF86LwE+xu6EfobOea54XoRucW5WziDuG73xbfRuGU4zHl2ubK553pb+zG78v05/rWAAUGlgrYDRMQRBPxFmUaeR4JI+YmjCi8KNwneyXiIrwgex5gHIkZ1xS+D+EJdgPV/e34uvV4887wfuwc6k/pUujq6PfnN+e85fnhRuDs3zTfBOHk4ybl8eXc5oDo4eq07rvzi/lj/30EKAmDDCgO3RDWFAYZ2R3CItYmsihVKDknHyVjItogkh8FHQ8aPxXpEBYLggTR/r/4mfXO8rLv/uwl7MvrKuuS617po+f/5B3gut4Y3zrf+uEg5dflueVb5vLnRet77xL1yvuoAfMGmAvADZ8OVRE4FTkZ7B58JJcnoygWKFwlhyAfHmcdXBz0GRsXHhNQDLAFPv4p+Z32cfSr8Ovskuzv7h/xdvHy7wXsieYB4NjcTN3x3tzi++eW6PrlKOOl4uvlkOuH9Mf+cQaIDOUQgREiD9QRFRh0G9UgNChfK4wpxiY3I40d7xhhFzsYDhjDE4YPIwpuAc74X/Is8H7v4uxH6+7t2/OA9p/1XPGf6onk1N1M23fdw+CD5o/reOra5Hzfrd9F5VPvmPwPCT0S6hepGUYXThS7FU0cOSNEKfAseCzkJ/EgAhpJE0APIg+ED3kN0ghwA7v7g/Oi7Enq++ry5/HnPO6h+Wz/aPyX92PxLujD3trbZN414X/mPe2L6oLiYNxx3Ynk/u6d/xEQ7hnRH20igB7iGTobRCIGKWstOjDbLnYnZh03FbYNlgj3CIILKgfHAKb7j/TS61Pl4uaU5cfic+np+zkKPQcl//r2nOwZ34HZZdww4FDkO+yu69He2dUq1/ff5eyBABcVgCF8JqUokSQZHX8dWiZDLIgt4S6xK/MhfRb6DPAF+gArAKACBgBi+QT21vLL6uHjIOfw5VTiU+5AB5MZhRKcBcb8fPDi3TXWJtsr3zjkLOu55yrYP8/Q1PLhz/CDB8cfhivfLo8wcioRIpIikymSLLUr9ivvJjUaAws/APr43/Nz9GL5oPjL8RDxj+305gHhReY15v7m9PiUFD4mExoGC6L+xvAP3AHTyNZ03cLlO+qU4zfWLNJN2QLoavppFIUryDhtPAc6/i90J88l+ycTKSoodSZgHsAPrf6B8mXqyuck7PTxZPEQ8VfxSe1H53fju+fP5KDs/wZwKhswwBwqC9r8o+YXzKjFZtL+4GDno+fB3XvSR9E83ejuIwczJTg+REmcRvU8kS9EJaghbiTrJj0o9SJ5FOn+aOz04oTfyeJH6tDxTPUD9FrxrOsl6P3ml+n06TH7CB3IOJkybxm4AinufNZLwKTC9tL437biY9++2OTUZNiu5bD77BdgN2FO7VVlTBY89Sz7IVodph77ITohFBjrBZbxkOFX17XV89z56RX1K/yc/e35h/C/6JDqJ+xd8esKODVZRsMuJhC1+W3gAb6LsC7A9tSV34rkbePL3DHYbdwR7A4FDiiTSThcqFpiS+U2jSQCGGETShWMGW4Zmg/N/RfpmtjtzrXP/dtg7n3+RgZ/Bbj+zPTz7W3tJuti8dYRUz0HSaMufA9b8xTRH62ypv+7ktLS4MvpBuzB5+ji0+L17aUI8C0bTm1dhFlzSJUx1BzpDYkGvgdYDn0RYgqr+pfnrdbfy6nNY93V9OsHChB/Dn4Ho/zc8Fvrzemw8VQR5DloTcU0Mw1l6VvKxKv/oUO0Rs8n5DrwnPWf8qvpWuLb7Y4LODKmUKpdg1mLSqYzORrcBUT7R/2VBz8OHwmY+aDmTtf1zzrSVeDU9HoGYREOFcoRyASJ9/ru/+yT7D0Bsya9P8UyLhKx87vVxrRbo0Owi8et3eDvKf5/AbT3reqQ7MIEZyb0QrFRkFYAUTI+oiFjBhH2+vPt/BYGWQfj/8LzEeaf2h7XYt517Dr/iRHdGk4Ymgyd/cfwOO6169DuVAU8KoQ8vyhqBYTmGMxDsPap3bm00HjmG/s0CS4IPfrS7tP39hFiL89Cu034UBJJbzKkEz76zO3F79f4JQF+ASn7afCw5nLfbt5o5BTyOAcdGKQbUBOzB9j8qfQK8c/p9uljAoIpRzmwIkIClOj8zTuzLa2su/jOTuVLAOURqA6a/Y3zqP2vE9Io+zg4RvhNAkkNM0ETdvh1677sfvRZ+tj8I/1s+ejwAedG4bDlhPO/BscVbxlHE0YKygBT9v/uDudu4qzzgBqmNWApYwnH71XbbL/drXKzRcfz3/D9sxVbF+YHvvo6/i4NIh2XK6I7/kmiTIg8gh3m/ojsy+jx7Dbzqfm1/30B4vrH7mnlguU17xL+jQwZFWgWCxG7Bx/7k/BY65jkJ+MY+W0gLzObIsAGIPAo17y5wq03uFHOLen6BuwZVhcuB2X8pv8FDLMaASu9Pb1KJEh3M64UbPnI6lboKu2s9Gb9aQMtA+H6ne9k6PLorvHz/94N+BWcFY4P8AXW+JjrUeYw5BPjKvTOGVE0WyhhCVvuydhnv4exlbgxzWPnrwWRGnwYGgd/+hP9RwlGGCkonTkfR9tGpDQVF1D7wexC65fwq/Zo/fkCWgRm/b3x6OiI6ZnzGAJdDjIVwxVaD+cES/hS7QPpDerd5Y7q+wSzJoAsLxaf+gfl7s9SvRW6A8SX197z6Q3PFZwMCwCn/RkE/Q4pHBstvTwOQ8Y6NyfpDVD67vHD8mz2UPrE/1ADDAIp+qLxN+5K87X8pAZ3DWMR8BH9Cmf/LvIC6ZroO+6M6Tfns/v/INEtLRjP+qvnhtUkw+S9+cRs1I7t2gihFE0NHP/5+wEDNA6KGiopzjc1QXk+Cy3pE9j/1/d990T41Pjq/gwF/wPu+v/xSe/j8uD5hgNhDaUSHBK6CcD9AfKc6urmXutS7h7pt/AADV4paiLwBSbsNt+BzwLDPMIUzQTgPvn8CkAMmwI6/BQAiwmHFn8lETURQC1DvDgPI5IKFP1r+cT53fnp/V4EqAT5/E7zTO6q75L2GQH2ClwRARL3DNoB4vOq5ybjlubf8Rf2b+ub61AH4iSyHUECFe+S5/bXF8b9wTfK0Nqm8TIEBAlvBE8AvgQeD/Qc6SoyODNCZkV2Ok4j5wsu/+/7Y/vQ+j/9qwE8ADD5KfHb7lzyTvp2A1wMmhAMDl0HuP5A9HPpuePO5YruUfiq8zLmMOyOCiMgbxTj/Yvxa+rj2ObIhcNAy5DekvaNBT8JMwdwB2UObBnRJEguqjjxQDtBLzIBGz8IZAEe//L7ovnO/bwC4v+i95HwKPGJ9u3+sgW3CZgJIgdsAVL4DO1K49DiNOfE7l322PgG617mUPo/GbcdWwx0/HD04eMh0cbGd8Zr0+nqzAA9C5oOHg7ZEFkVoB7EJy0xIDnnPfY2LyUZE4cH8AEK/c35VvulAPH/Tfp19EHz3vRI9wn7yQCcBH4DhAAn+rfyauqP44nluOr+8vf5wPu27O3nffoyFk0a9A3aAej4FudH1FzKGsYO0VPqWATfDl4QXw6OEP4VCh+lJgcvmDjIPzA7NSjWEmYFhAAY/U77cvynAFQAMvs69M/tiOuO7wf43v9fAx4DnQH+/DrzzOlm5P3k1erP8xP8VQTG+i7msOBc/cIZPhusDe4E5ftt5vzSdcZrxw/Ym/V9DAEWxxNGEHQPOhVAHjwmsC86PBND4TiBIbUKOf8d+oz4jvlJ/9cCigBA+JfuYeg06NjuxvgzAYUEDAPj/hz4O/B96MroN+xV8f71Fflq/Tj9GO7U3fXnTgo5IdYfwRIPBt/z9d3nz+vJqNBp50kDkxM5FTUOsglfC1sUQCD1K9k3bkCAPrEtWxW9AsT6QfrV/HQA2wLiAA76y/Bq6F7jneeo8iH+SgNaA9X/C/0n+E7y/uwK7DjvsPFy83nzfvfi+/fxeeHi5h4HUyBnIQEarA4m/C/lpNkJ0vfPgOHy/kgQWRFVCmEEgASIDJIZRSQUMZ8/CkM4M/gZQgZJ/ID6p/yyAG8ETgWsAZ73wurh4bDiC+yN+LgBCAUBAx7+P/jr76zpPumv7pjyO/T29gP7Bf+l/7fwjd/v6G4LQCO1I1MbRg4p+WrjgddHz/POr+MOAecPxg1YBWv/4/+tCcsYbiY+NPdBaEThNAUdBwoc/7j8CACMBLQFzwLP/Hnyw+Xu3q/hDOxD+LEAQAM+AR38GfbS8M3tge+P9DX53/qw+df5CPtb/tD70Oqf3wvzChXyISUczRJlBP3uG9/e2R7VJtkK8BkImA/RCBb/rvnc/ZwNHx/UKh03G0PrP7oraxSUBbT/dQG2BgEJHgeCAb34nevb4L/e0OQD8Hf8vAO+Asj8Zfaz8VvuWe879E78KgLJAML75ffR9zj4TviF7JXijO68DWoe6BmXEHIED/Ma5YHj/9053RjulQTNCHMB5vm/9Mj1PwYqHFsqKTZmQaxB5DCyHFcN0gP7AVcIpguzCAsCBfon7QfhDt7n4vTr5PZbAN0BqP1w+ET0yfFs83X5Yf/EAv8CKf5x92PzgfOf9aj1sun15VP21Q7qFQgTIg/5AevuSeUO58bi4OQC9dADUAd7BE385PO9+KIMdiG3LNw2Dz6OODMpZBjZCQsCRAUHDb8OlwgTAO31jOmA4YfhP+a577j7qgJVAHL5BfT+8WXyG/b/+tP+QwI7Aj37LPLB757ypPeO+ejvu+ps9cEJcxDvDSgJ4/9h8kvs7e216SDpWfMPAJkCHQI6/X34e/wlDnMeCSUMLKIyfjEVKC0eaBSGDZYNUBHrDKkEYf3u9dzt4ulS6/HsP/B39Uz4cvWg8iryyPKM9Hv5PPyp++v7kvvs+Kj0zPU4+oz9hv9J93nrn+s1+uIGEQpoC1wECvmg8HvweuwY5zbus/rxAAEE4gMc/Tv6uATXFaoeAiXJLdQwhixjJWYb1w+2CsQO2A/RCmYGzAEh+tXyJPDj7bjrce6U8w315PPR8ujwPe/08Qv3bfnv+rf8ifzE+X/4h/mH+BX6r/jF75jrAPRrAcEGRQhzBV77kfFB7xrwvO0o8DX5TP6cAYoFUwLn+079BAqoFgwf6SYlKncoAieVI/Ma0xJ6EpoVdRRNEeMLCgGL9QTwt+2n623s+e9k8X7xePJ38fLttuwM8Wz20Pr8/Yr9lvi+9Lz0w/V29QH3/vah8HfwnPh0AHUBkQOeBAT/Zfd89XL1QPLx9Lf7x/10/vUCbAJB/u3/yQnNErIaqyT7KMYlOSOOIdgbqBXiFNgVKhMMEYgNGgRO+F3y5u9p7lbwlfR79fHzffNH8aLsreoU7Yvv6vHZ9br31/QD8jnyQPNl9Mz3wfte+Rb2M/km/rwA3AKxBd4C6Pyn+iv7Ivrq+fb9zf9g/4cC/gRjAjIAxALUB0ENghWqHJcdUxwtHAUaGxbxEwMUfhLfEN0QaQ2wBuIA3/yf+Vz33/dc+JH13/Ic8HnsEupC6mTr7+vB7RDwwfDV8KHxvfIi9Pj2wPpF/ef78/jx+Gr8GQE1BT0IWwepA4T/3vwD+4D6D/2gAFYCFARXBdUDMQEVAEUCvwVwC4YSkBb0FvcVGhRzEd0PSBGjEicS0BEiEJcM5wf6Avr9M/r6+Ab5ZPgj94z1C/Pb72PtYOwe7GDtyu/o8f3yqPPz84rzqPOR9Xn3K/kr+Zj4f/rQ/RkBOQONBQcGKwSZAWsAVv92/8YBHwMDAlMBzAFbAbgApAE8BCAGZAmjDbUPfxBbEfYQgA6tDB0NSw0NDcAN6A3NC/gIDAdCBF0BXwCr/wv+Uvwx+/n48PTy8U/wve5n7lLv8+9y76jvCPHq8WnzGfZH+DL6xfq5+ej5BfzL/0gCQwTfBGgDFwD+/e78RfxE/mIBVQLCAdUBiAHm/y3/JQHWAjMFewq5DsAPpg8KEPEO1gwIDvYP5RC1EfYReBCSDFYJHwflA+0BrwHaAHr+yfsk+Sv1J/H47gjueu2M7qPwd/H68BbxpPH18Sn0ovec+e37mPxu+mX5M/v6/TT/6QHUA3MCRv+Z/sD9kPtb/EP/3v+M/woBEwLnAHwAZQK8AqIE/AnvDlwRnRO1FQQUixDCD6cQQRASEWsSIhCpC48I7ARn/+r7uvtX+3n6Afrm+Fj1i/EF8GnuPe3o7kryOPP98kTznPJ48aXygvV09w365/yL+9L4G/ps/lwB/gILBkIHfAMFAMf+pvvX+qz+4QFqAXUB1AJdAaX+QP+tATQEAQqsEagU+RMbFFcTzw+2DXQPLxFcEegRmRA4C8kFoQKy/yb9cv2t/tP98frt95LzDe7k63Tsbex27ZzwRfJ28bTwafAu8FTxR/Zo+yD+qwAJAtv9+vl6/PkACwONBkUL5gp5BToB+v7i+e33Gv33ADgASAGuA8sApfzf/YIAcQIDCacSBBZUFNUUkxR1EIYOgxHLEs0ROhKjEGEJcALK/3r93PnL+R78wPo89zH10/FV7ArrAO057WztY/Bg8hDx6e9u8cXyUvSq+U3/FAFJAmAELgF2/Pz9QQTrBtEIfwyuC9cDx/1I/OX3mvX7+kkBzwCM/8IA1/2B+QH81AGEBZILPxQ5GAwW9xPZE14QJQ7mEbwUjBN7EnIQWwlfAdn8Kvu++ET4k/pf+Rr0GvAL7W3o+uYo6mPtC++h8U30x/Nr8lPzTPWl9zj9tgNfBnwGCAcrAjj80PyDA54HAwl3C1MKVgJX+pT3PvSv8nf4YgA3AQP/hf68+4D3dvkKAUgH9Q5nGF4cihi8FO8UQhM2EroWiRq4GN0UKhDNBr383veq92j2vvX59gr1ie4L6bTmZeQR5YjqTfCp8kv0L/aP9eXzjPVE+Qb8nABfBnkIMQZvBTYCifoK+uQCaQlKCVMLYQw3BL/4jPU69Wfy3/YXASIDEf1W+6/7MPfE91gCDgz8EHAYLx4yGl8UzhVGF80VWhhUHJcZzhF+C9gEYPuR9QH3YfdN9OTz2PKF7CjmZuWa5lbndOsL8dXyOvKV8+H0F/QD9UP6kf4dAWIFyAjsBlsFagNY/dn7WQSBDTkOygxdDJsFKPl/8xj0xPM797AA0QN1/Fz2APan9If2ogEWDp4ULRk7HX0arxPBE6AYGBorG38dgxoGEfoHrQGh+rr17vat+Jn1f/GG7v3ptOQJ5ALnOOn9617vCvEa8FfwJvML9q74rPwMAWADcwXwBhcH0AZqBW0A6P/CB3QOxgzTCXkIQQL5+E71Svbf9O/2a/73/6H4d/Rx9pf2BvqZBH8OFxLHFWAaDhhjEygVMxrgGjobdxytGHAP3AdPAwH9Lvi4+Er5svQP8E/t7uix5GfkBejZ6bvrlO/f8cbvq++K86v24Plk/bUAJwNbBcgGoQYxBh8EJ/8qAIcHCA3+C4sKdQj7/4f20fRf9o31b/mVAKP/Wves8yr1efXE+hYItxH6E58WVxm/FrUTqBeNHXceIR5zHXsXFA1tBkYDe/6y+jb6n/gx83vtMOoC5/Djg+Vy6YLqquqa7GbubO6e8O70J/l2+7H8PQBlA3AE/QUdCO4HkAF1/jAE5wt1DFwKcwm3BLv78/Uy94P2zPWy+0kAmfoT843z7fW0+E0B7Ay+EeMSUxYUGMMVPBbaHCogiR7yHMQZBhI8ChUHjwSu//z7kvoG9v/u1OpD6TjnH+b+5yLpd+h/6LjqiezC7bbxvvbY+ar6E/2dAH0C1wQwB+4ITAZxAY0CVAluDXkLsgkXCIgCn/qX+Fb5svc3+Vz+nP109VDyL/XV9kH7XwXiDFcOzRBpFNUUZxMfGEUfOx+tHRkdhReODrAKFgkABXoBcf+T+/L0eu5v6/Xpb+i46N3pCuk1557nnekf64Ht1/Hd9eb33/gS+6v+xwGPBMEGRggaBLAADgXIDFIOJAuiCgYIIwBl+XD7Pfwn+RP8ZABg+3fyaPOp9lv30P26CNUMIQzRDt4RSxHUEqgaEh9gHZIb8hkmFE4NcQuyCtAGtwImAA/73PNm70busOwJ6t/p7em/5yTmiOfr6WzrUu4Z8iD0kvSt9ib7bf+UApsEMwf0BQMBDwJnCSwOhAy/CtsJ+ARU/Tj8xP3I+wT84f9B/0T2bvI59g35TvuAArkJ6gkSCtkNLxALELgVdhxIHcUaChl7FvcQcg05DT0LRAZIA8L/z/jM8pnwzu+g7SDsXevs6cDnb+c66ZTqR+y679XyW/PU88j2jvsvAMoChgTzBUMDAADtA5gMSA82C8YI6gcSAor7/Pw7/278CfwyAHD8L/PQ8tX48fqX/aEFxgmJB1QIAw6ID+EP8xbhHBkb1xeUF7wUVQ8ZDnAP3AtMBoYDBAAY+R300vN38q7u6Oxt7Orph+c06B7rL+v269zv6PEZ8Z3yIffJ+gn+TQFdA7QD2gDl/30E9QqZDBgKWgiwBwgDz/3B/j8Apf6e/osA7vzg9cL1tvr+/Nb+tgSECDoHqAcEDP0NqQ48FPcYxhfaFIwUVRNtDyQO5A57DLkH/gRnAXn7Hfd19kz1z/GW72zuWew86mfqsOsC7Avtmu818UXwz/D19Ij5WvyR/j0AaQAF/qH+OARSCawJaQgpCBoGggEIAOcBjQEmAJcB2AHM/In4Efpa/EP9CwF7BRUGXgXzB8wKagv1DU8THxVxE+ESoBI6EKQO1A7PDWsK+gdyBZkBOP0y+0n6IfhD9UXz+PDj7Zrs6+xq7W3th+7578Pvcu/28PrzOfdj+pD8yf2B/tn82vztADMGewcLBqwFvgXLAsgAVAKJAh0BngHoAjv/6vrJ+4/+Cf8iAXMEdwUXBdUGiglHCoELmQ9sEr0RpRBMEEoPYg3PDeQNfAvGCG4H8wSFAOX9Lv1q+8f4U/dS9TPyKPFK8anvPO5v78LwjfAB8CXwR/JZ9I/2U/kd+v/6FvpS+rX84wDyAlMEJgREA4EC3gCuAFECSgOUAtkC4AEG/yv90v5iABsBOAN1BZEF8QSQB2QKaQvYDGMP8Q/jDsEOrA4hDe4LsQxkDLUJLgeFBTkD8ABSALn/fv2y+wz6TPjN9W30dPQ59OXyFPNZ87nx7/As8pzzevQ29qP3nPfP98/3svcY+dj7XP7S/pH+Gv/s/pb+9f9bAY0BjwG0AjMAFwCfAVf+uwOvBcgDSwWICXQFEwjgC9cM+g0YDpwN4QykDEsNJQ1UDOkLugrWCGkH3AYgBc0D0gP8AUIAN/8v/XT7+Pnp+CH42/Zi9ov1GvSE8xnz4PL38pvzQvW/86LzjPXF9IDzRPbc93P4+PlG+gn7t/tg/LD9//6A/+//8QBTARwBtQHVAmwD6wMcBfgF9gUNB1gJoQnwCS0MywxkDCwN1Q1jDbANHQ7SDccMIwyUC6EKfwlDCEQHCQZVBM0CZQGi//r98vxF+5D52feJ9k/1tfQi9NXybfFg8lLyr/Ad8Hzx0fFz8RvyBPM98wf0WPUV9yj4E/lz+qP7rfzh/cX+av++ADUBbAHlAnwD7QNJBXUGeAdUCXYKpAuuDCgNGA5RDxIQ8Q9eEG4QtQ9MD1kPiA6nDRAN1gtjCkEJgAeqBV0E5wLXAOP+0/yd+pn4/PaK9YH0MfPO8Zvw0O+37sHuxO5S7vPub+9L7xHvK/Ag8ezxovMI9gf3c/i6+o37+fy+/pf/xwDIAZMCVANvBEEF9QXnBv4HEglNCmcLZwwADWUNmQ51D60PSRA/EPkPJBANELUPTw9sDn8NXgzjCtQJHghtBsAEsALfAAX/yvzV+tT4mfYE9eHzHfKe8Mzvfu557WvtR+067abtD+5S7tHud+9e8Bzyh/NO9XD3+/iO+j/8vf0E/wcAXgFLAhsDQQTTBGEFMAYHBzIIZQlkCqAL3AxEDcgN8w6JD5YPzxBkEeYQ+hCwEPQPhw+7DrsNEg2BC5oJIQjbBccDXQJSAAD+RfxJ+iT4OfZ+9NfyivFi8D7vWO567RDtJe1I7VTt2O2e7gXveu9u8Ofxc/OC9ej3uvkK+3L8/f3V/gMAfAFwAgcD0QOUBBQFwAXHBhwIXgmvCgcMHA3BDTYOGw/jD2gQDBFZERwR0xDaEHoQ5A9lD0QO0gxKC3AJvQfwBSUEWgI5AEn+BfzM+Y33ivX384fyRvG/723ufe2o7DLsmuzx7EztEu7O7mXvEvAJ8X/yIvT19Vf4SPqK+9n88/3N/rf/GgEDArwCUgMRBB8F+wUSB0wIbgl5CvYLGQ3bDZMObQ8lEKEQMxGrEawRvhHIEZsRyRDjD6oOCQ0xC9AJEgivBdsDBwJb//D8tPo4+B32XfTu8qTxbvDG7ortw+xf7LTs2uwR7eTtwe5879rvZvCm8VbzI/UH97v4UfrI+xv9O/74/vr/BAGeAWwCCgPxA/0E5wUTBzUIYwn6CpAMtA15DnUPNBCYEGsRFxJNEooSxBJ4EsQRwRCyD6AOwwzmCncJRwfpBAMDVQDb/b77Wvl/97b1qfM38tTwyO6O7Vrtqexm7Abt/Ow57f/tq+5M78LvsPBP8kn04/Ve91z5+vqa+8z8Ev6i/nH/nwCCARcC/gIKBN0E8wW8B4MJ5ApzDNsN0Q5iD0UQURHQEY0SqRO3E1ITIRPCEnYRIRBMDxAOIQz/Ce4HrwXgAowAnf79+2j56fcH9rfzLvKo8Jjup+0f7Zfs+ewW7T3tsu0H7mruT+8D8A3xvPIt9Pj1pfcp+Sz6LvtV/Bv9//3E/n//XAAtASUCXANrBMsFkAdICSMLwgzwDcYOuQ/MEL8RphJhE1wUjRQRFNAT0BLGEeEQaA/pDaYL+wjXB2AFrAFi/wT+BPuF+Fj3/vTa8t3xdfAQ75Du6O1r7d7tt+027qDuo+7z7m7vnPDh8anyDfTs9Yz3ofhu+Zv6Zfu8+/z86/2A/mH/pgAxAo8DEwXjBu8IzwqrDF4Odw/6D1YRrxI1Ew8UqBS0FJUUQRQyE50SyhEbEOIO0QzcCd0H7wXkAggBOP94/PD5LPjr9eXzXfLH8PzvE+/37dLtuO1l7c7tRO4+7iTuhu6A8FvykvLA88j1MPfk9+b42vnc+Wb62fv7/DT9Fv4OANQBuAJYBB8HmwlXCysNtA4KD08QhBJtE4kTcxSPFZsV6RTiE3YTuxL2ENcPCg7uChsJrwflBM4Bm/+u/Zv7O/kf9471dvOk8WDxmfDO7nLuw+5t7nruq+5L7vftZu5E8cry5fHj8vL1lPed92f4YPlr+az5Qvte/A78u/xS/8AA+QAWA1AGMgkkC1oNpw7YDgkQ2BJiFDAU6xQQFv8VsRT8EwUUqhJ7EAwPDA3BCY0HXga3A1UAIP69/G/6S/jc9sv0DPNn8hfypPCq76bvEPBM8Hzvne6t7rrvP/J581zynPJf9ab3aPd39//3S/jQ+Hb6gft1+zH8Yv4PAFUAdgLGBcUIuQq3DE8Oag6eD+oR0hNtFMgUsBV7FR0UHRQBFEkSSBCGDqYLCglGB00FBAO8/xD9Wvsd+br2CPWw8/byoPJn8TLwue8Y8H3x+fAk76vusPDC8wP0l/Ib8wf2dPeb9173jfd592L4WfrJ+nL63fvU/icAVgAHAqoFoAhTChYMNA1tDewPAhM8E5ESxBObFd8VfRRDE6cSHhFED5ANJAvHB1AGEAXaAVL+Ffzv+gn5l/Uv82jzN/On8ZLwZPBm7+fw0PHh7z7urvE59h71xfHN8lT3U/gz9+D2LPco9or3iPqO+wf6HfvG/gEAx/9YAkcHOgorCxAMzQ19DuQQxxONFEkTuRMiFtQV9RPvEtISLxE0DtALuAkzB3wF+QNXAMn7KPp8+d/1HvMG8wTz7PFC8DnvqO/Y8P7vhe6h76/yxPWI9G7y/fMC+OH4cveA9rT11/Wc96P6e/vH+Tr6jf5GACUAtQPmCdULAwzKDuUQWhB0EmsWJRYmFPcUMBf7FagTLxOREsEOhgvhCUYHyQRTA1sB6fzO+AP2R/Tf8nHyI/L/8B3vQu5D73LvU+1h7t3x3PTc8/bwgPGu9pH5EPjZ9dzzZvTL9hb6yvo5+Ub5+fw4AAABSQMSCIAMEQ5HD60QOBInFIwXoxi2FvYV5hdfGIwWPxXqEjYQJw1RCqUH8gQ4Ar//MPw398vyfPHJ8T/xce/n7Vvtju2k7WzrJeyO8Gf1BvOd7qruj/Rm+FX3r/VR8wfzNfSU+L74h/gl+kr+SwC3/9MBmQdwDo8QnBEXEjoT8BVyGjYb5hiGGDEaKhpgGJoWxhTAEu0OkAtYB8ADuwEnADz7M/Q+8O7vuO9l7jvtYut66l3psedv6WnvcvPo8NTs/uwy8Xn0gvUk9cnyqfD78b/1evYK92H6dv5K/wv/MAIcCIsNeBHTE4UT8RNFF5kbZhzHG0Ic7BztGyoa9hiPF9QUkxH+DacIJgTWAYj/u/rm9DvxVu9e7vTtoOwM65DmF+V36aPw6/BV7GHpIuv77+rxWvKT8KjuoO498sLyYfLP9Bj6R/6g/lb/0wFGCHoOCBP7E9sTuhSQGCQcFx0VHZkdjR5yHWcbmRneF74VthP0DrEIAQTXASP/mvrZ9bLytfAg73rtiOs65mvmCO3X8zDvTOjC5kXsMvHz73TvxezJ6xTsw/Bw8O/uE/JB+jL9XfvU/JwBHQlvDvcSdhJjEZETURnWGwobcxsfHn4eEhzyGdoXGxbxFNcTwA36Bo8CNwLU/nT56fWS8+TxZvAh69TlLuux9N/2Fe/a6GHoE+7O8C/xIvAi7L7q4e178OnsuO559vv8Wf1V/MX9HgOyCnYRxRPLEPAPPhTZGLsY9hjxGiIccxryF/YUARJ9EVoSEA9iB4sBuP8R/jP68/dl9mjyEOwc6f3ssvR79STy8+2x61rs3eyp7ufuZe1p7IXtgex76+jtj/Uo/B3/HQAVAQ4FeQu2ElkWAhYSFeYWtRgaGdcZABzKG0AaixdDE2MPgw3VDI0KEgXU/2n8r/hO9bT0xPPF64XnEuqk8871b/DN617r0+za6wbt7ezB6uXpk+2v7GnqhOvy8qD6pP2x/0ECVwe0DI0UqBgoGHMY2hxbH0kesR5HIF8gix90HbsYfxP+D0kPCQxNBvD/hPze+Jb1+fKW6yLke+U98HXz8u3i52bl9eYT53Po0Ojo5e3jKejk6DPln+Wc7XT23/qU/dP/oAPnCacSLBg1GMkYTR1wIKEfMB85ItUjgCOmIiceAhdoE2sTrBG8C4gFLQLu/h77GfNO7L7qOfL+9ijzyuvk5FflGOWB5YjkAeK237Th2+J04GLfPeXj70L2BPrY+7D/7gTYDGQTtBVJFmIZYR3nHj8eXh4RIWAisSGdHiIZlxTqE2gSPQ0ICHAFgAOZ/BL0wfC29Rb63PiP9bLueeoF6ADoeueV5HLi4eNm5EThvt5X4S/pGfHv9yf7IP0xAGYGPAzwDz8SxxX1GTkbKRpfGaAaWxzRHWMdqxiAFBgSJA/4C0UIEQf8A0/8fPYz9rT55fhH+Cf12vFO7nzrfuox6EPmCOb1547l4OLo4vrnW+3381z55fxcAJwEBgptDD4OLBFsFjAZnRkfGYYYwBc+GR8ZTRa1E2gR6w5ZCg8HRgX3AMT6EPfq+Ef8a/kS95f07vEe71jshetx6h/pA+qE6hTnVuQr5tHrQvFz9538rf/6AlAHograDBEPixL/Fr8Y5BjlGLIYqxdYFxQX1hRIEmoQ+AzxB0wEYwEq/IL2fPXE90n4Q/ZL9JjxfO7h62nqmum/5xjo9OpB6g3n2eY/6T7uSvXs+3QB0QRwCOwLyg1OD50ROxWYGAQaMRtWG/oYNBiUGPQWkxSWEiQQXAwYCHsDBf019xz1c/fm9lb1b/Ig8BXub+nM5tLlFuQQ5eHnoeZ65NXjMubE6rHwTfcr/ssDOAgMDMMNgg75EGoVzRirG3IduR2RHdYcRhtoGQMX+BWuFIwRyQ3yB0IA3/lv+Cn4ePd89jT0OvEz7dToQebl44HiSuS15Wfk1+JE4+zkI+gJ7XXzX/qwAPQF2gkhC84LbQ8YE00W8RmfHLse3x4YHg8dXhpOGHwXFhduFMcP/AkKA2r/L/0N+835HffE9Azy1ey26JTlvOKT4tvinuL+4XrhgeIo5WXoTO3G8y76GQDkBL0HkAlyDBcQSBOvFskZaBw+HmgeJh6sHCMarxhLGLAWqRLfDTgIUASJAdL+ZPwR+Yz1VfIx7knqdeZd41vim+CR35/fdN/v4DPjEeY/64rxRvhE/qMCkAVmCN4MphDNE24XGxqZHYAfJyBTIJgdCBxtGy8a4RfcE4YOtwqDB+MDDgIv/n35g/XK8Gns8+i45MLiEuHO3vzdpdyZ3IDeWeGs5W7rxfH6+NP9/wDYA+cHhwxQEAcV7hgsHKEepiACIVQfEB6sHYIddxuxF2kSOQ5kC2IHzwR1ANX9EPbp7wLvD+sC5VLj7N6z2wTeVtwV3AHfo9/r4T3pQPBh90T9vAB6A7EHaAvcD0oU8BfeG1sf0CDYIHUfkB2WHKEc5htGGIYTFhBLDPgIaAVpABP82/e/8vXt5ujt4+3h2N8G3cnbItsT2wbdgd8s4/Hopu+N96v90wAFBAEIDgwFEbEVzxo3Hu8fOyJrIQUfHx78HesduRvJFlgT9hBJDSkKgAXr/mz5TPSY7gLrueZb4+rhBt+z29vZC9mI2rrdW+Ga5vLsWfRs+5//kwEOBcUJ+Q2bE34YfhvyHtcgfiFWIA4d7xxaHkkcFxg+E0UR2Q7GC9YHDQJR+3/1APB/68fmLeOd4tLgFN3i2sHZltlo3Ing2uU47Hf0tfw0AHkFwQd6CJYO0hPUF2kdISJ2I2sknCFlHLYccx5hHMsXZRRjEtYQVQ2qBpn+b/Uc7hnppuX/4Ajea94r3e3Z2tbj1QbX5toD4gjpNPAa+tEA4gYwCTMIcAxEEicXGB96JNglCScaJUwgTBwtHYQehBtUF5cU5hT7EhwNWwTq+TPwKerY5ffggtvm2R3bm9gy1LfQLNHP1MTbj+Od6zn1VgFxByoJ9Ao3DLwQpRiJHlkioiW/JvQmcyMVHAMYXxqMGd0VmhM2GLEZKhSHCU78p/Aq6JHi2N48227b6t+44Bja69L30Z/VFd1K5/TxCv2pCNwRUhHpCt0IUQ6YFbMb5x9vIoUjySGgG/gSeQw1EJUQlg6oDVcWqRs+FnoIifqW747lEOAp3AjZbdmw4FTht9kH0ajRnNg94v3uxPoZCZkWOR9kHYcTuA5BFPEa1x75IM4h8SGCG6IRuwXlAcEFwwOqAqEJvhrIH78T3/1M8LXk4tlK01nS2dPi3NDmGeIL1dLMT9Q74W7wkwGVFbQn3zOpMsIlLBgGFqEcLiCsIAQiXiIfG60KN/pL8in5+vYp9Hr4JRMeIy8a4f937PzivNiwzsTGU8lR1Brlc+QH1tHIkdB14xz2pgVQHFc41kgISk05RCe8IGEloyfnJMQhhyHSGZICc+ww49HtZuro58LxZBiILJYh9vzY4g3VU8qJwSa8AsWX2B3sCOV20GrATctO4rj5Pg8OLj5NC1vjUps5vCUlILgmfynTJ2ok9CYiF+T2J9qi1+rrxus559PvkR13M3YjfPNb2njR880Nw/u848UY2VfpldyGx0K6Ss0M583+xBV9OUNX1WCMUJA3Myn5JTAsoiujJ3MkfyOSEYnwZNaz1QnpbubJ3mDoSxsIOR8uW/6I39TQcscruZ2xEr051p7s+uPUz2vBFM2Q31/3BxRxPIdZeGBcUHA5PClaISEfeB5dIcQlxST5DkjsqtXt1jHr0urf4kXsIyAXQ0U3pQRL3urNcMJitPetPb1R03vjLdtGyz6/0Mg03Mv3CBo9Q25e52DvUPg+oDDXIwkcWhq0H1Ajyh3yB2nsNdmR1OviTuna4Tjk3g+cRNVOnyGw7hPYiMxXvIuuRbTsxrnb8d7F1YPG1sPb0X/uuRJgOR1X4GEjXPRO9D7uKK4XlBMQHEoixRxpCyv3ouE/2KvaF+u06SDmJPG5ILtCXj48EVXrH9TmxdK4gLUhvz/Lf9e42yPc5NHoziDbU/0pJlxKh11wYPBYYEqHM9kYUArlC7kTCRWkDJb+vOxJ2lXTjN9M6krl8ONJAUI451XbPmoJv+MZz8rFHbr+tAu5tc0z5TfyWeRWzJfKfepOGNQ6IUymVHdftF7hR4sfvgBn/KYK/BICDaD8tvL256jcz9KZ2jjgGeDQ5voN2kFQV0A7uQke5RbNyb9JsZuugLiH0+Ps9/fW5p7T79Yk9uEb9DVMRjtVM2GnWhc+jhYe/pb7DAahCAYDt/qU9k3rydzCz2nUNOAO5JHmNwEcNpZZ10x4GkDuVs9lvzmwrai9qyLHceoP/XrwT9zA3Gn2ihj2MQVCiVDwXiFfMEf7IS4GQv06AVgDG/1n9Ifx4u2N5FzXAdfb4+XqE+oR9Asa/kOYTbwm4fag2HzOoMBFsuGtB8Px5Kj+YP2t6Xvg8vH0EJsnTjW4RO5XtmB+UR0tEApc+5H9HACp+CvxkPEI9iXvn+CF1M3djO0p8xPwygGtLzhUBEkzFgjrb9e1z/i7BqtcrAfNuvK1BA74yejD6+gCiRsfK0g1a0YyW7tfYkUQGgP9IfeK+RTzlOnG6MPw6fV87BbbHtT142X0TfVm7vIDtTXfWiRItRBt45LTacqXst6e7qhZ0X34iAl3/xDy6/NvCq0gEysfMXFE41w/X8Y/BxXn+5/2y/OP6YzkuOrO8xL3/+0R3prYMOqM+u34ee/YBnM8FWA8RSQJpd5W1MTL07KFnryr+tVs/WsMrgHk8xb4phAAJTMp4CoUQGFcXF0+OvYRE/0Q+KrwUeS43kvnEfMg+HvvFuJG3WnuJQG4/ZHusPpuLFVXq0v+E+Lpet0+1gO8I6IvpPjKVvViDHQJaP/k/7gRQh/IHhgdBjAXT3Jb2kOXHZQErvqD8YHihdjt3g/wO/pi9wXrrOQr7XoCGQSL8ynqDQ1XQJpUKzC1/53k2tziyS+twp15sYHcpQH6DyMLgwepDvgaDRyXGIsf1Tr4UdVNNzDCEtEB3vel6ZDbftlM5CDy6faN8wHtm+2g+OUFjQAh88fzZBPTN0U/Bx6v9wXhTNaPwtyq6aOhvTTmwwYmEkwOOQvNEUIaBRuqGGYg7TU9Rbg9gyWuDqUBcfk37kPkaeN67QL5zfy698XzXfX6/dsFzP/d8gn1MhLfMyU5Rhiu9KvkEd4HyQyv3adrw7PrAgnSEIUNpw04FpobHRfyEFwXOi3gPTE40iEtDn8FN/6c7o/f4t0o6pj3uvuH+P/1YvoEAQcG4//i9abxJgShIuU1gCanBnTtK+JC0ay3+Km0uYPeDgBAEmkUFBN9FDcYbxWfD80RjCMjN/468CwNGnwMrQGL82bkCt/t5Wzyn/jF92P2Fvmf+0D+cwJEAN73h/VUCi0o3jRxHTD7kON02zrNNrk3riPBlOZsB1kUzxMTE1AWHxneFXYR+BTZJQY4zTuwLMYYZQpE/u/taN5z2tfia/DP+Rn8Cfu+/BYA9gJnA2n8xPRy9/MOtiu0M68XbPTc4MjYi8dEsoWt7sVH7E0KiRfcFv8TAhbxGD0VJBHQFlwqIzz0O/8pyRQmBfz4X+ru27PYFORS9Bf9gPw6+oT8gwARAzcEUP7t9V314AlLJjgxlRgY9kPg2NnvzTe63a+GwyPqnQt6GcYW0BEUFKUZaRhOE7sVfCdqO749WipJEngD+Pm/7KXd3dfA4IPxHP3n/Z770PwnA24HYAfQ/3r1ru2n+YEYmjHlKCkGBehd3S7W5MBtrjC2DNoQAegXkBkXFXcUjBn6GowVdRIXH5Q0uT2SMGIYIAcR/j3zAeRZ2hPew+z4+sb++/ml+Lb+6gQDAjD+NP2C+rfzv/o8FYcuJCgwB27oKdsU0hLBG7PwuVracQEYGjAdbBcyFYsZSRvjFpoU7h7LMXo7pC99FzcFgvzk8qHkRtu932DskfdO+/T4IflA/sACeADw/gD/1fz49sr+whzWN6UswAIo4n7Wa84pu+KtLLne3ZkDdBt5HqYXcxN9GMobbBhfFgshDjTiPNEv0xb9Atj3J+144GHY+tyl6p73iP1n/er8hAAuBb8E7QKgBLkCQfrD9r4MlSv2L/0KReSf0yrQ9MDLsT61c9Qz/HsbeyXHH00X4Bg0HqQbRxRHGBIrSDpzMyIaJgIU9WTt4uI92ZTZ/Ofe+dAD/wEV/UH/7AbqCOAD/gO+BQQARPaJAdwdRiz1EQ7qvNOvzpjF/rnQuafO9vFrE+ck6CLGGYIXDB3wHRIZDRjhIk0xyDHxHTEEzPT67jfoTN8h3aHnXvjWBOUH2wOtAP0EHQifAhz9fwHaAQP28+3TAZci0CdKBhHjo9Xb0ibIKr1awVTceAEdINgofyAAFsYW5hqnGNgQzxIpIqMwGCvyE6/++vVw8dToqOG95DDycwE9CVYGw/1r+kQAUQT5/r76LALxA/L19OdR+bMdMyvRDMDnXNmd2jvR0cDavarW+v1XHnIp4SFfF+4VVhrLFrMNIw1nHvkwpy9IGKQBR/hU9RDuPuax5nfx/v5PBA4A4vek9cX7nAMCATD9gQNUBfr1hukk/T8iPC77DQXp5dxx3ejNYbkLuaXXCwKeIMYolCDtFkMUahZYEoELZQ4LIkY0ZDGIGAIB+PcQ9UntqeWf5zbyA/6EAR78CPSx82j8TwStAu7+IAVlDFUAcuh+6AcMOyz7IgD97OIa31vcscmeuPnC7OnxEyopByXHFZ8PCBOpFqEQ8At7Fv0ujzlCKdMKPflG9sjzb+oZ5CbofPTe/nL+3/RC7zX3EgYIC3YDSf8bCAgLRvka4p3qBhP0MRwiO/h13gPeiNp3xXW0v8Qe8kMdUS4EJFcSqA5eFx8ZgA2VB48YtjNaOAEgSAJq9bf0GfJa6PXh/+dN91EBvP3E86jyLv7lCmsLyAF6/RcGCQk0+PvkYvJsG94zsBul8Fra5dr11N/BbrdyzW37iCMDMJgikhEdD44XDRdqDFwJHhwCNIY1ohtr/ljxyvDK7knnQuK96Hf5NwXFATn2tvMQ/poJtQkFA2QAawifCi34q93r5LkS3TcpJ274wd6s4urf2MfYs3PC9/CAH5Eywia/EWwLCRWNF7YKkwIJFGYxyTlKIZkASfBo8HvwnOm34x7qjPt7CUMGCfbn7Nz0CwNPCHkEZAJkCXsQgQTe6bvdfPsyKKQyJA506bTgmeNF1DW8rbjs19UGQijlK88Z2Qs3EKIZxROyBhgL0yRPN6YrSAz/8xrvzPHX7i7nseZ78t8B2AX6+sruufEuARYMAwvABY8FVQxRDi789eGo4dwHoDBbLxUH4+U24AnfBM09uG68HeKKEc4t3ip5FncJtg7XFJwNcwRDD14p0zYZJwAJGPMb7MLr2ukZ5yjrNPjgBakHDfx08fP0VgKaC+ELLQibB64MgA16+zLhI99PBfwulS54BcHjbt6M4OjQSryqvSvhYBC+LSMqkBNEBQ4MKRaBEO8FJw5cKMM21ibdBXHt7Oap6wLvQe6J8G/8PQrmC8b9Ju+f8Nb/Ngz+DCgJcgkWDawMPfxM4BzV7fNZIz0yNBNf8Mrm+udW1z6+77hN1k8DHiQSKUYZzAhSCCQQLg5vBSEKviGaNLEsnw+99knuZvCq8TfxS/M8/JoGZgk1/4fxNu/Q+nUHbAuICZoIXglnCtcB4uts2Pbm7xPHM1cl0v896gLmydt7xYe20cL56TATnifeH6gN4QSqCrAP8QykDKAb/jBvNuYilwXg8Qft7O4D8CrycvmvA7IIEwOD9WDsFvCH/dMH7wrJCk0MgAtMBzH5zubQ3VXyARicLq0evv3u5mzeudKowqi8Qc628/UXcSctHkgNTwVGCugP5hFiFswj5zECM2YgDwTh7VnnTOtV8B31dvxZA6sEOP9t9QnuefD4+w0Inw16DY0LgAhDBCD4leO81x7uZRj4LRIcbPwB6P/eKtPBxaXAGtEu9tcbJClIHcwM6wcjDVoRcxLgFzIl5jL/Mfociv+/6srmhOzN8hD3l/0FBSAIjAAp80HsOfLI/dQG/AprDCkKOwMy/Hz0Xedy2rPk4QckKTso0gvt7xjildmt0InK9tFR6/INwSRoIe4NDgBLAbsIWg/gFSogaiz4MVMm4QsX8hPp/u4d97T6D/5ZA+gFDAGW9d3rP+wX9yQDmwknCgYHwQJK/mP6ifFh5QzirPdKGxouLR+CAWzr0OG52urTC9M53gL2jhARHC0SvwHX+8AB9ApAFG8ehyipLVcqPBvWBFPyTOyW8BD40f2VADkAKP1490PwMOsK7Z/3aATmC2wLJAU5/ov6vfof+OnwPuuk+EAVkSkgIfcHfvBq5dvfeNzx2szhFvF6A/EN4gwFBj8BwQHWBlARJB66J6onQSDPFeALMQKS+ebyDfKB9+X+bv+i90bv1O1T8aj1JPkR/SsCGAbEBe4AKPtb+v3+lf9i+TP2qgIMFx4gBROH/m/wN+rb4wbePN0R6FT5RQeUCEACof9QBFwJkApQDQMXtCNwKR8kZhUqB67+z/mP9DfyofUg/Mz+W/uJ8/XtG+/I9ID5bvvH/ugEPwjQBEb+CPwvABgCdvyF9iP9MQ0kGNURFAJf9KHvLeyL5YbflOWg9lcHLQu7BDz+9v5nBKcHlgjIDvwbtCUFI4IVnwdXAEf/av0b+s354/6zAg8AH/jJ8ZjxD/Z3+fv54Prh/sICygE+/Zz56vp3/er76fW99pcCERFbFJIL+f9Z+fD1nvGt6orn6+93/lMG3gHM+bL2TPqK/6UCrgWMDnMarSA6G+4PwQefBukH0wZrBJsFwwkZCusCYfhf8WzwXPMQ9jr2vvbj+vz+t/0m+E30NfYF+9397ftw+7MCYw7VEz0OfwP0+wT5bvap8VftEu/79ib+Cf5w+ez1Sfe3+6H/xwHRBi8Q9hjWGi4WpxBFDkQOLQ1ECXcF+ASMBj4FpP6A9xT19/Zd+Ff3/fWV9676U/uZ+L717fXP+SP9fvw++a/5wv8aB7EJCAfKAkYAe/+W/HD2rPE/8+z4Nf1A/eH7EvuQ+3H8E/2z/hoEYgwnE/cU6hK5D/0MkQrzB5wFXgXlBxoK5QheBK7/sPxA+136uvm5+Tf78vyJ/EX5XfX38nvzzPWM95n4gfkb+9r9OwHBAlgCJQEPAPL+QP19+3z6ivrr+839gv5q/vr9Hv4E/7IAzgIiBYoH8wkXC1AKzggVCFEI9wj+CIgIJwgMCNEHvQZJBTcEyAMYAwsBBv4h+xj55/en9l71t/RY9TP2vPZv9vj1cfYv+Or6Yv6AAYQD1AMnAn3/Gv2r+/L6QPuu/J3+/f+vAI0A9f8e/+T+pf+4AWgENAdYCR4KiwldCHMHXAfIB3gI4QjqCDAIwQYBBUADqgEfAMz+S/4f/iz9gfty+dD3Avfl9v32XPej+HH6Kfsx+pv4cfhn+kz90P/sANkAbAB8/7j96fuK+yL9vv/0AfMC6gJZAqIB0QBXAAMB5wKeBXQI8gkyCTUHbgUiBJ0DcQTcBQUHeAfrBjgFzQK6AHv/3v6b/oP+ZP7K/XL8e/qN+Pf2Xfbr9sD3vfis+Q76lvlS+Xb6Fv1rABID6wNZA0QCCgGe/x7+ov2z/tYAoAIIAxECowC0//P+O/6h/vMANwTDBjYI7gcOBiUEjwN+A1IDkgOHBJYFwQWJBKYC6AAMAI//Wf4h/c38Pv1K/XX8Nfve+Yj5E/qj+qH6tvrj+v/6FvtA+1r8zf6mAa8DBwQ2A/0BtQBl/03+t/0N/oj/RQEeAqQBLACh/ob9TP3V/Un/tQE3BEsG/wYrBsIE0QOLA2wD6AMCBQEGZwbGBRIEBALVAKoAxQB6AKz/ov4e/Wb7M/lO98/2Rvc0+GL5ovoo+yn7Y/sv/Jf96P/UAowF8Qa9BugEUALl/yn+J/3a/Jz9EP8nAAgAY/52/Ij73/sK/b/+vADtAn4FcweYB5sGVwa4BiUHmAenB0oHCQdWBn4E2QFX/4/9c/yt+yT7pvoN+sn5kvkL+Wr4VvhN+Tj6+/om/K38t/w4/Zb+gwC/AgcF4AYBB3UFvgLf/7r9j/xp/BT9Q/6O/z8Al//4/WL8Cvz1/Pv+DgIiBZcHVgnRCZ8IwwagBUEFVwXkBTMG8QVnBUwEdgLU/0b9nPsC+wr74Pok+lP52vgu+I33e/cM+G75xPob/AL97/wS/UX+x/+YASUE3waVCHAIiQZSA+H/U/0G/J/7Fvxk/Qf/pP+Y/pv83/qX+sr7Yv7wAbIFQQmqC1wMZwutCUMIPQfcBh0HSwe6BpcFeAMzALD8pvl497b2KfeR92n3T/da9wr3lvbH9rr3avnI+1T+0f8fAP3/UABkAX4DzAahCZ0KtwliB6UDOf8z+3b40PdO+Yn7TP3X/Sz9XPzl+zv8z/02AfQFjArADTcPEA90DVILPAmfBwIH/AZ2BvoEpQKz/zz8Evmm9ir1wfRB9V/1yvSs9Mz02/RU9cD2CPm4+2L+3wAVAloB0gDmAb0DLAZJCWULWgskCasFAwFJ/EH5/vcO+HT5tPuB/Z79gfzt+zj8tP3jAFIF0QmNDXcQuBGsEJoOwgy8CswIhgc+BuED5wAd/tL6PPeP9BnzhvJO8pvy6fKT8hzzifQ39Wz2xfnQ/K3+1gCJAr4CaAIRA0IF4gflCtsNAA6wCmAGbAHk+xv3wPQ+9QX3Q/mh+yf86fpl+if75/zs/4QFEAzwEB8UmRVcFEcRjQ5QDLcJrAd6BlgEdgBg/Ij4VvQK8bPv5O8d8KTws/F/8ufyDfTo9dr3cvpZ/lMCugQrBq4GowXQAzQEmwa4CcQMfg5uDN0GrAD3+sn0W/DR7zry3PX6+bb8hfy3+zL8Df7uAK0FdwxaEw4Y1xmnGOUUVxC+DEEJ7wWmA30Bvv5F+y33A/N770jtvuzB7T7vMvGA8y31Vva895n5fvs6/o8BwwRaB70IvgcgBU0E3QbfCf4LGA2QC+cGXwE++83zDu5Z7XHwYvRp+Lr7vfzo/PH9b//IAfwGmg52FckZchuaGkIXshLXDegIzQQHAob/Hfzs99jzYfCG7Ybrf+qS637u3fFd9Cv26Pft+Qn8sf2m/8kCIAbECL0KnAp7B/QDTgNxBB0Gogg6CngICwQ2/uj2ZO9f6+Xrfu/f9Lr6Bf/XADYB/wGXA8wGQQxJE8kZcB0nHoUc8hffEOsJLAQ5/7X7kfm29ufy3++J7fXq6Oj66Crrve4W80z3qfp8/RMAdwFiAWkBMAMYBkkIkAlzCU0GGgJjAEwBmwKFBKkGmwbZAlb9+fZI8AjsyOwu8cj2ifyQAYoEJgWQBdMGgglODtoUrxqXHZsdHhv6FegOpQdaAWj8EPnr9s308/E27zHtcus26rnqQ+3x8BT1iPky/VL/cQBUAbgB9AGAA/cFYQd5B10HYwVOAFP89fx0/3QBNQS2BjMFbAAy+531NvCE7tvx//YN/BQBEQWSBngGKgflCNwLSxBxFQkarBwUHB4YgBGICZwBW/uh9kbz2/Gg8R/x0+9P7rzsBux+7RHxgfUJ+vL+SgMIBYsEfwNSAooBYAIgBLoEbwSKBKkCUv3u+PL4dfs1/wkEvAb7BeoC+/2A9/3xAfDv8UT3Rf6/A+gGtQjKCPUHnwghC6QOaRMiGDEaIBkNFn4QmgghAV377va584jycvKq8ZHwmu9h7pfts+6k8Vr1MPoB//0BogNiBKMD/QEWAQMBPQH5AZcCUgIiASz/rfuB90z2Ovk9/tEDPgiwCb4HzgN6/j34wPMJ9L/48f4zBLYHMAk4CV0Iswf3ByUKwA6zE6cW7BaQFMsPaQlqAoP7V/bn8xvzkvLv8b/wge80713vJfCV8uf2qPuQ/x0CMQNbAywDbwImARUA/P92ANgAawDv/o79CvxD+W/2MfdZ+14AyAV1CokLzgg0BOn+XPlL9tf3Xfx2AdsF1AiuCYEIJwfUBrkH1AkSDrESrBTXEy8SYw5+BzkA5Pq39p3zfPKK8hvyNfHY8BHxjvGN8v/0G/np/KP/MQLoA40DSQKXAZ8A8P58/UX9vf2b/Xf8iPs/+1r6kvjn9wr6gf4nBPMJTA6dD0MNRAgbAkH8uvi8+GD7AP94AtkEZAV2BCkDjQKRA3oGuApjD0gT5xTCEwgQ8AltAtL7jvfn9G/zjPNw9KL03PPR8j3ylfJX9JH3Lftw/k8BJwMMAzkBFv8y/ZD7kfqe+gb8/v0r/wX/kf5L/kX9rft3+/f9NwIpB8cLwg5hD10NcAhyAQT7r/eH90v5UPyu/5ECTATHBCkETwNtBMUHzAtqD4oSQhQsEwYP3wg4Ai78d/eC9B7zXvKU8VfxefFH8X7xBPN/9V/4JPv6/cgAoALfAosC0AFyAIL/U//Y/iD+YP7y/uL+Tf/2/8X/f/89//n9Df0H/xUDKQcVCzoOhw5xC8oFHP+1+RH3HPdd+bb8KQDHAlIEcQRIA5wCFATkBj0K1w3CELoRdBBCDS4IwgGb+9X2VfPf8JzvLe+e75HwfvFl8tvzGPYI+ZH8GwDtAgsFgAacBn0F6gNDArMAWv81/n/9mv0H/kf+4v6X/3//d/5l/ZD8Jv1AAOQEQglIDVIQEhC7C9oEr/1c+NX12PW69y/7Gf8aAlQDCwPqAXwBBAP3BWQJdg1UEa0SnRAEDKcFov7v+Hv1X/N08qfyLPMV84PyE/KK8jj02Pb5+fL9PgKVBfsG9wbPBbADhQFMANf/fv9f/2f/o/6r/Vj9QP1f/R7+Vv9uAKsABQCb/9oAfANpBvsIPAveDKkMngnLA8b9nvl19+T2mfe2+bL8V/+/AM8AmQBkAbQD2QbxCaUM1Q6jD64NUQk4BFn/+fqY92r1JPTe84b0D/U19XP1W/b091j64/wV/38ByAPDBEEEBgONAR0AQ//B/kP+Of6U/p7+Of7l/bn9I/5y/2UAagDJAGYB9gAjAAgBmANRBoMI/wlmCk0JSga0Adn8MvlH9xf3gvi1+h39uv/tAakCtALCA/gFvAg3CzsNiw59DlsMYwiYA7D+hPq79/31yvRA9Lj0PfUf9R/1HvYi+JT6ufzY/t8AVgILA0sDKwNeAm4B5ABDACn/WP5j/k3+y/0X/ez8mP2m/qb/dADUAKsATgC4/6L+bf5SADQD8gX+B/4IKgkPCSMHkwKr/cz6sPlA+dn5sPv0/VMAIwKKAlsCiwMJBn8ITQqqC94MXQ1ADAsJZwTJ/8r7jPgy9t/0nvQT9Xb1jfWa9e/1F/dd+aX7c/2p/0YCDgRUBOUD/gKMAT4AOv9k/s/9nf2Q/Uz9tvzL+wb7BvsP/P38g/3L/skANAIaA+8DfgTNBL0FdQf2CGUJGQmSCHMH2QQUAV39xfpJ+aL4zvjn+Qv84v5oARIDawQoBjMIWgrRC2wMowxADF4KuQZ5Aqj+1vpX9yf16PM784PzfPRY9Rv2R/f8+Nr6ePzr/Xb/AgHzATwCNAK9AcwAu//F/rb94/y8/O789fwH/V79kf18/b39tv46AMwBcgMgBRkGBwZOBf0DUgJLAcoBZwNkBfsGoge0B/YGBwXVAXj+IPzE+mb66fom/BH+WAD/AZMCzAKCA98EnAZjCMMJCAonCZ8HNwXdAb79OPr394z2kPUt9bX1jvYV90v3fPcg+H35oPvo/dP/gQHCAkgDCQP7AZgAUf+l/gL+Vf0n/Vf9UP0h/Ub9Zv2y/Wv+cv/fAIACMASDBW8GtAYqBlYFZARiA+YCcAOPBGEF2AVfBfsDagL4AB//5vws+3z6g/on+zD8mf2L/6IBBgOsA2wEpwUgB30IEgm0CLcHaQZoBIoBUf42+7z4QfeJ9jf2fPZx91/49Phr+Qj6MPuj/PL9AP/2//IAiQGXASwBUABB/6v+Uv71/cz9Bf41/i/+HP4X/kP+2/6p/2AALgF2AuID5QSSBekFmwXuBDkEVgNPAqgBGwIQA7YDoAOxAmMBGAC4/n39lPxt/MD8UP3w/cr+zP8NAT0CIQOiA3AEywVxB5AI5ghoCF4HyQWXAwMBev5F/Ij6Sfks+Dn3Bfc290X3cfcD+Dj5vfpC/JH9m/6L/xAAHgDd/3T/DP+p/qH+Zv4t/mD+fP5g/v792v3//Uj+5v6S/yIAugBmAS8CFQPsA3QE3wQpBckE3wNbA9MCHQLaASMC3AK9AwkEswPBAvkBcQGeANH/av8u/yD/5P7J/uz+mv/GALcBjAJfA1gEeQU7BlUG0AXyBOUDhALhAEb/1/3A/JP7Dfo5+fL4ovhH+Dr4xfhj+SX6P/vs+5H8FP1Q/Wf9Qf0i/Uj9g/3J/eP9CP58/rf+0P77/hb/d/8KAKoATQHbAWACqQKrAqwC3gKXA2cE3wQjBQ4FuAQtBK0DYgPrAqECDwOVA+MDxANaA/oCEQL4ACEAWP8k//D+1P7o/uX+Mf+H/+//XQCxAGMBPgIlA/IDcgRgBPsDDwPaAV8A+f6i/Vv8YftK+uT5APq/+Z75bPl8+cv5BfrT+pf7MvwZ/XP9m/18/U/9gP1h/Un9e/3d/Xz+9v5W/7b/+f9sAPMAnAFCAsgCcQMMBBEEHQTNA2oDegMsA0sDpAOnA+sD3QOEAxUDogJmAn8CewKkAgEDNgOkA2kDKwO/Ap0BUwFwANX/gP+w/pz+Iv7G/fv97/2k/hb/Yf9KALMAbAH3AZsB3AFuAZcADADy/kH+df2e/G38q/tj+yT7tvoL+7D63fpo+5v7Ufyw/PT8Sf0+/TD9Nf0g/T/9mf3i/Yb+Ev+s/0cAiADiADIBjgHsAUwC4gI0A4wDfgOtA3MDIQMhA7wC6wIeAx8DhAN0Az8DNQPZApMCWgJeAl4CQwJbAlACNQL3AXIBLAHyANwA2wC5AGUAXwATAIj/E/9L/uD9Xv3f/Pz8Af2J/UH+uv4u/3//jv/Y/wwAMQBDAPj/AgCp/y7/uP7U/R/9u/w8/BP8GvxQ/Lf85vwc/Sj9gv2w/Rv+cP6B/gv/FP82/4X/Zf+r/9H/5v9PAKcAiwAGAfkANwGSAYkB9wFiAmACmQJ/AkcCjwJfAmQChwKLApwCEAPYAtYC4QItAvYBtwHVAB4BBwHJAHwB4wDXALwABABpABsAIgBhAGoAZQDc/47/ef9b/4X/n/92//D/m/91/1b/5P7x/rD+ff6w/pP+v/6P/kv+av4R/jX+Jv4Q/mL+VP5l/mL+Uf5d/nf+m/6j/p7+4v7b/h3/lP8//4f/uf+y/wYACgAeAGQAVwBSAEsAdQCpAJgA2ACpALIAGwHtACkBSwEqAXABSAE9AQIB5QDiAJ4AlQCfAEMAbQBKACMAXwAWAG4AjwCTABwB9QAMARIBtADwAK8AigDCAGkAjABoAA0AOwCU/3D/jP88/2//cv9l/5//df+w/8//tf8YAN//RAA2ANj/NgDv/7P/zv+m/3//bf9G/0L/Tv8k/1n/WP92/7T/w/8aABoAFQBhACIAIQArABEABgC2/7X/ev+R/1P/Wv+t/3n/z//0/wQALQAUABwAEAAXAOf/9/8ZAKz/BADj/6n/rv+Z/53/aP+q/5b/t//Y/8f/+v/g//P/u//e//j/5f9nAB8AXwClAFYApQBUAH0AfgCaAPoAqABFAeUA5gD3AEUAoQA/AEIAqgCXAMAAxQDPAL4AUgBXAPn/9f/S/77/vf+H/6v/Wv+n/3b/jv/v/6j/BAD+/yAA9f/z/xwA1v/i/6T/vf+1/2T/of9i/1D/Yv8w/1P/Lf9i/4j/e/+d/77/8P/3/xcA4v9VAD4Ayv9pAMb//v8RAK7/SAC//8j/2f9+/7r/rP/F/8L/2/8UACgABgAoAEkAEQA3ABkAMwAhAAoAQgArAAgALAASACkADQARAF0A5P87ACsA/P9PAO7/FQAHANT/PAAEAFUAMAAOAK8A+/8XAFMA/v86ABkADQAHADMAKABNAHUAXQCPALAA7gBrAKkA4gBRAKMAbQBSAIAA+P8XAND/nf+U/27/xf8t/4f/3/9J//P/Wf+u/9//Zv+6/67/nf92/8z/bv8z/5T/Fv9D/z//If9n/5L/Vf92/8r/rf+W/xgA2f/5/zAAQACRAFEAtACZAJUAyACGAOMAhgCCAKMAbAAaAE4ARgD4/1kAGwBfAFkAPACEAGIAhwA+AIAAjAD5/xIAIwC//9z/6f/a/9P/qv/3/6//2v/A/8H/QACn/+z/OwDQ/8//8P/X/7b/tv/I/9D/mP/G/8H/nP+c/7j/m/8PAOz/qf82ANH/lf8dAOP/nv8hAMD/yP8+ANb/HQAjAAMANABVAHEAUwByAFUAigBaAB8AcwBAAFsAaQBHAF8AUwBWAHcAOQB1ACcAMQBeAN//CQAKAMr/kf/Z/23/P/+w/y7/Sv+F/0D/p//Z/4n/zf8LANv//P87AO3/FQBQADkA3f8/APf/zv9MAIH/uv8bAJb/z//8/8f/j/8LAPr/iv8jALj/sf9PANz//f9qADAANwCOADwAIQBIACYAOQD6/wEA9f8VAAMAzf/2/9D/3//r/8r/EQC+/ygAMQDW/zoAJAAuAE8AFgBlAGAASABvAAwASAAeALf/7v9p/3L/if99/5//hf/I/+r/4P/d/xMA4f/H/wcARQBMAAMAbgBbACoANwD4//3/BgAfACMAKgAwAA4AVABFAL7/MAA5ANL/IAAYABoA7P8DACoAGwAgACUAJQAMAAgABgDv/8f/rv/+/93/sv/M/8P/rv+k/6D/6v+M/4//JQDW/7z/NwAwAB4AOgA5AG0AmgA7AH4A5QAyADkA2QAMACEAUwAAAB0A5//b/ycALQDW/9//UwAHANb/5P9LAPf//f8mALX/1f+6/6//u/95/6f/xf/d/8P/h//m/w0Arv+U/wQAIAD1/+3/7/8wABwA7v/I/wcAQAAIADAAWwBeACEAKABaAAMAIQD//9j/FgAWAMf/0v/X/9//zv+6/8D/IQAdAPb/HgD2/xkAFwAAANr/EgAaAOX/z//y/9b/2v/h//L/BAAqADMA7f+1//H/7P+4/+f/AgASAD0A0f/l/xoAj//o/2oAVgCf/wUA0//V/xQAj/+2/4YANwD2/ykA7/8JAEYAIgDw/wUAQAAwAB8AXgAmAAcAWABxAD8AIgABAO3/EQDs/9H/CgASANX/0v/R/7v/1f+w/6b/x/96AKj/1P9jAC0Am//u/4P/ov8tAMAAvP+Q/yoADQC3/7P/pP/E/4UAgQDW/y0ANQC1/8f/JgBNAA0AgwC/AAsA2v/q/+T/DADU/9X/8//+/z4ADQDU/9//2f8YACYADwAjAAAABAAGAOb//f8gADEAWABUANH/JQAuANL/FQAlAKD/t//9//j/uf96/87/3f/1/wsACQBLAFQAGQAgAAYA6/+KAJ8AbwBvAC0A4f/S/8H/8f/J/w0Au/+r/w8Azf+J/wkABQCd//f/IgD//zgARAATAMr/NwCu/xQAawAgABsAAwCC/woAzf8LADEAPADj/7P/k//q//n/FAAyADwADQDH/8v/BgAWAPn/FQAeADMAMgAxACoA9f/l//3//v/z/+T/HAA2AAoA8v///wwA9f+///X/AQD+/w0ADwAeAAkADgA4AEYADQA0AAAA2f/Y/7r/cQARAJ3/Vv/7/0AAFwBr/1j/yP9AANX/GgAfAMf/qv8SAHkANgACACIALwAjALn/vf/e//3///+7/8n/1P8nAB8AAAABANn/4P/7/+3/9v/6////xf/M/+n/HAACAPL/9P/x//T/7v8pAAQABgAeANT/9v9IAB0AKwAaADgABwDl/xYADgApACQA0v/3/ygALQAeADAACQDh/+v/AADh/w4AEQDS/wkADgD//ygAAgDX/9z/+P/3//D/9//7//n/AAD///H/3f8LAFAA1P+h/wcAFAD2/wQA4/+s/8L/9//k/+X/BQDZ//3/MgD4//b/DgAaADEAQgArACMAEQAOAP7/0P8VAAEA7/8kAA8ADQA0ABEACwAvADIAHAD9/ycALgAiADUAOwD3/xUAGgCm/+//KQDm/yEALQAnACMAIQAJABYAAQDu/wUACAAtAOP/q/8MAO7/1P8FAAQAAADD/+7/IgDX/wEA/v/e/9//kv8nAMH/1P85AAUAAAAzAPj/EgBKAN3/6/8cAOf//P80AD4ADgD//wkADgD1/zkANwDu/wsAHQDl/xwALwATAP///P/5/+D/m/86AEcA2f9VACYA5/8AAPz/wv8gACEA8P/R//H/kP+C/+H/KgD7//z/CgD//+H/5f/w/97/BQDh/8j/VQAcABkAzP/e/+n/7v/y/w4ACgAdAOL/3f/k/5r/8v8fAPb/6v8NAPj/EgAnABoACgDr/x8A2v+4/yoAEwDN/w0AFQDa/wAA//8LAA0ADQAMADgAHAATAPj/LwAfABAAJADz/yUA7/8bACEA7P8YABYA4P83AAwAgf8dACUAzf8QAOb/yv/D/73/0v/v//L/IQDx/9D/4//k/x4AIwD7//f/DwAdACMA+f/f/+f/2v/4//f/DwAMAO7///8UANj/yf8LAC4AEwDz//r/q/+//8T//P8aABMA5f/2/+//9//w/ysAAgDf/97/7v9vAE8A7/8HAAUA9v+U/6QA5v+y/28A6v/4/xoACQD8/zYAZABeAPv/KQAAAO7/LgAvADMADQBtACQA/f+Q/zcA3wAm/woA8v8KAF0ADQAi/9X/JgB3AG4AWgDE/xf/XP8zAAQA5P9OAGIAzf/A/6H/9f8uAAgANgARABAAegA/AAAAbAAtAOT/KAD3/7j/zP8TAG8A2//V/+//lP+1//T/v/8zABAAFADL/9j/FQDr/+//AwC+/17/uQDZAIn+OQA/AIj/5//b/83/vQDe/97/6P/Q/xAApv8GAFEApv87AHsAYwD9//j/OwBoAOP/+v/k/xoAggByAPT/2v/8/8D/3v/u//P/AQDv/xsAyP+W/yMAZQD8/+L/EAAJABEA///f/+X/TACf/4z/LgD0/6f/2P+x/+j/EQDs/9//IgAIAMb/KwAiAAAAawDR/9b/jQDQ/8z/MwAwAB4Ap/8iAFIA9P/4/+D/1f8FAMv/vP/g/9b/xv8JAPD/QQDy/93/FQAqABEAIgAlAB0AEgAyAEsA/v8MACoABgDr/xUAJgA2AFMA6f/J/+P/1f8EAD8AUgAnABwAJwAGAAMA/v/q/wUAVQApAEMASAAYAN//zP/I//X/4v/Q/x4AEwDy/+r/zv/K/5n/dv9PAMH/jP/P/+3/1v/J/9b/LQD7/+H/4P/M/0kAHgDF/3MAGgCL//L/GQDa/ycAPAAyABYAs//K/w8AGQD0/wgARAAtAPb/7v/C/+L/TwBlAHYAMADB/8//9//t/wAAKgBTAGQAJgD0/yMAAQDl/9f/0v8AACsAEQAPAP7/IQCX/7f/3v/a/+3/HQAQACoAsv9+/24AsP/c/wIAOwAiANn/jP/5/+T/PAD4/9j/p//B/2UAjABMALb/+v/+/0kA/P/S/x8AdwBZAOP/Sv8FAEkA0P/f/00ARwDx/xAAYwDn/8j/RwBeAOr/TP9e/w0AKwAJAF8ACwC1/7v/NQCK/pD/EAIwAMr+jf+DAC8A3/+m/2MAiP+g/x8AigASADr/wv9UAdEAY/9Y/2sAYACt/5H/fgA8AMz/TACHAK//gP92AJ0ABgCJ/wEAsABQANz/wP+9/9H/0v/4/ywAOgBNAJUA+/9o/8n/6v/v//D/tP/x//H/6P/F/3n/mP/E/xUAHwARACEAFAAiAAoAPAAJAAsAZABqABIA+P8WAHsANQDB/9n/kQBMAI//uv8gATIAif65/uv/MQBlAAQAEgDV/w0AWABgAFkABwDE/44AsgAtAB0AKgBCABEA5//V/08AhAAUAMj/7P8EAK3/lv/V/9v/AAAKAAUAlf9E/1X/gP+h/2r/mf8ZACwA1f/a/0EAJADZ//z///8OAFUACQDs/00ACQDe/xIASwDs/6D/8v9tADcAhf/l/08ADQBU/1X/wv8vAPH/zwAkAVwAkP+D/wEAFAD9/xQAYABqAKz/hv+w/1H/d/+1/6P/rP+R/5X/KgAYAPD/7P///0EASwBVAJAAqgAlANv/1wBkACUANgBuAEgAOwD8/0QALADo/7f/Zf/P/zsA/P/q/1AA6f+W/wEA/f/5/14AkwB8AFcAZQCSAH0AXABMAC0ASP/1/8sAKwB5/8z/HwDm/2L/u/9BAKT/if/w/w0AAwCa/7v/6v/G/6z/qf8AABsAr/+Y//f/3f+r/w8A/P/w/5EASQBw/8r/HwAEAPf/4f9qAE8AxP+u//7/EQD1/5r/RQB1AOr/yf8rABUA7//Q/xEAZwD5/9j/EAD4/+n/+v8wACYAqgAcAL3/uv/D/8n/2/+p//T/OADr/9H/SQAmAAwA0P/N/5j/AACDABUAuf9t//n/SAAZAOL/5//U/yYAjv/d/3EAAwBQAEgASwAQAJj/KAATATUAAQBIADIA+v+6/zQA4gBoABIATgBKANb/f/+I/9r/2f96/9X/yP+d//3/1P+U/5P/qv/d/xIA///u////6P/3/xsAMABBAAwA+//8/wgAKQA+AE0AQQA0ABgAFgAVABYAIQAMAAwAAQAmABUAxP+p/9L/EwAyANL/b/+8/wwAPABRAEAAJwDW/6P/+f9mAHsANwAPABQAHADY/wQA/P98/2n/z//j/6n/Qv8z/2n/R/9H/6D/1f/g/9//1/8RABsACQA8AIIAqwCwAKkAzADlAJcArgDWAKYAhgDKAAQB2gBfADcAZAA5ACUAHgD7/9r/wf+0/7H/iv8n/yv/Tv9D/zr/Fv82/x//AP8L/yD/Kf9H/4r/bv9H/6H/yv+4//P/LQAyAFEAUwAeAHAA1QCxAIIAmACjAJcAqQCnAGsASwBIAHYAqADGAL8ArAChAHgAdgBsAGgASQAmACkA5//d/97/5f+b/6T/bP9D/2n/dP9x//b+V/9+APX/4/7f/v7+ev8EAA0AHf8B/7r/EgAWAAIAp/8cAGwAKwDo/zYAkwDm/5X/6/+qAGMBHgHlAKcAcwB9AKYAtgCpAI0AQQAuAGgAmQA/AOD/6f8CAN//GgBZAA4A1P+e/5r/xf/W/5v/dv+5/+f/2f90/6P/rP+Q/yz/7/5A/7v/0f+o/6n/0P/F/+n/RAA2AAsASAB8AJYAlQCMAGIAcQBxAFAAZACMAIYAXwBBACQA8//d/5f/b/+c/7L/pP+A/3b/kf+d/7H/1f/+/wMADgAeAAoADwAzAFsAOAAYABgA8v/f/9T/1//x/9r/vf/Y/+D/0//b/+//EwABAO7/CwATAO7/3//x//j/9v8HAFcAYABRAGgAbABsAG4ALwAMAF8AZwARADQAbwBcACEA9/8NAA0Ax/+p/7P/6f/x/67/af9S/37/ov/N/9n/wP+X/6H/1v/V/8//tv+6//3/IgA3ADYAIAAIAAAABgAsAA0A+f82ACEAIAABAAwAMwA9AEYAMQAhAEYANwAlADsAOgAMAP7/JgBEAB8A/v8LAAwAyP+q/6b/pf+q/6X/pv+h/7r/5P/5/woACADe/wwATwB2AFQACgAGACAARQBEADYAGgDt//D//P8ZAAQAxf++/7r/9/8jALv/ff+O/6L/7v8vAEsAPgACAMr/tv/o/yUAdwAxAPD/RABCACIA7P8kABwAr/+Q/8b/IwBhAFUADwDz//r/5//w/wYADgArAFkAkgCgAFsALgATAAkA+f/Z/wsAGAD4/wIA6P/u/wQAzv/Q/9r/u//4/xMAIAAeAOH/yP/A/8P/2P/k/wUA4v/V/wwAHAATAMj/r//h//7/JAAnAP//BQDi//H/4/8EADMAIQAsAEcATAAHAI7/yv9LAIQAlwCbAHEALQDT/5v/gf+8/yAARwAoAB0AHQAUAPT/yv+9/87/y//m/xkACgD1/wYACgD//97/0//Y//z/BQABABQA+P/s/93/2v/T/9z/3//c/+b/8/8cAA0ACQD3/8r/vP+5/zQAXQAVALf/if+W/7D//P8tAAkA7f/j/yQANQAaAAwA4v/A/9P/6v/+/woAAAD0//j/FQAuACwAFwAFAA8AOwA5AFMARgAdACUA+v8jAB4AHgAjAP//BADl/xIADwDz/9z/uv/T/9r/1P/s/wkA///g/+7/4f/H/wwAQgBbAAEA5v9AAGEAcABTAEMAOgBOAFEAYwA0APD/1P+P/3b/bv9p/4z/eP8//yT/FP9D/3v/m//H/9b/+/8qADQAWwBxAGoAigCLAJEAoQCiAIgAaABlAEgALQA1AEcATABSAEMAMQBLAEUAPABCAEYAWQBCAEgANwAiAEMAHwAGAPP/uP+D/3z/Xv9c/1L/Gf8c/x3/Jf9J/zn/N/9F/2n/of/S/+//GABEAFwAkgCvALgAzQCtAJsAgwBvAG4AZgBBABsA7v/I/8H/rv/M/8//r//P/9D/1//c/+v//P8GACMAJgBRACcADABHACQALwAzAPP/DwDd/9n/+P/z/9j/4P/x/8v/0P/E/+X/AQDp/yoAJQBBAGkAQQBNADwACQA5AAMA+/8YAOr/8P/D/4j/lf+c/23/pf9v/5f/k/+O/9b/rv8BABEAFgBUAEIAiACYAKcAqgCpALcAqQCUAHoATgBOACEAEgAJAMj/4P/b/8j/xf+2/5L/uv+z/4j/zf+2/8T/8v/d/+L/zP/q/wAA8f8CAAYA9v8DAAkAGQBMACsAPgA7AC0APgAwADUAIgD8/ycALgDt/0kA+/8MADwA7P8pABoAFwAbADkAAwD3/wUAvP/8/8v/0P/Q/7L/v/+5/6z/uf+y/63/w/+y/73/x//N/7z/3v/i//b/AgAjACsAKwBaAEMAWQBLAD4ALwAkAFYASQBxAEQAOQBIACwAGgASANn/3f/l/8//EwCk/7P/uf99/83/qv+f/+L/o/+y////r//l/9n/r//2/8///P/3//r/6//N/wMA3//o/yEA1//2/x0AHwBIAEQANAAvAEYAQwBfAFEARQBvAEcAaABJAD8AbgAUABkABwDx//j/2P/l/4//rf+d/3X/lv9c/3P/e/+G/4z/pv+t/6r/w//U/+X/KQArAD8ATQBKAG0AXwB1AEQAdwB1AFwAmwBvAHEAYABoAFMATABYADAAQgAzAAYAJQDz/wQACQDi/9j/w/+7/7j/c/+r/4z/eP+y/3T/pv+I/5f/1/+n/7z/2/+y/+j/5v/H/x8A2/8hAD4AOACjACoAhwBsADoAlwBEAGAAagAnAFUAIwATAA0A9P/4/+3/v//Q/77/lv/3/5//t//x/5H/+v/8/8v/KwDk/wsAIAAlAEAAWQBWADQAagA+AFYAdABMAFgAKAAqADQAGQAUAAkA5/8DAOb/1v/z/7z/uP+t/6D/rP+w/5f/v/+N/57/nP+Z/9b/qf/J/9T/t//P//T/4//2//3/4//y/xQAFgApACYAJgA6AE4AawBFAHAALQBzAD0AVgCFABQAbAAaAP3/RwAUAOX/MADB/xgAFgDf/wsA1f/o/wQA2v8LAPb/7f8WAOz/9P8XAOP/JAAKABoAIgD7/xMA/v8oAAYA//8KANj/4v/Y/9X/6v+n/+L/zv+2//P/vf/N/87/q//6/9T/5P/X/8//2f/a/+H/BAABAPj/EQD1/wkA/P8HAAAA8/8UAPT/DgAnAPr/NQAWAAwAMQAnABsAOwArAEUASAA7AD4ARQBKAD4AOAARAAUAEQADAPH/7f/h/7f/8v+u/8v/u/+R/7z/qv+j/8r/u//L/7D/nf+9/8n/6v/b/+j/BwDg/yoACAAVADEAJABgAEQAYgBgAGkAegBbAF4ASgBIAGsAKwBKABYAIwA7ACUABwAYAPX/9f/j/87/6v/W/9n/tv+7/6//t/+7/8T/s/+u/9D/1f/P/9//3f+3/wAA6//d/xYA3v/+//3/BwAIABcAAwASADEAJAAuACwAXAA8AEAAOwA3ADwAEAA1ABIAKgAKAAYABwD7/+j/zf/g/73/pf/e/7//zP/R/9j/4//S//3/7/8MAC8AFgBhAEUASwBdAD8AYQAkAFwAQwAjADoAGwAaAPv/7P///+z/y//F/8X/pf+j/6v/mf+4/5v/r/+7/53/tf/U/9L/3P/2/+n/KgAOABcAJAAdACUAXABAAEEAQQAsAE4AMAA6ACEAJABBAC4AMgA4AAYAJwAmAAYAHgAmAAMAOQAUAO7/BADR/+H/7P/L/9n/sf+9/7z/w/+5/9L/uf/I/8v/t//c/+P/1v/y//X/BQAnACsAOwBCAFYARgBxAEEAMABSAB0ARQAMAAMAFgD9////5//W/+L/y//F/6n/pP+y/8H/sf+7/8z/yP/w//X/3v8GAOz/KAAWABwALgAIADkAQQAYACUAGAAYABIAJAAHABYANAAKAC8ABAAcAA0ADAA4AAoAKAAvAA4AAAANAPv/DQANAOL/6//n/+L/wv+z/6j/bv+7/6r/i/+6/3j/mv/T/7D/3P/4//z/JAAlAE0ATABiAF8AXgB7AHMAlwCQAJUAngB+AIsAdwBWAEcAJgAoAA4A+//c/7D/tf+q/5f/kf96/4n/m/+o/4r/ov+m/53/vv+s/7v/0f/V//r///8NAPz/GwAfAPv/CgD6/wcAFQAJACoAGAAuADcAMQBXACQAWABlAEEAXwA+AFoAagBKAEwATwA2ABYAHwD8/8z/vP+U/4n/a/9e/0L/a/9D/zz/Yv9O/37/f/+u/87/1/8jADYAWQB4AG0ApwCmALsAygCtAKUAhgCOAH0AQQAgAAgAAgDe/8b/sv+d/5f/oP+a/5L/oP+T/7T/wP+r/87/0v/I/9H/0v/i/9z/9P/5/wEAGQAWACwAPQAkACYAHAA0ADEAJwA3ACsARQA8AEoAawBtAIgAjwCOAI4AigCFAJYAfgBPAEEALAD2/9r/rP+a/4D/O/8v/zP/G/8U/wf/GP8b/zL/Xv94/4X/sP/X/wUAIwBAAGgApACyALQA4gDpANcA3ADSALgAnACEAHcAXwAyABwAEADn/8v/tv++/6P/l/+j/6b/nf+i/8L/0f/F/8L/2//Y/8n/zv+v/8j/0v/I/+T/4//i//f/9v/x//D/4P/9//D/+/8HACMANgA/AFgAVgB3AIkAcgBzAIwAvAC3ALcAnwBPAB0A4f+x/6D/df90/1P/M/8t/yT/P/9H/0r/dv97/6L/yP/g//3/KgA9AFkAcABfAHwAfwCCAIwAhgCBAIYAcgBZAFAAMwAWAAQA6//d/9f/xP+5/7z/mf+0/7n/u//Q/8j/4v/n/+n/7//U/8b/xP+7/7b/qf+h/7v/vv/O/8//3f/w//L/+v/2/wQAHwA5AF4AaQBxAIsAnQCuAKwAugC2ALYAtQCoAJoAgABjAGYAPAARAPj/8f/K/6P/g/9a/1X/OP83/yf/CP/9/gv/Nf87/0T/cf+A/5f/rP/I/+L/0//+/xwARQBWAFUAhQCHAI0AkgCYAJMAhAB8AGoAUwA0ACQAIAD9/+//7/8KABIA+P/3//n/EQAEAO7/3v/d/9L/xv/B/67/qf+v/6P/qf+W/6H/sf+p/6n/q//A/+b///8uAFUAZACPAK0AugC/ANAA6gDqAM8AyADUAOQAwgCiAIEAWwBIACYAAgDL/6f/nf+o/4D/Zv9J/0v/Yv9M/1n/Xv9j/37/mP+0/8n/1//0/wQAFgASACcAPABEAE8AWwCMAIwAjwCWAKUAoQCGAHwAdQBcAFAARAApAC0AGAAYABoAEwAAAOn/4P/T/8v/l/+M/3X/bv9h/0L/Of8x/yr/Jf8Z/xT/H/9A/2P/dP+j/8P/5/8YADAATABeAHUAhgCSAJEAowDBALsArwCzAKwAjgB5AGAAPgAqAAcA+P/j/73/o/+Y/5r/hv9v/3T/cv9f/2L/cP9n/3P/aP+L/6j/l/+W/6T/yP/m//L/9v8AAAIAEwBIAFUAYwBuAIkAqwCkAI4AjQCEAF0AQAA7ADoAKQAYABAAFwAYACIAIAALAPT/2P/Y/8X/u/+t/6T/nf+Y/5v/hv9z/13/dP+N/6D/rP/A/+j/AgAdADQASwBoAIMAowCwAK0AnACoAKwAqACWAJYAnQCHAH4AZgBgAEoAJAAHAP7/2P/F/7v/tf+m/3//g/90/1T/S/9e/3P/b/99/5H/p/+0/7P/x//5//D/9f8nAEcAXwBsAIoAsgC9ANYA5gDgAM8AnACRAIgAdQBYAEoARAAeABUABwD6/+j/4f/l/9X/2f/C/7f/rv+k/5v/pP+M/27/df9t/1n/V/9b/3T/kP+Q/7T/zf/5/wwAGgBDAFcAZAB1AJAAiQCCAIkAmQCiAJoAnQCbAKYAlQCBAHkAXQAzACAACQDY/7L/mf+W/4v/cP9d/1z/Wv9K/0r/R/9M/0b/Wv+F/5D/nv+j/7z/0v/n//j/EwAqADgAcACPAJ8AtwC+ALUApACKAGwAXgBCADIAOQAgAAUA+v/q//H/4P/J/8H/tP/D/7z/s/+y/6f/ov+Z/4b/av9r/1//Tf9D/1z/ff+Z/7r/0f/k/wMAHAAsAEMAPABXAHIAdAB2AIMAmACwALcApQCZAKYAqACTAIUAZQBNADAACgDp/8r/rv+Y/5T/iP+H/3v/eP9l/2D/Zv9r/3f/hv9//5D/tP+9/9T/9/8PACAAHgAwAEsAWABuAIcAjACZAJgAqACnAIEAVABSAGAATAAzABUABwDr/+P/yv+7/7n/pP+y/7n/pv+Y/6b/pP+k/63/qv+q/6v/oP+U/4//fv+D/63/wv/S/+T/8v8OADIAOQBCAFYAcwCDAIUAhgCdALsAxQC6AK0AqACjAKAAjQBqAE0ANQAtABcA/f/0/+L/xP+0/7b/rv+o/6r/k/+S/5r/n/+l/6r/kP+m/6P/j/+n/7n/0v/H/+n/9P8YACoAQQBxAJMArwC1AMsAtAClAJIAlgCAAFcAKQAhABgA7f/r/9H/0//J/8T/q/+v/5r/jv+0/6j/qv+d/6T/lv+f/5P/kf+L/5j/tv/H/+b/4v/2//v/JwA6ADAAKwAgAFQApADKALkAoACNAHMAYQCGAIEAewBuAFAALwD+//L/9f/i/9//7P/O/7D/k/+K/3f/Zf9z/33/dv98/47/gP9q/17/h/9//37/iv8=\" type=\"audio/wav\" />\n",
       "                    Your browser does not support the audio element.\n",
       "                </audio>\n",
       "              "
      ],
      "text/plain": [
       "<IPython.lib.display.Audio object>"
      ]
     },
     "execution_count": 59,
     "metadata": {},
     "output_type": "execute_result"
    }
   ],
   "source": [
    "Audio(path)"
   ]
  },
  {
   "cell_type": "code",
   "execution_count": 60,
   "id": "880fae8c1a728cf8",
   "metadata": {
    "ExecuteTime": {
     "end_time": "2024-05-05T15:32:03.500221Z",
     "start_time": "2024-05-05T15:32:03.454832Z"
    }
   },
   "outputs": [
    {
     "data": {
      "text/plain": [
       "array([-5.8904247e-06,  3.3496904e-06,  1.2921589e-05, ...,\n",
       "        2.0502175e-03,  1.5825029e-03,  1.8418860e-03], dtype=float32)"
      ]
     },
     "execution_count": 60,
     "metadata": {},
     "output_type": "execute_result"
    }
   ],
   "source": [
    "def noise(data):\n",
    "    noise_amp = 0.035*np.random.uniform()*np.amax(data)\n",
    "    data = data + noise_amp*np.random.normal(size=data.shape[0])\n",
    "    return data\n",
    "\n",
    "\n",
    "def stretch(data, rate=0.8):\n",
    "    return librosa.effects.time_stretch(data, rate=rate)\n",
    "\n",
    "\n",
    "def shift(data):\n",
    "    shift_range = int(np.random.uniform(low=-5, high = 5)*1000)\n",
    "    return np.roll(data, shift_range)\n",
    "\n",
    "\n",
    "def pitch(data, sampling_rate):\n",
    "    return librosa.effects.pitch_shift(y=data, sr=sampling_rate, n_steps=0.7)\n",
    "\n",
    "pitch(data, sample_rate)\n"
   ]
  },
  {
   "cell_type": "code",
   "execution_count": 61,
   "id": "58ec74072c41e9a2",
   "metadata": {
    "ExecuteTime": {
     "end_time": "2024-05-05T15:32:03.512900Z",
     "start_time": "2024-05-05T15:32:03.504219Z"
    }
   },
   "outputs": [],
   "source": [
    "def extract_features(data):\n",
    "    # ZCR\n",
    "    result = np.array([])\n",
    "    zcr = np.mean(librosa.feature.zero_crossing_rate(y=data).T, axis=0)\n",
    "    result=np.hstack((result, zcr)) # stacking horizontally\n",
    "\n",
    "    # Chroma_stft\n",
    "    stft = np.abs(librosa.stft(data))\n",
    "    chroma_stft = np.mean(librosa.feature.chroma_stft(S=stft, sr=sample_rate).T, axis=0)\n",
    "    result = np.hstack((result, chroma_stft)) # stacking horizontally\n",
    "\n",
    "    # MFCC\n",
    "    mfcc = np.mean(librosa.feature.mfcc(y=data, sr=sample_rate).T, axis=0)\n",
    "    result = np.hstack((result, mfcc)) # stacking horizontally\n",
    "\n",
    "    # Root Mean Square Value\n",
    "    rms = np.mean(librosa.feature.rms(y=data).T, axis=0)\n",
    "    result = np.hstack((result, rms)) # stacking horizontally\n",
    "\n",
    "    # MelSpectogram\n",
    "    mel = np.mean(librosa.feature.melspectrogram(y=data, sr=sample_rate).T, axis=0)\n",
    "    result = np.hstack((result, mel)) # stacking horizontally\n",
    "    \n",
    "    return result\n",
    "\n",
    "def get_features(path):\n",
    "    # duration and offset are used to take care of the no audio in start and the ending of each audio files as seen above.\n",
    "    data, sample_rate = librosa.load(path, duration=2.5, offset=0.6)\n",
    "    \n",
    "    # without augmentation\n",
    "    res1 = extract_features(data)\n",
    "    result = np.array(res1)\n",
    "    \n",
    "    # data with noise\n",
    "    noise_data = noise(data)\n",
    "    res2 = extract_features(noise_data)\n",
    "    result = np.vstack((result, res2)) # stacking vertically\n",
    "    \n",
    "    # data with stretching and pitching\n",
    "    new_data = stretch(data)\n",
    "    data_stretch_pitch = pitch(new_data, sample_rate)\n",
    "    res3 = extract_features(data_stretch_pitch)\n",
    "    result = np.vstack((result, res3)) # stacking vertically\n",
    "    \n",
    "    return result"
   ]
  },
  {
   "cell_type": "code",
   "execution_count": 62,
   "id": "a5bb07047b2d0e0a",
   "metadata": {
    "ExecuteTime": {
     "end_time": "2024-05-05T15:53:48.431129Z",
     "start_time": "2024-05-05T15:32:03.514897Z"
    }
   },
   "outputs": [
    {
     "ename": "ValueError",
     "evalue": "can't extend empty axis 0 using modes other than 'constant' or 'empty'",
     "output_type": "error",
     "traceback": [
      "\u001b[1;31m---------------------------------------------------------------------------\u001b[0m",
      "\u001b[1;31mValueError\u001b[0m                                Traceback (most recent call last)",
      "Cell \u001b[1;32mIn[62], line 3\u001b[0m\n\u001b[0;32m      1\u001b[0m X, Y \u001b[38;5;241m=\u001b[39m [], []\n\u001b[0;32m      2\u001b[0m \u001b[38;5;28;01mfor\u001b[39;00m path, emotion \u001b[38;5;129;01min\u001b[39;00m \u001b[38;5;28mzip\u001b[39m(Crowd_df\u001b[38;5;241m.\u001b[39mPath, Crowd_df\u001b[38;5;241m.\u001b[39mEmotion):\n\u001b[1;32m----> 3\u001b[0m     feature \u001b[38;5;241m=\u001b[39m \u001b[43mget_features\u001b[49m\u001b[43m(\u001b[49m\u001b[43mpath\u001b[49m\u001b[43m)\u001b[49m\n\u001b[0;32m      4\u001b[0m     \u001b[38;5;66;03m# print(\"feature: \", feature)\u001b[39;00m\n\u001b[0;32m      5\u001b[0m     \u001b[38;5;28;01mfor\u001b[39;00m ele \u001b[38;5;129;01min\u001b[39;00m feature:\n",
      "Cell \u001b[1;32mIn[61], line 31\u001b[0m, in \u001b[0;36mget_features\u001b[1;34m(path)\u001b[0m\n\u001b[0;32m     28\u001b[0m data, sample_rate \u001b[38;5;241m=\u001b[39m librosa\u001b[38;5;241m.\u001b[39mload(path, duration\u001b[38;5;241m=\u001b[39m\u001b[38;5;241m2.5\u001b[39m, offset\u001b[38;5;241m=\u001b[39m\u001b[38;5;241m0.6\u001b[39m)\n\u001b[0;32m     30\u001b[0m \u001b[38;5;66;03m# without augmentation\u001b[39;00m\n\u001b[1;32m---> 31\u001b[0m res1 \u001b[38;5;241m=\u001b[39m \u001b[43mextract_features\u001b[49m\u001b[43m(\u001b[49m\u001b[43mdata\u001b[49m\u001b[43m)\u001b[49m\n\u001b[0;32m     32\u001b[0m result \u001b[38;5;241m=\u001b[39m np\u001b[38;5;241m.\u001b[39marray(res1)\n\u001b[0;32m     34\u001b[0m \u001b[38;5;66;03m# data with noise\u001b[39;00m\n",
      "Cell \u001b[1;32mIn[61], line 4\u001b[0m, in \u001b[0;36mextract_features\u001b[1;34m(data)\u001b[0m\n\u001b[0;32m      1\u001b[0m \u001b[38;5;28;01mdef\u001b[39;00m \u001b[38;5;21mextract_features\u001b[39m(data):\n\u001b[0;32m      2\u001b[0m     \u001b[38;5;66;03m# ZCR\u001b[39;00m\n\u001b[0;32m      3\u001b[0m     result \u001b[38;5;241m=\u001b[39m np\u001b[38;5;241m.\u001b[39marray([])\n\u001b[1;32m----> 4\u001b[0m     zcr \u001b[38;5;241m=\u001b[39m np\u001b[38;5;241m.\u001b[39mmean(\u001b[43mlibrosa\u001b[49m\u001b[38;5;241;43m.\u001b[39;49m\u001b[43mfeature\u001b[49m\u001b[38;5;241;43m.\u001b[39;49m\u001b[43mzero_crossing_rate\u001b[49m\u001b[43m(\u001b[49m\u001b[43my\u001b[49m\u001b[38;5;241;43m=\u001b[39;49m\u001b[43mdata\u001b[49m\u001b[43m)\u001b[49m\u001b[38;5;241m.\u001b[39mT, axis\u001b[38;5;241m=\u001b[39m\u001b[38;5;241m0\u001b[39m)\n\u001b[0;32m      5\u001b[0m     result\u001b[38;5;241m=\u001b[39mnp\u001b[38;5;241m.\u001b[39mhstack((result, zcr)) \u001b[38;5;66;03m# stacking horizontally\u001b[39;00m\n\u001b[0;32m      7\u001b[0m     \u001b[38;5;66;03m# Chroma_stft\u001b[39;00m\n",
      "File \u001b[1;32m~\\PycharmProjects\\CourseWork2024\\.venv\\Lib\\site-packages\\librosa\\feature\\spectral.py:1116\u001b[0m, in \u001b[0;36mzero_crossing_rate\u001b[1;34m(y, frame_length, hop_length, center, **kwargs)\u001b[0m\n\u001b[0;32m   1114\u001b[0m     padding \u001b[38;5;241m=\u001b[39m [(\u001b[38;5;241m0\u001b[39m, \u001b[38;5;241m0\u001b[39m) \u001b[38;5;28;01mfor\u001b[39;00m _ \u001b[38;5;129;01min\u001b[39;00m \u001b[38;5;28mrange\u001b[39m(y\u001b[38;5;241m.\u001b[39mndim)]\n\u001b[0;32m   1115\u001b[0m     padding[\u001b[38;5;241m-\u001b[39m\u001b[38;5;241m1\u001b[39m] \u001b[38;5;241m=\u001b[39m (\u001b[38;5;28mint\u001b[39m(frame_length \u001b[38;5;241m/\u001b[39m\u001b[38;5;241m/\u001b[39m \u001b[38;5;241m2\u001b[39m), \u001b[38;5;28mint\u001b[39m(frame_length \u001b[38;5;241m/\u001b[39m\u001b[38;5;241m/\u001b[39m \u001b[38;5;241m2\u001b[39m))\n\u001b[1;32m-> 1116\u001b[0m     y \u001b[38;5;241m=\u001b[39m \u001b[43mnp\u001b[49m\u001b[38;5;241;43m.\u001b[39;49m\u001b[43mpad\u001b[49m\u001b[43m(\u001b[49m\u001b[43my\u001b[49m\u001b[43m,\u001b[49m\u001b[43m \u001b[49m\u001b[43mpadding\u001b[49m\u001b[43m,\u001b[49m\u001b[43m \u001b[49m\u001b[43mmode\u001b[49m\u001b[38;5;241;43m=\u001b[39;49m\u001b[38;5;124;43m\"\u001b[39;49m\u001b[38;5;124;43medge\u001b[39;49m\u001b[38;5;124;43m\"\u001b[39;49m\u001b[43m)\u001b[49m\n\u001b[0;32m   1118\u001b[0m y_framed \u001b[38;5;241m=\u001b[39m util\u001b[38;5;241m.\u001b[39mframe(y, frame_length\u001b[38;5;241m=\u001b[39mframe_length, hop_length\u001b[38;5;241m=\u001b[39mhop_length)\n\u001b[0;32m   1120\u001b[0m kwargs[\u001b[38;5;124m\"\u001b[39m\u001b[38;5;124maxis\u001b[39m\u001b[38;5;124m\"\u001b[39m] \u001b[38;5;241m=\u001b[39m \u001b[38;5;241m-\u001b[39m\u001b[38;5;241m2\u001b[39m\n",
      "File \u001b[1;32m~\\PycharmProjects\\CourseWork2024\\.venv\\Lib\\site-packages\\numpy\\lib\\arraypad.py:819\u001b[0m, in \u001b[0;36mpad\u001b[1;34m(array, pad_width, mode, **kwargs)\u001b[0m\n\u001b[0;32m    817\u001b[0m     \u001b[38;5;28;01mfor\u001b[39;00m axis, width_pair \u001b[38;5;129;01min\u001b[39;00m \u001b[38;5;28mzip\u001b[39m(axes, pad_width):\n\u001b[0;32m    818\u001b[0m         \u001b[38;5;28;01mif\u001b[39;00m array\u001b[38;5;241m.\u001b[39mshape[axis] \u001b[38;5;241m==\u001b[39m \u001b[38;5;241m0\u001b[39m \u001b[38;5;129;01mand\u001b[39;00m \u001b[38;5;28many\u001b[39m(width_pair):\n\u001b[1;32m--> 819\u001b[0m             \u001b[38;5;28;01mraise\u001b[39;00m \u001b[38;5;167;01mValueError\u001b[39;00m(\n\u001b[0;32m    820\u001b[0m                 \u001b[38;5;124m\"\u001b[39m\u001b[38;5;124mcan\u001b[39m\u001b[38;5;124m'\u001b[39m\u001b[38;5;124mt extend empty axis \u001b[39m\u001b[38;5;132;01m{}\u001b[39;00m\u001b[38;5;124m using modes other than \u001b[39m\u001b[38;5;124m\"\u001b[39m\n\u001b[0;32m    821\u001b[0m                 \u001b[38;5;124m\"\u001b[39m\u001b[38;5;124m'\u001b[39m\u001b[38;5;124mconstant\u001b[39m\u001b[38;5;124m'\u001b[39m\u001b[38;5;124m or \u001b[39m\u001b[38;5;124m'\u001b[39m\u001b[38;5;124mempty\u001b[39m\u001b[38;5;124m'\u001b[39m\u001b[38;5;124m\"\u001b[39m\u001b[38;5;241m.\u001b[39mformat(axis)\n\u001b[0;32m    822\u001b[0m             )\n\u001b[0;32m    823\u001b[0m     \u001b[38;5;66;03m# passed, don't need to do anything more as _pad_simple already\u001b[39;00m\n\u001b[0;32m    824\u001b[0m     \u001b[38;5;66;03m# returned the correct result\u001b[39;00m\n\u001b[0;32m    826\u001b[0m \u001b[38;5;28;01melif\u001b[39;00m mode \u001b[38;5;241m==\u001b[39m \u001b[38;5;124m\"\u001b[39m\u001b[38;5;124medge\u001b[39m\u001b[38;5;124m\"\u001b[39m:\n",
      "\u001b[1;31mValueError\u001b[0m: can't extend empty axis 0 using modes other than 'constant' or 'empty'"
     ]
    }
   ],
   "source": [
    "X, Y = [], []\n",
    "for path, emotion in zip(Crowd_df.Path, Crowd_df.Emotion):\n",
    "    feature = get_features(path)\n",
    "    # print(\"feature: \", feature)\n",
    "    for ele in feature:\n",
    "        X.append(ele)\n",
    "        Y.append(emotion)\n",
    "# print(\"X: \", X)\n",
    "# print(\"Y: \", Y)\n"
   ]
  },
  {
   "cell_type": "code",
   "execution_count": 65,
   "id": "2f28b019eda96b3c",
   "metadata": {
    "ExecuteTime": {
     "end_time": "2024-05-05T16:04:27.315095Z",
     "start_time": "2024-05-05T16:04:27.307095Z"
    }
   },
   "outputs": [
    {
     "data": {
      "text/plain": [
       "(15594, 15594, (6000,))"
      ]
     },
     "execution_count": 65,
     "metadata": {},
     "output_type": "execute_result"
    }
   ],
   "source": [
    "len(X), len(Y), Crowd_df.Path.shape"
   ]
  },
  {
   "cell_type": "code",
   "execution_count": 66,
   "id": "6e74e067e39fb840",
   "metadata": {
    "ExecuteTime": {
     "end_time": "2024-05-05T16:04:35.853944Z",
     "start_time": "2024-05-05T16:04:27.571930Z"
    }
   },
   "outputs": [
    {
     "data": {
      "text/html": [
       "<div>\n",
       "<style scoped>\n",
       "    .dataframe tbody tr th:only-of-type {\n",
       "        vertical-align: middle;\n",
       "    }\n",
       "\n",
       "    .dataframe tbody tr th {\n",
       "        vertical-align: top;\n",
       "    }\n",
       "\n",
       "    .dataframe thead th {\n",
       "        text-align: right;\n",
       "    }\n",
       "</style>\n",
       "<table border=\"1\" class=\"dataframe\">\n",
       "  <thead>\n",
       "    <tr style=\"text-align: right;\">\n",
       "      <th></th>\n",
       "      <th>0</th>\n",
       "      <th>1</th>\n",
       "      <th>2</th>\n",
       "      <th>3</th>\n",
       "      <th>4</th>\n",
       "      <th>5</th>\n",
       "      <th>6</th>\n",
       "      <th>7</th>\n",
       "      <th>8</th>\n",
       "      <th>9</th>\n",
       "      <th>...</th>\n",
       "      <th>153</th>\n",
       "      <th>154</th>\n",
       "      <th>155</th>\n",
       "      <th>156</th>\n",
       "      <th>157</th>\n",
       "      <th>158</th>\n",
       "      <th>159</th>\n",
       "      <th>160</th>\n",
       "      <th>161</th>\n",
       "      <th>labels</th>\n",
       "    </tr>\n",
       "  </thead>\n",
       "  <tbody>\n",
       "    <tr>\n",
       "      <th>0</th>\n",
       "      <td>0.072156</td>\n",
       "      <td>0.489364</td>\n",
       "      <td>0.524334</td>\n",
       "      <td>0.445583</td>\n",
       "      <td>0.349968</td>\n",
       "      <td>0.327535</td>\n",
       "      <td>0.351265</td>\n",
       "      <td>0.363754</td>\n",
       "      <td>0.452142</td>\n",
       "      <td>0.445644</td>\n",
       "      <td>...</td>\n",
       "      <td>1.379467e-10</td>\n",
       "      <td>1.080815e-10</td>\n",
       "      <td>8.772962e-11</td>\n",
       "      <td>7.321864e-11</td>\n",
       "      <td>6.275209e-11</td>\n",
       "      <td>5.514984e-11</td>\n",
       "      <td>4.992661e-11</td>\n",
       "      <td>4.628495e-11</td>\n",
       "      <td>4.410689e-11</td>\n",
       "      <td>angry</td>\n",
       "    </tr>\n",
       "    <tr>\n",
       "      <th>1</th>\n",
       "      <td>0.090527</td>\n",
       "      <td>0.502220</td>\n",
       "      <td>0.548673</td>\n",
       "      <td>0.484348</td>\n",
       "      <td>0.386405</td>\n",
       "      <td>0.348346</td>\n",
       "      <td>0.353004</td>\n",
       "      <td>0.357617</td>\n",
       "      <td>0.434530</td>\n",
       "      <td>0.470261</td>\n",
       "      <td>...</td>\n",
       "      <td>1.712259e-04</td>\n",
       "      <td>1.705065e-04</td>\n",
       "      <td>1.555680e-04</td>\n",
       "      <td>1.665953e-04</td>\n",
       "      <td>1.652586e-04</td>\n",
       "      <td>1.765377e-04</td>\n",
       "      <td>1.697615e-04</td>\n",
       "      <td>1.698733e-04</td>\n",
       "      <td>1.693236e-04</td>\n",
       "      <td>angry</td>\n",
       "    </tr>\n",
       "    <tr>\n",
       "      <th>2</th>\n",
       "      <td>0.085161</td>\n",
       "      <td>0.519448</td>\n",
       "      <td>0.498895</td>\n",
       "      <td>0.562369</td>\n",
       "      <td>0.499082</td>\n",
       "      <td>0.408731</td>\n",
       "      <td>0.368873</td>\n",
       "      <td>0.385064</td>\n",
       "      <td>0.412256</td>\n",
       "      <td>0.503286</td>\n",
       "      <td>...</td>\n",
       "      <td>8.617729e-11</td>\n",
       "      <td>7.111940e-11</td>\n",
       "      <td>6.814678e-11</td>\n",
       "      <td>6.948039e-11</td>\n",
       "      <td>5.562183e-11</td>\n",
       "      <td>5.253229e-11</td>\n",
       "      <td>5.577312e-11</td>\n",
       "      <td>4.022501e-11</td>\n",
       "      <td>1.436117e-11</td>\n",
       "      <td>angry</td>\n",
       "    </tr>\n",
       "    <tr>\n",
       "      <th>3</th>\n",
       "      <td>0.069634</td>\n",
       "      <td>0.596887</td>\n",
       "      <td>0.660452</td>\n",
       "      <td>0.695428</td>\n",
       "      <td>0.638292</td>\n",
       "      <td>0.623538</td>\n",
       "      <td>0.624481</td>\n",
       "      <td>0.660015</td>\n",
       "      <td>0.674550</td>\n",
       "      <td>0.695307</td>\n",
       "      <td>...</td>\n",
       "      <td>5.196929e-09</td>\n",
       "      <td>4.674353e-09</td>\n",
       "      <td>4.298421e-09</td>\n",
       "      <td>4.015684e-09</td>\n",
       "      <td>3.801982e-09</td>\n",
       "      <td>3.644098e-09</td>\n",
       "      <td>3.527749e-09</td>\n",
       "      <td>3.449707e-09</td>\n",
       "      <td>3.401923e-09</td>\n",
       "      <td>neutral</td>\n",
       "    </tr>\n",
       "    <tr>\n",
       "      <th>4</th>\n",
       "      <td>0.199576</td>\n",
       "      <td>0.712596</td>\n",
       "      <td>0.786869</td>\n",
       "      <td>0.826577</td>\n",
       "      <td>0.782981</td>\n",
       "      <td>0.763585</td>\n",
       "      <td>0.699284</td>\n",
       "      <td>0.672515</td>\n",
       "      <td>0.694272</td>\n",
       "      <td>0.689124</td>\n",
       "      <td>...</td>\n",
       "      <td>1.061502e-03</td>\n",
       "      <td>1.043695e-03</td>\n",
       "      <td>1.015107e-03</td>\n",
       "      <td>1.004449e-03</td>\n",
       "      <td>1.002777e-03</td>\n",
       "      <td>9.579611e-04</td>\n",
       "      <td>9.726382e-04</td>\n",
       "      <td>1.007274e-03</td>\n",
       "      <td>1.010860e-03</td>\n",
       "      <td>neutral</td>\n",
       "    </tr>\n",
       "    <tr>\n",
       "      <th>...</th>\n",
       "      <td>...</td>\n",
       "      <td>...</td>\n",
       "      <td>...</td>\n",
       "      <td>...</td>\n",
       "      <td>...</td>\n",
       "      <td>...</td>\n",
       "      <td>...</td>\n",
       "      <td>...</td>\n",
       "      <td>...</td>\n",
       "      <td>...</td>\n",
       "      <td>...</td>\n",
       "      <td>...</td>\n",
       "      <td>...</td>\n",
       "      <td>...</td>\n",
       "      <td>...</td>\n",
       "      <td>...</td>\n",
       "      <td>...</td>\n",
       "      <td>...</td>\n",
       "      <td>...</td>\n",
       "      <td>...</td>\n",
       "      <td>...</td>\n",
       "    </tr>\n",
       "    <tr>\n",
       "      <th>15589</th>\n",
       "      <td>0.193097</td>\n",
       "      <td>0.793760</td>\n",
       "      <td>0.830241</td>\n",
       "      <td>0.852106</td>\n",
       "      <td>0.854040</td>\n",
       "      <td>0.865256</td>\n",
       "      <td>0.859663</td>\n",
       "      <td>0.867354</td>\n",
       "      <td>0.867085</td>\n",
       "      <td>0.878548</td>\n",
       "      <td>...</td>\n",
       "      <td>2.051377e-06</td>\n",
       "      <td>2.106690e-06</td>\n",
       "      <td>2.006122e-06</td>\n",
       "      <td>2.079168e-06</td>\n",
       "      <td>2.043279e-06</td>\n",
       "      <td>2.005686e-06</td>\n",
       "      <td>2.066270e-06</td>\n",
       "      <td>2.054756e-06</td>\n",
       "      <td>2.020346e-06</td>\n",
       "      <td>other</td>\n",
       "    </tr>\n",
       "    <tr>\n",
       "      <th>15590</th>\n",
       "      <td>0.180194</td>\n",
       "      <td>0.756923</td>\n",
       "      <td>0.794380</td>\n",
       "      <td>0.810973</td>\n",
       "      <td>0.793465</td>\n",
       "      <td>0.802532</td>\n",
       "      <td>0.825235</td>\n",
       "      <td>0.847413</td>\n",
       "      <td>0.873452</td>\n",
       "      <td>0.873270</td>\n",
       "      <td>...</td>\n",
       "      <td>1.727566e-10</td>\n",
       "      <td>1.226910e-10</td>\n",
       "      <td>1.056454e-10</td>\n",
       "      <td>8.710433e-11</td>\n",
       "      <td>7.516384e-11</td>\n",
       "      <td>6.921894e-11</td>\n",
       "      <td>6.942043e-11</td>\n",
       "      <td>4.318593e-11</td>\n",
       "      <td>1.186418e-11</td>\n",
       "      <td>other</td>\n",
       "    </tr>\n",
       "    <tr>\n",
       "      <th>15591</th>\n",
       "      <td>0.038181</td>\n",
       "      <td>0.743785</td>\n",
       "      <td>0.756853</td>\n",
       "      <td>0.775376</td>\n",
       "      <td>0.809547</td>\n",
       "      <td>0.817861</td>\n",
       "      <td>0.841172</td>\n",
       "      <td>0.869987</td>\n",
       "      <td>0.890308</td>\n",
       "      <td>0.930191</td>\n",
       "      <td>...</td>\n",
       "      <td>2.035463e-09</td>\n",
       "      <td>1.879160e-09</td>\n",
       "      <td>1.767638e-09</td>\n",
       "      <td>1.684284e-09</td>\n",
       "      <td>1.621988e-09</td>\n",
       "      <td>1.576960e-09</td>\n",
       "      <td>1.544187e-09</td>\n",
       "      <td>1.522828e-09</td>\n",
       "      <td>1.509624e-09</td>\n",
       "      <td>other</td>\n",
       "    </tr>\n",
       "    <tr>\n",
       "      <th>15592</th>\n",
       "      <td>0.047732</td>\n",
       "      <td>0.800374</td>\n",
       "      <td>0.806479</td>\n",
       "      <td>0.833994</td>\n",
       "      <td>0.854272</td>\n",
       "      <td>0.877923</td>\n",
       "      <td>0.866825</td>\n",
       "      <td>0.864584</td>\n",
       "      <td>0.874747</td>\n",
       "      <td>0.909317</td>\n",
       "      <td>...</td>\n",
       "      <td>6.631748e-07</td>\n",
       "      <td>6.883630e-07</td>\n",
       "      <td>6.770366e-07</td>\n",
       "      <td>6.453084e-07</td>\n",
       "      <td>6.644238e-07</td>\n",
       "      <td>7.344911e-07</td>\n",
       "      <td>7.346416e-07</td>\n",
       "      <td>7.272875e-07</td>\n",
       "      <td>6.898492e-07</td>\n",
       "      <td>other</td>\n",
       "    </tr>\n",
       "    <tr>\n",
       "      <th>15593</th>\n",
       "      <td>0.026559</td>\n",
       "      <td>0.715417</td>\n",
       "      <td>0.663181</td>\n",
       "      <td>0.687908</td>\n",
       "      <td>0.719644</td>\n",
       "      <td>0.808770</td>\n",
       "      <td>0.804105</td>\n",
       "      <td>0.790588</td>\n",
       "      <td>0.809119</td>\n",
       "      <td>0.853366</td>\n",
       "      <td>...</td>\n",
       "      <td>1.514555e-09</td>\n",
       "      <td>1.316322e-09</td>\n",
       "      <td>1.185232e-09</td>\n",
       "      <td>1.089467e-09</td>\n",
       "      <td>1.019417e-09</td>\n",
       "      <td>9.697382e-10</td>\n",
       "      <td>9.415502e-10</td>\n",
       "      <td>7.497012e-10</td>\n",
       "      <td>2.941095e-10</td>\n",
       "      <td>other</td>\n",
       "    </tr>\n",
       "  </tbody>\n",
       "</table>\n",
       "<p>15594 rows × 163 columns</p>\n",
       "</div>"
      ],
      "text/plain": [
       "              0         1         2         3         4         5         6  \\\n",
       "0      0.072156  0.489364  0.524334  0.445583  0.349968  0.327535  0.351265   \n",
       "1      0.090527  0.502220  0.548673  0.484348  0.386405  0.348346  0.353004   \n",
       "2      0.085161  0.519448  0.498895  0.562369  0.499082  0.408731  0.368873   \n",
       "3      0.069634  0.596887  0.660452  0.695428  0.638292  0.623538  0.624481   \n",
       "4      0.199576  0.712596  0.786869  0.826577  0.782981  0.763585  0.699284   \n",
       "...         ...       ...       ...       ...       ...       ...       ...   \n",
       "15589  0.193097  0.793760  0.830241  0.852106  0.854040  0.865256  0.859663   \n",
       "15590  0.180194  0.756923  0.794380  0.810973  0.793465  0.802532  0.825235   \n",
       "15591  0.038181  0.743785  0.756853  0.775376  0.809547  0.817861  0.841172   \n",
       "15592  0.047732  0.800374  0.806479  0.833994  0.854272  0.877923  0.866825   \n",
       "15593  0.026559  0.715417  0.663181  0.687908  0.719644  0.808770  0.804105   \n",
       "\n",
       "              7         8         9  ...           153           154  \\\n",
       "0      0.363754  0.452142  0.445644  ...  1.379467e-10  1.080815e-10   \n",
       "1      0.357617  0.434530  0.470261  ...  1.712259e-04  1.705065e-04   \n",
       "2      0.385064  0.412256  0.503286  ...  8.617729e-11  7.111940e-11   \n",
       "3      0.660015  0.674550  0.695307  ...  5.196929e-09  4.674353e-09   \n",
       "4      0.672515  0.694272  0.689124  ...  1.061502e-03  1.043695e-03   \n",
       "...         ...       ...       ...  ...           ...           ...   \n",
       "15589  0.867354  0.867085  0.878548  ...  2.051377e-06  2.106690e-06   \n",
       "15590  0.847413  0.873452  0.873270  ...  1.727566e-10  1.226910e-10   \n",
       "15591  0.869987  0.890308  0.930191  ...  2.035463e-09  1.879160e-09   \n",
       "15592  0.864584  0.874747  0.909317  ...  6.631748e-07  6.883630e-07   \n",
       "15593  0.790588  0.809119  0.853366  ...  1.514555e-09  1.316322e-09   \n",
       "\n",
       "                155           156           157           158           159  \\\n",
       "0      8.772962e-11  7.321864e-11  6.275209e-11  5.514984e-11  4.992661e-11   \n",
       "1      1.555680e-04  1.665953e-04  1.652586e-04  1.765377e-04  1.697615e-04   \n",
       "2      6.814678e-11  6.948039e-11  5.562183e-11  5.253229e-11  5.577312e-11   \n",
       "3      4.298421e-09  4.015684e-09  3.801982e-09  3.644098e-09  3.527749e-09   \n",
       "4      1.015107e-03  1.004449e-03  1.002777e-03  9.579611e-04  9.726382e-04   \n",
       "...             ...           ...           ...           ...           ...   \n",
       "15589  2.006122e-06  2.079168e-06  2.043279e-06  2.005686e-06  2.066270e-06   \n",
       "15590  1.056454e-10  8.710433e-11  7.516384e-11  6.921894e-11  6.942043e-11   \n",
       "15591  1.767638e-09  1.684284e-09  1.621988e-09  1.576960e-09  1.544187e-09   \n",
       "15592  6.770366e-07  6.453084e-07  6.644238e-07  7.344911e-07  7.346416e-07   \n",
       "15593  1.185232e-09  1.089467e-09  1.019417e-09  9.697382e-10  9.415502e-10   \n",
       "\n",
       "                160           161   labels  \n",
       "0      4.628495e-11  4.410689e-11    angry  \n",
       "1      1.698733e-04  1.693236e-04    angry  \n",
       "2      4.022501e-11  1.436117e-11    angry  \n",
       "3      3.449707e-09  3.401923e-09  neutral  \n",
       "4      1.007274e-03  1.010860e-03  neutral  \n",
       "...             ...           ...      ...  \n",
       "15589  2.054756e-06  2.020346e-06    other  \n",
       "15590  4.318593e-11  1.186418e-11    other  \n",
       "15591  1.522828e-09  1.509624e-09    other  \n",
       "15592  7.272875e-07  6.898492e-07    other  \n",
       "15593  7.497012e-10  2.941095e-10    other  \n",
       "\n",
       "[15594 rows x 163 columns]"
      ]
     },
     "execution_count": 66,
     "metadata": {},
     "output_type": "execute_result"
    }
   ],
   "source": [
    "Features = pd.DataFrame(X)\n",
    "Features['labels'] = Y\n",
    "Features.to_csv('features.csv', index=False)\n",
    "Features"
   ]
  },
  {
   "cell_type": "code",
   "execution_count": 67,
   "id": "a6a440d75c4910bb",
   "metadata": {
    "ExecuteTime": {
     "end_time": "2024-05-05T16:04:35.875946Z",
     "start_time": "2024-05-05T16:04:35.855946Z"
    }
   },
   "outputs": [],
   "source": [
    "X = Features.iloc[: ,:-1].values\n",
    "Y = Features['labels'].values"
   ]
  },
  {
   "cell_type": "markdown",
   "id": "77c75111e714dcff",
   "metadata": {},
   "source": [
    "# Поскольку это проблема многоклассовой классификации, мы должны кодировать наши данные"
   ]
  },
  {
   "cell_type": "code",
   "execution_count": 68,
   "id": "3dc8b0fe972a7629",
   "metadata": {
    "ExecuteTime": {
     "end_time": "2024-05-05T16:04:35.901888Z",
     "start_time": "2024-05-05T16:04:35.877945Z"
    }
   },
   "outputs": [],
   "source": [
    "encoder = OneHotEncoder()\n",
    "Y = encoder.fit_transform(np.array(Y).reshape(-1,1)).toarray()"
   ]
  },
  {
   "cell_type": "markdown",
   "id": "b1944f261a4de772",
   "metadata": {},
   "source": [
    "# Разделяем данные"
   ]
  },
  {
   "cell_type": "code",
   "execution_count": 69,
   "id": "56f4e4862f073b12",
   "metadata": {
    "ExecuteTime": {
     "end_time": "2024-05-05T16:04:35.962092Z",
     "start_time": "2024-05-05T16:04:35.904885Z"
    }
   },
   "outputs": [
    {
     "data": {
      "text/plain": [
       "((11695, 162), (11695, 5), (3899, 162), (3899, 5))"
      ]
     },
     "execution_count": 69,
     "metadata": {},
     "output_type": "execute_result"
    }
   ],
   "source": [
    "x_train, x_test, y_train, y_test = train_test_split(X, Y, random_state=0, shuffle=True)\n",
    "x_train.shape, y_train.shape, x_test.shape, y_test.shape"
   ]
  },
  {
   "cell_type": "markdown",
   "id": "97c236c32b9ef136",
   "metadata": {},
   "source": [
    "# Масштабируем наших данных с помощью sklearn"
   ]
  },
  {
   "cell_type": "code",
   "execution_count": 70,
   "id": "21e332fbaf6df031",
   "metadata": {
    "ExecuteTime": {
     "end_time": "2024-05-05T16:04:36.018152Z",
     "start_time": "2024-05-05T16:04:35.964085Z"
    }
   },
   "outputs": [
    {
     "data": {
      "text/plain": [
       "((11695, 162), (11695, 5), (3899, 162), (3899, 5))"
      ]
     },
     "execution_count": 70,
     "metadata": {},
     "output_type": "execute_result"
    }
   ],
   "source": [
    "scaler = StandardScaler()\n",
    "x_train = scaler.fit_transform(x_train)\n",
    "x_test = scaler.transform(x_test)\n",
    "x_train.shape, y_train.shape, x_test.shape, y_test.shape"
   ]
  },
  {
   "cell_type": "markdown",
   "id": "e4f2a815055af378",
   "metadata": {},
   "source": [
    "# Делаем совместимыми наши данные с моделью"
   ]
  },
  {
   "cell_type": "code",
   "execution_count": 71,
   "id": "d6ed67bb6159b606",
   "metadata": {
    "ExecuteTime": {
     "end_time": "2024-05-05T16:04:36.026889Z",
     "start_time": "2024-05-05T16:04:36.020150Z"
    }
   },
   "outputs": [
    {
     "data": {
      "text/plain": [
       "((11695, 162, 1), (11695, 5), (3899, 162, 1), (3899, 5))"
      ]
     },
     "execution_count": 71,
     "metadata": {},
     "output_type": "execute_result"
    }
   ],
   "source": [
    "x_train = np.expand_dims(x_train, axis=2)\n",
    "x_test = np.expand_dims(x_test, axis=2)\n",
    "x_train.shape, y_train.shape, x_test.shape, y_test.shape"
   ]
  },
  {
   "cell_type": "markdown",
   "id": "77cddc0217cd32f6",
   "metadata": {},
   "source": [
    "# Модель"
   ]
  },
  {
   "cell_type": "code",
   "execution_count": 75,
   "id": "6292972793c2682",
   "metadata": {
    "ExecuteTime": {
     "end_time": "2024-05-05T16:19:42.663455Z",
     "start_time": "2024-05-05T16:19:42.305840Z"
    }
   },
   "outputs": [
    {
     "data": {
      "text/html": [
       "<pre style=\"white-space:pre;overflow-x:auto;line-height:normal;font-family:Menlo,'DejaVu Sans Mono',consolas,'Courier New',monospace\"><span style=\"font-weight: bold\">Model: \"sequential_2\"</span>\n",
       "</pre>\n"
      ],
      "text/plain": [
       "\u001b[1mModel: \"sequential_2\"\u001b[0m\n"
      ]
     },
     "metadata": {},
     "output_type": "display_data"
    },
    {
     "data": {
      "text/html": [
       "<pre style=\"white-space:pre;overflow-x:auto;line-height:normal;font-family:Menlo,'DejaVu Sans Mono',consolas,'Courier New',monospace\">┏━━━━━━━━━━━━━━━━━━━━━━━━━━━━━━━━━┳━━━━━━━━━━━━━━━━━━━━━━━━┳━━━━━━━━━━━━━━━┓\n",
       "┃<span style=\"font-weight: bold\"> Layer (type)                    </span>┃<span style=\"font-weight: bold\"> Output Shape           </span>┃<span style=\"font-weight: bold\">       Param # </span>┃\n",
       "┡━━━━━━━━━━━━━━━━━━━━━━━━━━━━━━━━━╇━━━━━━━━━━━━━━━━━━━━━━━━╇━━━━━━━━━━━━━━━┩\n",
       "│ conv1d_8 (<span style=\"color: #0087ff; text-decoration-color: #0087ff\">Conv1D</span>)               │ (<span style=\"color: #00d7ff; text-decoration-color: #00d7ff\">None</span>, <span style=\"color: #00af00; text-decoration-color: #00af00\">162</span>, <span style=\"color: #00af00; text-decoration-color: #00af00\">256</span>)       │         <span style=\"color: #00af00; text-decoration-color: #00af00\">1,536</span> │\n",
       "├─────────────────────────────────┼────────────────────────┼───────────────┤\n",
       "│ max_pooling1d_8 (<span style=\"color: #0087ff; text-decoration-color: #0087ff\">MaxPooling1D</span>)  │ (<span style=\"color: #00d7ff; text-decoration-color: #00d7ff\">None</span>, <span style=\"color: #00af00; text-decoration-color: #00af00\">81</span>, <span style=\"color: #00af00; text-decoration-color: #00af00\">256</span>)        │             <span style=\"color: #00af00; text-decoration-color: #00af00\">0</span> │\n",
       "├─────────────────────────────────┼────────────────────────┼───────────────┤\n",
       "│ conv1d_9 (<span style=\"color: #0087ff; text-decoration-color: #0087ff\">Conv1D</span>)               │ (<span style=\"color: #00d7ff; text-decoration-color: #00d7ff\">None</span>, <span style=\"color: #00af00; text-decoration-color: #00af00\">81</span>, <span style=\"color: #00af00; text-decoration-color: #00af00\">256</span>)        │       <span style=\"color: #00af00; text-decoration-color: #00af00\">327,936</span> │\n",
       "├─────────────────────────────────┼────────────────────────┼───────────────┤\n",
       "│ max_pooling1d_9 (<span style=\"color: #0087ff; text-decoration-color: #0087ff\">MaxPooling1D</span>)  │ (<span style=\"color: #00d7ff; text-decoration-color: #00d7ff\">None</span>, <span style=\"color: #00af00; text-decoration-color: #00af00\">41</span>, <span style=\"color: #00af00; text-decoration-color: #00af00\">256</span>)        │             <span style=\"color: #00af00; text-decoration-color: #00af00\">0</span> │\n",
       "├─────────────────────────────────┼────────────────────────┼───────────────┤\n",
       "│ conv1d_10 (<span style=\"color: #0087ff; text-decoration-color: #0087ff\">Conv1D</span>)              │ (<span style=\"color: #00d7ff; text-decoration-color: #00d7ff\">None</span>, <span style=\"color: #00af00; text-decoration-color: #00af00\">41</span>, <span style=\"color: #00af00; text-decoration-color: #00af00\">128</span>)        │       <span style=\"color: #00af00; text-decoration-color: #00af00\">163,968</span> │\n",
       "├─────────────────────────────────┼────────────────────────┼───────────────┤\n",
       "│ max_pooling1d_10 (<span style=\"color: #0087ff; text-decoration-color: #0087ff\">MaxPooling1D</span>) │ (<span style=\"color: #00d7ff; text-decoration-color: #00d7ff\">None</span>, <span style=\"color: #00af00; text-decoration-color: #00af00\">21</span>, <span style=\"color: #00af00; text-decoration-color: #00af00\">128</span>)        │             <span style=\"color: #00af00; text-decoration-color: #00af00\">0</span> │\n",
       "├─────────────────────────────────┼────────────────────────┼───────────────┤\n",
       "│ dropout_4 (<span style=\"color: #0087ff; text-decoration-color: #0087ff\">Dropout</span>)             │ (<span style=\"color: #00d7ff; text-decoration-color: #00d7ff\">None</span>, <span style=\"color: #00af00; text-decoration-color: #00af00\">21</span>, <span style=\"color: #00af00; text-decoration-color: #00af00\">128</span>)        │             <span style=\"color: #00af00; text-decoration-color: #00af00\">0</span> │\n",
       "├─────────────────────────────────┼────────────────────────┼───────────────┤\n",
       "│ conv1d_11 (<span style=\"color: #0087ff; text-decoration-color: #0087ff\">Conv1D</span>)              │ (<span style=\"color: #00d7ff; text-decoration-color: #00d7ff\">None</span>, <span style=\"color: #00af00; text-decoration-color: #00af00\">21</span>, <span style=\"color: #00af00; text-decoration-color: #00af00\">64</span>)         │        <span style=\"color: #00af00; text-decoration-color: #00af00\">41,024</span> │\n",
       "├─────────────────────────────────┼────────────────────────┼───────────────┤\n",
       "│ max_pooling1d_11 (<span style=\"color: #0087ff; text-decoration-color: #0087ff\">MaxPooling1D</span>) │ (<span style=\"color: #00d7ff; text-decoration-color: #00d7ff\">None</span>, <span style=\"color: #00af00; text-decoration-color: #00af00\">11</span>, <span style=\"color: #00af00; text-decoration-color: #00af00\">64</span>)         │             <span style=\"color: #00af00; text-decoration-color: #00af00\">0</span> │\n",
       "├─────────────────────────────────┼────────────────────────┼───────────────┤\n",
       "│ flatten_2 (<span style=\"color: #0087ff; text-decoration-color: #0087ff\">Flatten</span>)             │ (<span style=\"color: #00d7ff; text-decoration-color: #00d7ff\">None</span>, <span style=\"color: #00af00; text-decoration-color: #00af00\">704</span>)            │             <span style=\"color: #00af00; text-decoration-color: #00af00\">0</span> │\n",
       "├─────────────────────────────────┼────────────────────────┼───────────────┤\n",
       "│ dense_4 (<span style=\"color: #0087ff; text-decoration-color: #0087ff\">Dense</span>)                 │ (<span style=\"color: #00d7ff; text-decoration-color: #00d7ff\">None</span>, <span style=\"color: #00af00; text-decoration-color: #00af00\">32</span>)             │        <span style=\"color: #00af00; text-decoration-color: #00af00\">22,560</span> │\n",
       "├─────────────────────────────────┼────────────────────────┼───────────────┤\n",
       "│ dropout_5 (<span style=\"color: #0087ff; text-decoration-color: #0087ff\">Dropout</span>)             │ (<span style=\"color: #00d7ff; text-decoration-color: #00d7ff\">None</span>, <span style=\"color: #00af00; text-decoration-color: #00af00\">32</span>)             │             <span style=\"color: #00af00; text-decoration-color: #00af00\">0</span> │\n",
       "├─────────────────────────────────┼────────────────────────┼───────────────┤\n",
       "│ dense_5 (<span style=\"color: #0087ff; text-decoration-color: #0087ff\">Dense</span>)                 │ (<span style=\"color: #00d7ff; text-decoration-color: #00d7ff\">None</span>, <span style=\"color: #00af00; text-decoration-color: #00af00\">5</span>)              │           <span style=\"color: #00af00; text-decoration-color: #00af00\">165</span> │\n",
       "└─────────────────────────────────┴────────────────────────┴───────────────┘\n",
       "</pre>\n"
      ],
      "text/plain": [
       "┏━━━━━━━━━━━━━━━━━━━━━━━━━━━━━━━━━┳━━━━━━━━━━━━━━━━━━━━━━━━┳━━━━━━━━━━━━━━━┓\n",
       "┃\u001b[1m \u001b[0m\u001b[1mLayer (type)                   \u001b[0m\u001b[1m \u001b[0m┃\u001b[1m \u001b[0m\u001b[1mOutput Shape          \u001b[0m\u001b[1m \u001b[0m┃\u001b[1m \u001b[0m\u001b[1m      Param #\u001b[0m\u001b[1m \u001b[0m┃\n",
       "┡━━━━━━━━━━━━━━━━━━━━━━━━━━━━━━━━━╇━━━━━━━━━━━━━━━━━━━━━━━━╇━━━━━━━━━━━━━━━┩\n",
       "│ conv1d_8 (\u001b[38;5;33mConv1D\u001b[0m)               │ (\u001b[38;5;45mNone\u001b[0m, \u001b[38;5;34m162\u001b[0m, \u001b[38;5;34m256\u001b[0m)       │         \u001b[38;5;34m1,536\u001b[0m │\n",
       "├─────────────────────────────────┼────────────────────────┼───────────────┤\n",
       "│ max_pooling1d_8 (\u001b[38;5;33mMaxPooling1D\u001b[0m)  │ (\u001b[38;5;45mNone\u001b[0m, \u001b[38;5;34m81\u001b[0m, \u001b[38;5;34m256\u001b[0m)        │             \u001b[38;5;34m0\u001b[0m │\n",
       "├─────────────────────────────────┼────────────────────────┼───────────────┤\n",
       "│ conv1d_9 (\u001b[38;5;33mConv1D\u001b[0m)               │ (\u001b[38;5;45mNone\u001b[0m, \u001b[38;5;34m81\u001b[0m, \u001b[38;5;34m256\u001b[0m)        │       \u001b[38;5;34m327,936\u001b[0m │\n",
       "├─────────────────────────────────┼────────────────────────┼───────────────┤\n",
       "│ max_pooling1d_9 (\u001b[38;5;33mMaxPooling1D\u001b[0m)  │ (\u001b[38;5;45mNone\u001b[0m, \u001b[38;5;34m41\u001b[0m, \u001b[38;5;34m256\u001b[0m)        │             \u001b[38;5;34m0\u001b[0m │\n",
       "├─────────────────────────────────┼────────────────────────┼───────────────┤\n",
       "│ conv1d_10 (\u001b[38;5;33mConv1D\u001b[0m)              │ (\u001b[38;5;45mNone\u001b[0m, \u001b[38;5;34m41\u001b[0m, \u001b[38;5;34m128\u001b[0m)        │       \u001b[38;5;34m163,968\u001b[0m │\n",
       "├─────────────────────────────────┼────────────────────────┼───────────────┤\n",
       "│ max_pooling1d_10 (\u001b[38;5;33mMaxPooling1D\u001b[0m) │ (\u001b[38;5;45mNone\u001b[0m, \u001b[38;5;34m21\u001b[0m, \u001b[38;5;34m128\u001b[0m)        │             \u001b[38;5;34m0\u001b[0m │\n",
       "├─────────────────────────────────┼────────────────────────┼───────────────┤\n",
       "│ dropout_4 (\u001b[38;5;33mDropout\u001b[0m)             │ (\u001b[38;5;45mNone\u001b[0m, \u001b[38;5;34m21\u001b[0m, \u001b[38;5;34m128\u001b[0m)        │             \u001b[38;5;34m0\u001b[0m │\n",
       "├─────────────────────────────────┼────────────────────────┼───────────────┤\n",
       "│ conv1d_11 (\u001b[38;5;33mConv1D\u001b[0m)              │ (\u001b[38;5;45mNone\u001b[0m, \u001b[38;5;34m21\u001b[0m, \u001b[38;5;34m64\u001b[0m)         │        \u001b[38;5;34m41,024\u001b[0m │\n",
       "├─────────────────────────────────┼────────────────────────┼───────────────┤\n",
       "│ max_pooling1d_11 (\u001b[38;5;33mMaxPooling1D\u001b[0m) │ (\u001b[38;5;45mNone\u001b[0m, \u001b[38;5;34m11\u001b[0m, \u001b[38;5;34m64\u001b[0m)         │             \u001b[38;5;34m0\u001b[0m │\n",
       "├─────────────────────────────────┼────────────────────────┼───────────────┤\n",
       "│ flatten_2 (\u001b[38;5;33mFlatten\u001b[0m)             │ (\u001b[38;5;45mNone\u001b[0m, \u001b[38;5;34m704\u001b[0m)            │             \u001b[38;5;34m0\u001b[0m │\n",
       "├─────────────────────────────────┼────────────────────────┼───────────────┤\n",
       "│ dense_4 (\u001b[38;5;33mDense\u001b[0m)                 │ (\u001b[38;5;45mNone\u001b[0m, \u001b[38;5;34m32\u001b[0m)             │        \u001b[38;5;34m22,560\u001b[0m │\n",
       "├─────────────────────────────────┼────────────────────────┼───────────────┤\n",
       "│ dropout_5 (\u001b[38;5;33mDropout\u001b[0m)             │ (\u001b[38;5;45mNone\u001b[0m, \u001b[38;5;34m32\u001b[0m)             │             \u001b[38;5;34m0\u001b[0m │\n",
       "├─────────────────────────────────┼────────────────────────┼───────────────┤\n",
       "│ dense_5 (\u001b[38;5;33mDense\u001b[0m)                 │ (\u001b[38;5;45mNone\u001b[0m, \u001b[38;5;34m5\u001b[0m)              │           \u001b[38;5;34m165\u001b[0m │\n",
       "└─────────────────────────────────┴────────────────────────┴───────────────┘\n"
      ]
     },
     "metadata": {},
     "output_type": "display_data"
    },
    {
     "data": {
      "text/html": [
       "<pre style=\"white-space:pre;overflow-x:auto;line-height:normal;font-family:Menlo,'DejaVu Sans Mono',consolas,'Courier New',monospace\"><span style=\"font-weight: bold\"> Total params: </span><span style=\"color: #00af00; text-decoration-color: #00af00\">557,189</span> (2.13 MB)\n",
       "</pre>\n"
      ],
      "text/plain": [
       "\u001b[1m Total params: \u001b[0m\u001b[38;5;34m557,189\u001b[0m (2.13 MB)\n"
      ]
     },
     "metadata": {},
     "output_type": "display_data"
    },
    {
     "data": {
      "text/html": [
       "<pre style=\"white-space:pre;overflow-x:auto;line-height:normal;font-family:Menlo,'DejaVu Sans Mono',consolas,'Courier New',monospace\"><span style=\"font-weight: bold\"> Trainable params: </span><span style=\"color: #00af00; text-decoration-color: #00af00\">557,189</span> (2.13 MB)\n",
       "</pre>\n"
      ],
      "text/plain": [
       "\u001b[1m Trainable params: \u001b[0m\u001b[38;5;34m557,189\u001b[0m (2.13 MB)\n"
      ]
     },
     "metadata": {},
     "output_type": "display_data"
    },
    {
     "data": {
      "text/html": [
       "<pre style=\"white-space:pre;overflow-x:auto;line-height:normal;font-family:Menlo,'DejaVu Sans Mono',consolas,'Courier New',monospace\"><span style=\"font-weight: bold\"> Non-trainable params: </span><span style=\"color: #00af00; text-decoration-color: #00af00\">0</span> (0.00 B)\n",
       "</pre>\n"
      ],
      "text/plain": [
       "\u001b[1m Non-trainable params: \u001b[0m\u001b[38;5;34m0\u001b[0m (0.00 B)\n"
      ]
     },
     "metadata": {},
     "output_type": "display_data"
    }
   ],
   "source": [
    "model=Sequential()\n",
    "model.add(Conv1D(256, kernel_size=5, strides=1, padding='same', activation='relu', input_shape=(x_train.shape[1], 1)))\n",
    "model.add(MaxPooling1D(pool_size=5, strides = 2, padding = 'same'))\n",
    "\n",
    "model.add(Conv1D(256, kernel_size=5, strides=1, padding='same', activation='relu'))\n",
    "model.add(MaxPooling1D(pool_size=5, strides = 2, padding = 'same'))\n",
    "\n",
    "model.add(Conv1D(128, kernel_size=5, strides=1, padding='same', activation='relu'))\n",
    "model.add(MaxPooling1D(pool_size=5, strides = 2, padding = 'same'))\n",
    "model.add(Dropout(0.2))\n",
    "\n",
    "model.add(Conv1D(64, kernel_size=5, strides=1, padding='same', activation='relu'))\n",
    "model.add(MaxPooling1D(pool_size=5, strides = 2, padding = 'same'))\n",
    "\n",
    "model.add(Flatten())\n",
    "model.add(Dense(units=32, activation='relu'))\n",
    "model.add(Dropout(0.3))\n",
    "\n",
    "model.add(Dense(units=5, activation='softmax'))\n",
    "model.compile(optimizer = 'adam' , loss = 'categorical_crossentropy' , metrics = ['accuracy'])\n",
    "\n",
    "model.summary()"
   ]
  },
  {
   "cell_type": "code",
   "execution_count": 76,
   "id": "221868b8373a7647",
   "metadata": {
    "ExecuteTime": {
     "end_time": "2024-05-05T16:46:39.746137Z",
     "start_time": "2024-05-05T16:19:46.017941Z"
    }
   },
   "outputs": [
    {
     "name": "stdout",
     "output_type": "stream",
     "text": [
      "Epoch 1/50\n",
      "\u001b[1m183/183\u001b[0m \u001b[32m━━━━━━━━━━━━━━━━━━━━\u001b[0m\u001b[37m\u001b[0m \u001b[1m37s\u001b[0m 182ms/step - accuracy: 0.2680 - loss: 1.5635 - val_accuracy: 0.3150 - val_loss: 1.4553 - learning_rate: 0.0010\n",
      "Epoch 2/50\n",
      "\u001b[1m183/183\u001b[0m \u001b[32m━━━━━━━━━━━━━━━━━━━━\u001b[0m\u001b[37m\u001b[0m \u001b[1m32s\u001b[0m 177ms/step - accuracy: 0.3224 - loss: 1.4456 - val_accuracy: 0.3568 - val_loss: 1.4276 - learning_rate: 0.0010\n",
      "Epoch 3/50\n",
      "\u001b[1m183/183\u001b[0m \u001b[32m━━━━━━━━━━━━━━━━━━━━\u001b[0m\u001b[37m\u001b[0m \u001b[1m35s\u001b[0m 191ms/step - accuracy: 0.3410 - loss: 1.4175 - val_accuracy: 0.3632 - val_loss: 1.4065 - learning_rate: 0.0010\n",
      "Epoch 4/50\n",
      "\u001b[1m183/183\u001b[0m \u001b[32m━━━━━━━━━━━━━━━━━━━━\u001b[0m\u001b[37m\u001b[0m \u001b[1m34s\u001b[0m 183ms/step - accuracy: 0.3685 - loss: 1.3939 - val_accuracy: 0.3742 - val_loss: 1.3773 - learning_rate: 0.0010\n",
      "Epoch 5/50\n",
      "\u001b[1m183/183\u001b[0m \u001b[32m━━━━━━━━━━━━━━━━━━━━\u001b[0m\u001b[37m\u001b[0m \u001b[1m32s\u001b[0m 174ms/step - accuracy: 0.3742 - loss: 1.3810 - val_accuracy: 0.3750 - val_loss: 1.3815 - learning_rate: 0.0010\n",
      "Epoch 6/50\n",
      "\u001b[1m183/183\u001b[0m \u001b[32m━━━━━━━━━━━━━━━━━━━━\u001b[0m\u001b[37m\u001b[0m \u001b[1m30s\u001b[0m 166ms/step - accuracy: 0.3795 - loss: 1.3603 - val_accuracy: 0.3878 - val_loss: 1.3540 - learning_rate: 0.0010\n",
      "Epoch 7/50\n",
      "\u001b[1m183/183\u001b[0m \u001b[32m━━━━━━━━━━━━━━━━━━━━\u001b[0m\u001b[37m\u001b[0m \u001b[1m33s\u001b[0m 179ms/step - accuracy: 0.3865 - loss: 1.3519 - val_accuracy: 0.3929 - val_loss: 1.3572 - learning_rate: 0.0010\n",
      "Epoch 8/50\n",
      "\u001b[1m183/183\u001b[0m \u001b[32m━━━━━━━━━━━━━━━━━━━━\u001b[0m\u001b[37m\u001b[0m \u001b[1m32s\u001b[0m 176ms/step - accuracy: 0.3865 - loss: 1.3421 - val_accuracy: 0.4091 - val_loss: 1.3401 - learning_rate: 0.0010\n",
      "Epoch 9/50\n",
      "\u001b[1m183/183\u001b[0m \u001b[32m━━━━━━━━━━━━━━━━━━━━\u001b[0m\u001b[37m\u001b[0m \u001b[1m31s\u001b[0m 172ms/step - accuracy: 0.4174 - loss: 1.3159 - val_accuracy: 0.4024 - val_loss: 1.3195 - learning_rate: 0.0010\n",
      "Epoch 10/50\n",
      "\u001b[1m183/183\u001b[0m \u001b[32m━━━━━━━━━━━━━━━━━━━━\u001b[0m\u001b[37m\u001b[0m \u001b[1m31s\u001b[0m 167ms/step - accuracy: 0.4209 - loss: 1.2945 - val_accuracy: 0.4155 - val_loss: 1.3124 - learning_rate: 0.0010\n",
      "Epoch 11/50\n",
      "\u001b[1m183/183\u001b[0m \u001b[32m━━━━━━━━━━━━━━━━━━━━\u001b[0m\u001b[37m\u001b[0m \u001b[1m37s\u001b[0m 205ms/step - accuracy: 0.4277 - loss: 1.2879 - val_accuracy: 0.4106 - val_loss: 1.3099 - learning_rate: 0.0010\n",
      "Epoch 12/50\n",
      "\u001b[1m183/183\u001b[0m \u001b[32m━━━━━━━━━━━━━━━━━━━━\u001b[0m\u001b[37m\u001b[0m \u001b[1m34s\u001b[0m 184ms/step - accuracy: 0.4289 - loss: 1.2720 - val_accuracy: 0.4216 - val_loss: 1.2971 - learning_rate: 0.0010\n",
      "Epoch 13/50\n",
      "\u001b[1m183/183\u001b[0m \u001b[32m━━━━━━━━━━━━━━━━━━━━\u001b[0m\u001b[37m\u001b[0m \u001b[1m36s\u001b[0m 195ms/step - accuracy: 0.4393 - loss: 1.2536 - val_accuracy: 0.4309 - val_loss: 1.2906 - learning_rate: 0.0010\n",
      "Epoch 14/50\n",
      "\u001b[1m183/183\u001b[0m \u001b[32m━━━━━━━━━━━━━━━━━━━━\u001b[0m\u001b[37m\u001b[0m \u001b[1m31s\u001b[0m 172ms/step - accuracy: 0.4517 - loss: 1.2407 - val_accuracy: 0.4319 - val_loss: 1.2840 - learning_rate: 0.0010\n",
      "Epoch 15/50\n",
      "\u001b[1m183/183\u001b[0m \u001b[32m━━━━━━━━━━━━━━━━━━━━\u001b[0m\u001b[37m\u001b[0m \u001b[1m30s\u001b[0m 164ms/step - accuracy: 0.4647 - loss: 1.2109 - val_accuracy: 0.4432 - val_loss: 1.2706 - learning_rate: 0.0010\n",
      "Epoch 16/50\n",
      "\u001b[1m183/183\u001b[0m \u001b[32m━━━━━━━━━━━━━━━━━━━━\u001b[0m\u001b[37m\u001b[0m \u001b[1m33s\u001b[0m 181ms/step - accuracy: 0.4666 - loss: 1.1975 - val_accuracy: 0.4424 - val_loss: 1.2798 - learning_rate: 0.0010\n",
      "Epoch 17/50\n",
      "\u001b[1m183/183\u001b[0m \u001b[32m━━━━━━━━━━━━━━━━━━━━\u001b[0m\u001b[37m\u001b[0m \u001b[1m32s\u001b[0m 175ms/step - accuracy: 0.4734 - loss: 1.1968 - val_accuracy: 0.4342 - val_loss: 1.2711 - learning_rate: 0.0010\n",
      "Epoch 18/50\n",
      "\u001b[1m183/183\u001b[0m \u001b[32m━━━━━━━━━━━━━━━━━━━━\u001b[0m\u001b[37m\u001b[0m \u001b[1m31s\u001b[0m 172ms/step - accuracy: 0.4702 - loss: 1.1768 - val_accuracy: 0.4440 - val_loss: 1.2769 - learning_rate: 0.0010\n",
      "Epoch 19/50\n",
      "\u001b[1m183/183\u001b[0m \u001b[32m━━━━━━━━━━━━━━━━━━━━\u001b[0m\u001b[37m\u001b[0m \u001b[1m30s\u001b[0m 165ms/step - accuracy: 0.4972 - loss: 1.1488 - val_accuracy: 0.4291 - val_loss: 1.2904 - learning_rate: 0.0010\n",
      "Epoch 20/50\n",
      "\u001b[1m183/183\u001b[0m \u001b[32m━━━━━━━━━━━━━━━━━━━━\u001b[0m\u001b[37m\u001b[0m \u001b[1m31s\u001b[0m 171ms/step - accuracy: 0.4943 - loss: 1.1431 - val_accuracy: 0.4278 - val_loss: 1.2807 - learning_rate: 0.0010\n",
      "Epoch 21/50\n",
      "\u001b[1m183/183\u001b[0m \u001b[32m━━━━━━━━━━━━━━━━━━━━\u001b[0m\u001b[37m\u001b[0m \u001b[1m31s\u001b[0m 169ms/step - accuracy: 0.5115 - loss: 1.1301 - val_accuracy: 0.4540 - val_loss: 1.2685 - learning_rate: 0.0010\n",
      "Epoch 22/50\n",
      "\u001b[1m183/183\u001b[0m \u001b[32m━━━━━━━━━━━━━━━━━━━━\u001b[0m\u001b[37m\u001b[0m \u001b[1m31s\u001b[0m 168ms/step - accuracy: 0.5191 - loss: 1.0939 - val_accuracy: 0.4437 - val_loss: 1.2868 - learning_rate: 0.0010\n",
      "Epoch 23/50\n",
      "\u001b[1m183/183\u001b[0m \u001b[32m━━━━━━━━━━━━━━━━━━━━\u001b[0m\u001b[37m\u001b[0m \u001b[1m32s\u001b[0m 174ms/step - accuracy: 0.5213 - loss: 1.0927 - val_accuracy: 0.4460 - val_loss: 1.2970 - learning_rate: 0.0010\n",
      "Epoch 24/50\n",
      "\u001b[1m183/183\u001b[0m \u001b[32m━━━━━━━━━━━━━━━━━━━━\u001b[0m\u001b[37m\u001b[0m \u001b[1m33s\u001b[0m 179ms/step - accuracy: 0.5403 - loss: 1.0563 - val_accuracy: 0.4424 - val_loss: 1.2784 - learning_rate: 0.0010\n",
      "Epoch 25/50\n",
      "\u001b[1m183/183\u001b[0m \u001b[32m━━━━━━━━━━━━━━━━━━━━\u001b[0m\u001b[37m\u001b[0m \u001b[1m30s\u001b[0m 162ms/step - accuracy: 0.5423 - loss: 1.0556 - val_accuracy: 0.4514 - val_loss: 1.2733 - learning_rate: 0.0010\n",
      "Epoch 26/50\n",
      "\u001b[1m183/183\u001b[0m \u001b[32m━━━━━━━━━━━━━━━━━━━━\u001b[0m\u001b[37m\u001b[0m \u001b[1m31s\u001b[0m 168ms/step - accuracy: 0.5498 - loss: 1.0302 - val_accuracy: 0.4529 - val_loss: 1.3146 - learning_rate: 0.0010\n",
      "Epoch 27/50\n",
      "\u001b[1m183/183\u001b[0m \u001b[32m━━━━━━━━━━━━━━━━━━━━\u001b[0m\u001b[37m\u001b[0m \u001b[1m31s\u001b[0m 167ms/step - accuracy: 0.5480 - loss: 1.0453 - val_accuracy: 0.4537 - val_loss: 1.2913 - learning_rate: 0.0010\n",
      "Epoch 28/50\n",
      "\u001b[1m183/183\u001b[0m \u001b[32m━━━━━━━━━━━━━━━━━━━━\u001b[0m\u001b[37m\u001b[0m \u001b[1m32s\u001b[0m 174ms/step - accuracy: 0.5605 - loss: 1.0134 - val_accuracy: 0.4660 - val_loss: 1.2725 - learning_rate: 0.0010\n",
      "Epoch 29/50\n",
      "\u001b[1m183/183\u001b[0m \u001b[32m━━━━━━━━━━━━━━━━━━━━\u001b[0m\u001b[37m\u001b[0m \u001b[1m30s\u001b[0m 164ms/step - accuracy: 0.5744 - loss: 0.9909 - val_accuracy: 0.4583 - val_loss: 1.3038 - learning_rate: 0.0010\n",
      "Epoch 30/50\n",
      "\u001b[1m183/183\u001b[0m \u001b[32m━━━━━━━━━━━━━━━━━━━━\u001b[0m\u001b[37m\u001b[0m \u001b[1m32s\u001b[0m 176ms/step - accuracy: 0.5826 - loss: 0.9610 - val_accuracy: 0.4524 - val_loss: 1.3073 - learning_rate: 0.0010\n",
      "Epoch 31/50\n",
      "\u001b[1m183/183\u001b[0m \u001b[32m━━━━━━━━━━━━━━━━━━━━\u001b[0m\u001b[37m\u001b[0m \u001b[1m32s\u001b[0m 172ms/step - accuracy: 0.5906 - loss: 0.9600 - val_accuracy: 0.4563 - val_loss: 1.2721 - learning_rate: 0.0010\n",
      "Epoch 32/50\n",
      "\u001b[1m183/183\u001b[0m \u001b[32m━━━━━━━━━━━━━━━━━━━━\u001b[0m\u001b[37m\u001b[0m \u001b[1m31s\u001b[0m 171ms/step - accuracy: 0.5961 - loss: 0.9483 - val_accuracy: 0.4647 - val_loss: 1.3007 - learning_rate: 0.0010\n",
      "Epoch 33/50\n",
      "\u001b[1m183/183\u001b[0m \u001b[32m━━━━━━━━━━━━━━━━━━━━\u001b[0m\u001b[37m\u001b[0m \u001b[1m32s\u001b[0m 172ms/step - accuracy: 0.6034 - loss: 0.9122 - val_accuracy: 0.4550 - val_loss: 1.3413 - learning_rate: 0.0010\n",
      "Epoch 34/50\n",
      "\u001b[1m183/183\u001b[0m \u001b[32m━━━━━━━━━━━━━━━━━━━━\u001b[0m\u001b[37m\u001b[0m \u001b[1m30s\u001b[0m 166ms/step - accuracy: 0.6155 - loss: 0.8889 - val_accuracy: 0.4727 - val_loss: 1.3266 - learning_rate: 0.0010\n",
      "Epoch 35/50\n",
      "\u001b[1m183/183\u001b[0m \u001b[32m━━━━━━━━━━━━━━━━━━━━\u001b[0m\u001b[37m\u001b[0m \u001b[1m32s\u001b[0m 174ms/step - accuracy: 0.6190 - loss: 0.9024 - val_accuracy: 0.4745 - val_loss: 1.3254 - learning_rate: 0.0010\n",
      "Epoch 36/50\n",
      "\u001b[1m183/183\u001b[0m \u001b[32m━━━━━━━━━━━━━━━━━━━━\u001b[0m\u001b[37m\u001b[0m \u001b[1m31s\u001b[0m 168ms/step - accuracy: 0.6454 - loss: 0.8463 - val_accuracy: 0.4645 - val_loss: 1.3223 - learning_rate: 0.0010\n",
      "Epoch 37/50\n",
      "\u001b[1m183/183\u001b[0m \u001b[32m━━━━━━━━━━━━━━━━━━━━\u001b[0m\u001b[37m\u001b[0m \u001b[1m34s\u001b[0m 185ms/step - accuracy: 0.6422 - loss: 0.8346 - val_accuracy: 0.4555 - val_loss: 1.3456 - learning_rate: 0.0010\n",
      "Epoch 38/50\n",
      "\u001b[1m183/183\u001b[0m \u001b[32m━━━━━━━━━━━━━━━━━━━━\u001b[0m\u001b[37m\u001b[0m \u001b[1m34s\u001b[0m 183ms/step - accuracy: 0.6535 - loss: 0.8275 - val_accuracy: 0.4768 - val_loss: 1.3648 - learning_rate: 0.0010\n",
      "Epoch 39/50\n",
      "\u001b[1m183/183\u001b[0m \u001b[32m━━━━━━━━━━━━━━━━━━━━\u001b[0m\u001b[37m\u001b[0m \u001b[1m33s\u001b[0m 182ms/step - accuracy: 0.6591 - loss: 0.8088 - val_accuracy: 0.4699 - val_loss: 1.3842 - learning_rate: 0.0010\n",
      "Epoch 40/50\n",
      "\u001b[1m183/183\u001b[0m \u001b[32m━━━━━━━━━━━━━━━━━━━━\u001b[0m\u001b[37m\u001b[0m \u001b[1m36s\u001b[0m 197ms/step - accuracy: 0.6680 - loss: 0.7893 - val_accuracy: 0.4765 - val_loss: 1.3960 - learning_rate: 0.0010\n",
      "Epoch 41/50\n",
      "\u001b[1m183/183\u001b[0m \u001b[32m━━━━━━━━━━━━━━━━━━━━\u001b[0m\u001b[37m\u001b[0m \u001b[1m34s\u001b[0m 185ms/step - accuracy: 0.6801 - loss: 0.7637 - val_accuracy: 0.4606 - val_loss: 1.4663 - learning_rate: 0.0010\n",
      "Epoch 42/50\n",
      "\u001b[1m183/183\u001b[0m \u001b[32m━━━━━━━━━━━━━━━━━━━━\u001b[0m\u001b[37m\u001b[0m \u001b[1m39s\u001b[0m 211ms/step - accuracy: 0.6777 - loss: 0.7889 - val_accuracy: 0.4786 - val_loss: 1.4097 - learning_rate: 0.0010\n",
      "Epoch 43/50\n",
      "\u001b[1m183/183\u001b[0m \u001b[32m━━━━━━━━━━━━━━━━━━━━\u001b[0m\u001b[37m\u001b[0m \u001b[1m33s\u001b[0m 180ms/step - accuracy: 0.6849 - loss: 0.7619 - val_accuracy: 0.4817 - val_loss: 1.4546 - learning_rate: 0.0010\n",
      "Epoch 44/50\n",
      "\u001b[1m183/183\u001b[0m \u001b[32m━━━━━━━━━━━━━━━━━━━━\u001b[0m\u001b[37m\u001b[0m \u001b[1m31s\u001b[0m 171ms/step - accuracy: 0.6974 - loss: 0.7292 - val_accuracy: 0.4827 - val_loss: 1.4270 - learning_rate: 0.0010\n",
      "Epoch 45/50\n",
      "\u001b[1m183/183\u001b[0m \u001b[32m━━━━━━━━━━━━━━━━━━━━\u001b[0m\u001b[37m\u001b[0m \u001b[1m33s\u001b[0m 182ms/step - accuracy: 0.6983 - loss: 0.7344 - val_accuracy: 0.4753 - val_loss: 1.4278 - learning_rate: 0.0010\n",
      "Epoch 46/50\n",
      "\u001b[1m183/183\u001b[0m \u001b[32m━━━━━━━━━━━━━━━━━━━━\u001b[0m\u001b[37m\u001b[0m \u001b[1m31s\u001b[0m 167ms/step - accuracy: 0.7121 - loss: 0.7099 - val_accuracy: 0.4814 - val_loss: 1.4605 - learning_rate: 0.0010\n",
      "Epoch 47/50\n",
      "\u001b[1m183/183\u001b[0m \u001b[32m━━━━━━━━━━━━━━━━━━━━\u001b[0m\u001b[37m\u001b[0m \u001b[1m30s\u001b[0m 164ms/step - accuracy: 0.7203 - loss: 0.6826 - val_accuracy: 0.4765 - val_loss: 1.4178 - learning_rate: 0.0010\n",
      "Epoch 48/50\n",
      "\u001b[1m183/183\u001b[0m \u001b[32m━━━━━━━━━━━━━━━━━━━━\u001b[0m\u001b[37m\u001b[0m \u001b[1m30s\u001b[0m 164ms/step - accuracy: 0.7206 - loss: 0.6894 - val_accuracy: 0.4796 - val_loss: 1.5672 - learning_rate: 0.0010\n",
      "Epoch 49/50\n",
      "\u001b[1m183/183\u001b[0m \u001b[32m━━━━━━━━━━━━━━━━━━━━\u001b[0m\u001b[37m\u001b[0m \u001b[1m30s\u001b[0m 165ms/step - accuracy: 0.7285 - loss: 0.6731 - val_accuracy: 0.4765 - val_loss: 1.5541 - learning_rate: 0.0010\n",
      "Epoch 50/50\n",
      "\u001b[1m183/183\u001b[0m \u001b[32m━━━━━━━━━━━━━━━━━━━━\u001b[0m\u001b[37m\u001b[0m \u001b[1m32s\u001b[0m 173ms/step - accuracy: 0.7282 - loss: 0.6612 - val_accuracy: 0.4753 - val_loss: 1.5558 - learning_rate: 0.0010\n"
     ]
    }
   ],
   "source": [
    "rlrp = ReduceLROnPlateau(monitor='loss', factor=0.4, verbose=0, patience=2, min_lr=0.0000001)\n",
    "history=model.fit(x_train, y_train, batch_size=64, epochs=50, validation_data=(x_test, y_test), callbacks=[rlrp])"
   ]
  },
  {
   "cell_type": "code",
   "execution_count": 93,
   "id": "631edfb6d11823c8",
   "metadata": {
    "ExecuteTime": {
     "end_time": "2024-05-05T16:52:23.284024Z",
     "start_time": "2024-05-05T16:52:22.830607Z"
    }
   },
   "outputs": [
    {
     "ename": "ValueError",
     "evalue": "Arguments `target` and `output` must have the same shape. Received: target.shape=(None, 1), output.shape=(None, 5)",
     "output_type": "error",
     "traceback": [
      "\u001b[1;31m---------------------------------------------------------------------------\u001b[0m",
      "\u001b[1;31mValueError\u001b[0m                                Traceback (most recent call last)",
      "Cell \u001b[1;32mIn[93], line 1\u001b[0m\n\u001b[1;32m----> 1\u001b[0m \u001b[38;5;28mprint\u001b[39m(\u001b[38;5;124m\"\u001b[39m\u001b[38;5;124mAccuracy of our model on test data : \u001b[39m\u001b[38;5;124m\"\u001b[39m , \u001b[43mmodel\u001b[49m\u001b[38;5;241;43m.\u001b[39;49m\u001b[43mevaluate\u001b[49m\u001b[43m(\u001b[49m\u001b[43mx_test\u001b[49m\u001b[43m,\u001b[49m\u001b[43my_test\u001b[49m\u001b[43m)\u001b[49m[\u001b[38;5;241m2\u001b[39m]\u001b[38;5;241m*\u001b[39m\u001b[38;5;241m100\u001b[39m , \u001b[38;5;124m\"\u001b[39m\u001b[38;5;124m%\u001b[39m\u001b[38;5;124m\"\u001b[39m)\n\u001b[0;32m      4\u001b[0m epochs \u001b[38;5;241m=\u001b[39m [i \u001b[38;5;28;01mfor\u001b[39;00m i \u001b[38;5;129;01min\u001b[39;00m \u001b[38;5;28mrange\u001b[39m(\u001b[38;5;241m50\u001b[39m)]\n\u001b[0;32m      5\u001b[0m fig , ax \u001b[38;5;241m=\u001b[39m plt\u001b[38;5;241m.\u001b[39msubplots(\u001b[38;5;241m1\u001b[39m,\u001b[38;5;241m2\u001b[39m)\n",
      "File \u001b[1;32m~\\PycharmProjects\\CourseWork2024\\.venv\\Lib\\site-packages\\keras\\src\\utils\\traceback_utils.py:122\u001b[0m, in \u001b[0;36mfilter_traceback.<locals>.error_handler\u001b[1;34m(*args, **kwargs)\u001b[0m\n\u001b[0;32m    119\u001b[0m     filtered_tb \u001b[38;5;241m=\u001b[39m _process_traceback_frames(e\u001b[38;5;241m.\u001b[39m__traceback__)\n\u001b[0;32m    120\u001b[0m     \u001b[38;5;66;03m# To get the full stack trace, call:\u001b[39;00m\n\u001b[0;32m    121\u001b[0m     \u001b[38;5;66;03m# `keras.config.disable_traceback_filtering()`\u001b[39;00m\n\u001b[1;32m--> 122\u001b[0m     \u001b[38;5;28;01mraise\u001b[39;00m e\u001b[38;5;241m.\u001b[39mwith_traceback(filtered_tb) \u001b[38;5;28;01mfrom\u001b[39;00m \u001b[38;5;28;01mNone\u001b[39;00m\n\u001b[0;32m    123\u001b[0m \u001b[38;5;28;01mfinally\u001b[39;00m:\n\u001b[0;32m    124\u001b[0m     \u001b[38;5;28;01mdel\u001b[39;00m filtered_tb\n",
      "File \u001b[1;32m~\\PycharmProjects\\CourseWork2024\\.venv\\Lib\\site-packages\\keras\\src\\backend\\tensorflow\\nn.py:579\u001b[0m, in \u001b[0;36mcategorical_crossentropy\u001b[1;34m(target, output, from_logits, axis)\u001b[0m\n\u001b[0;32m    577\u001b[0m \u001b[38;5;28;01mfor\u001b[39;00m e1, e2 \u001b[38;5;129;01min\u001b[39;00m \u001b[38;5;28mzip\u001b[39m(target\u001b[38;5;241m.\u001b[39mshape, output\u001b[38;5;241m.\u001b[39mshape):\n\u001b[0;32m    578\u001b[0m     \u001b[38;5;28;01mif\u001b[39;00m e1 \u001b[38;5;129;01mis\u001b[39;00m \u001b[38;5;129;01mnot\u001b[39;00m \u001b[38;5;28;01mNone\u001b[39;00m \u001b[38;5;129;01mand\u001b[39;00m e2 \u001b[38;5;129;01mis\u001b[39;00m \u001b[38;5;129;01mnot\u001b[39;00m \u001b[38;5;28;01mNone\u001b[39;00m \u001b[38;5;129;01mand\u001b[39;00m e1 \u001b[38;5;241m!=\u001b[39m e2:\n\u001b[1;32m--> 579\u001b[0m         \u001b[38;5;28;01mraise\u001b[39;00m \u001b[38;5;167;01mValueError\u001b[39;00m(\n\u001b[0;32m    580\u001b[0m             \u001b[38;5;124m\"\u001b[39m\u001b[38;5;124mArguments `target` and `output` must have the same shape. \u001b[39m\u001b[38;5;124m\"\u001b[39m\n\u001b[0;32m    581\u001b[0m             \u001b[38;5;124m\"\u001b[39m\u001b[38;5;124mReceived: \u001b[39m\u001b[38;5;124m\"\u001b[39m\n\u001b[0;32m    582\u001b[0m             \u001b[38;5;124mf\u001b[39m\u001b[38;5;124m\"\u001b[39m\u001b[38;5;124mtarget.shape=\u001b[39m\u001b[38;5;132;01m{\u001b[39;00mtarget\u001b[38;5;241m.\u001b[39mshape\u001b[38;5;132;01m}\u001b[39;00m\u001b[38;5;124m, output.shape=\u001b[39m\u001b[38;5;132;01m{\u001b[39;00moutput\u001b[38;5;241m.\u001b[39mshape\u001b[38;5;132;01m}\u001b[39;00m\u001b[38;5;124m\"\u001b[39m\n\u001b[0;32m    583\u001b[0m         )\n\u001b[0;32m    585\u001b[0m output, from_logits \u001b[38;5;241m=\u001b[39m _get_logits(\n\u001b[0;32m    586\u001b[0m     output, from_logits, \u001b[38;5;124m\"\u001b[39m\u001b[38;5;124mSoftmax\u001b[39m\u001b[38;5;124m\"\u001b[39m, \u001b[38;5;124m\"\u001b[39m\u001b[38;5;124mcategorical_crossentropy\u001b[39m\u001b[38;5;124m\"\u001b[39m\n\u001b[0;32m    587\u001b[0m )\n\u001b[0;32m    588\u001b[0m \u001b[38;5;28;01mif\u001b[39;00m from_logits:\n",
      "\u001b[1;31mValueError\u001b[0m: Arguments `target` and `output` must have the same shape. Received: target.shape=(None, 1), output.shape=(None, 5)"
     ]
    }
   ],
   "source": [
    "print(\"Accuracy of our model on test data : \" , model.evaluate(x_test,y_test)[1]*100 , \"%\")\n",
    "\n",
    "\n",
    "epochs = [i for i in range(50)]\n",
    "fig , ax = plt.subplots(1,2)\n",
    "train_acc = history.history['accuracy']\n",
    "train_loss = history.history['loss']\n",
    "test_acc = history.history['val_accuracy']\n",
    "test_loss = history.history['val_loss']"
   ]
  },
  {
   "cell_type": "code",
   "execution_count": 94,
   "id": "c2876e7c41a42d3d",
   "metadata": {
    "ExecuteTime": {
     "end_time": "2024-05-05T16:52:52.951245Z",
     "start_time": "2024-05-05T16:52:52.709629Z"
    }
   },
   "outputs": [
    {
     "ename": "ValueError",
     "evalue": "Arguments `target` and `output` must have the same shape. Received: target.shape=(None, 1), output.shape=(None, 5)",
     "output_type": "error",
     "traceback": [
      "\u001b[1;31m---------------------------------------------------------------------------\u001b[0m",
      "\u001b[1;31mValueError\u001b[0m                                Traceback (most recent call last)",
      "Cell \u001b[1;32mIn[94], line 1\u001b[0m\n\u001b[1;32m----> 1\u001b[0m \u001b[38;5;28mprint\u001b[39m(\u001b[38;5;124m\"\u001b[39m\u001b[38;5;124mAccuracy of our model on test data : \u001b[39m\u001b[38;5;124m\"\u001b[39m , \u001b[43mmodel\u001b[49m\u001b[38;5;241;43m.\u001b[39;49m\u001b[43mevaluate\u001b[49m\u001b[43m(\u001b[49m\u001b[43mx_test\u001b[49m\u001b[43m,\u001b[49m\u001b[43my_test\u001b[49m\u001b[43m)\u001b[49m[\u001b[38;5;241m1\u001b[39m]\u001b[38;5;241m*\u001b[39m\u001b[38;5;241m100\u001b[39m , \u001b[38;5;124m\"\u001b[39m\u001b[38;5;124m%\u001b[39m\u001b[38;5;124m\"\u001b[39m)\n\u001b[0;32m      3\u001b[0m epochs \u001b[38;5;241m=\u001b[39m [i \u001b[38;5;28;01mfor\u001b[39;00m i \u001b[38;5;129;01min\u001b[39;00m \u001b[38;5;28mrange\u001b[39m(\u001b[38;5;241m50\u001b[39m)]\n\u001b[0;32m      4\u001b[0m fig , ax \u001b[38;5;241m=\u001b[39m plt\u001b[38;5;241m.\u001b[39msubplots(\u001b[38;5;241m1\u001b[39m,\u001b[38;5;241m2\u001b[39m)\n",
      "File \u001b[1;32m~\\PycharmProjects\\CourseWork2024\\.venv\\Lib\\site-packages\\keras\\src\\utils\\traceback_utils.py:122\u001b[0m, in \u001b[0;36mfilter_traceback.<locals>.error_handler\u001b[1;34m(*args, **kwargs)\u001b[0m\n\u001b[0;32m    119\u001b[0m     filtered_tb \u001b[38;5;241m=\u001b[39m _process_traceback_frames(e\u001b[38;5;241m.\u001b[39m__traceback__)\n\u001b[0;32m    120\u001b[0m     \u001b[38;5;66;03m# To get the full stack trace, call:\u001b[39;00m\n\u001b[0;32m    121\u001b[0m     \u001b[38;5;66;03m# `keras.config.disable_traceback_filtering()`\u001b[39;00m\n\u001b[1;32m--> 122\u001b[0m     \u001b[38;5;28;01mraise\u001b[39;00m e\u001b[38;5;241m.\u001b[39mwith_traceback(filtered_tb) \u001b[38;5;28;01mfrom\u001b[39;00m \u001b[38;5;28;01mNone\u001b[39;00m\n\u001b[0;32m    123\u001b[0m \u001b[38;5;28;01mfinally\u001b[39;00m:\n\u001b[0;32m    124\u001b[0m     \u001b[38;5;28;01mdel\u001b[39;00m filtered_tb\n",
      "File \u001b[1;32m~\\PycharmProjects\\CourseWork2024\\.venv\\Lib\\site-packages\\keras\\src\\backend\\tensorflow\\nn.py:579\u001b[0m, in \u001b[0;36mcategorical_crossentropy\u001b[1;34m(target, output, from_logits, axis)\u001b[0m\n\u001b[0;32m    577\u001b[0m \u001b[38;5;28;01mfor\u001b[39;00m e1, e2 \u001b[38;5;129;01min\u001b[39;00m \u001b[38;5;28mzip\u001b[39m(target\u001b[38;5;241m.\u001b[39mshape, output\u001b[38;5;241m.\u001b[39mshape):\n\u001b[0;32m    578\u001b[0m     \u001b[38;5;28;01mif\u001b[39;00m e1 \u001b[38;5;129;01mis\u001b[39;00m \u001b[38;5;129;01mnot\u001b[39;00m \u001b[38;5;28;01mNone\u001b[39;00m \u001b[38;5;129;01mand\u001b[39;00m e2 \u001b[38;5;129;01mis\u001b[39;00m \u001b[38;5;129;01mnot\u001b[39;00m \u001b[38;5;28;01mNone\u001b[39;00m \u001b[38;5;129;01mand\u001b[39;00m e1 \u001b[38;5;241m!=\u001b[39m e2:\n\u001b[1;32m--> 579\u001b[0m         \u001b[38;5;28;01mraise\u001b[39;00m \u001b[38;5;167;01mValueError\u001b[39;00m(\n\u001b[0;32m    580\u001b[0m             \u001b[38;5;124m\"\u001b[39m\u001b[38;5;124mArguments `target` and `output` must have the same shape. \u001b[39m\u001b[38;5;124m\"\u001b[39m\n\u001b[0;32m    581\u001b[0m             \u001b[38;5;124m\"\u001b[39m\u001b[38;5;124mReceived: \u001b[39m\u001b[38;5;124m\"\u001b[39m\n\u001b[0;32m    582\u001b[0m             \u001b[38;5;124mf\u001b[39m\u001b[38;5;124m\"\u001b[39m\u001b[38;5;124mtarget.shape=\u001b[39m\u001b[38;5;132;01m{\u001b[39;00mtarget\u001b[38;5;241m.\u001b[39mshape\u001b[38;5;132;01m}\u001b[39;00m\u001b[38;5;124m, output.shape=\u001b[39m\u001b[38;5;132;01m{\u001b[39;00moutput\u001b[38;5;241m.\u001b[39mshape\u001b[38;5;132;01m}\u001b[39;00m\u001b[38;5;124m\"\u001b[39m\n\u001b[0;32m    583\u001b[0m         )\n\u001b[0;32m    585\u001b[0m output, from_logits \u001b[38;5;241m=\u001b[39m _get_logits(\n\u001b[0;32m    586\u001b[0m     output, from_logits, \u001b[38;5;124m\"\u001b[39m\u001b[38;5;124mSoftmax\u001b[39m\u001b[38;5;124m\"\u001b[39m, \u001b[38;5;124m\"\u001b[39m\u001b[38;5;124mcategorical_crossentropy\u001b[39m\u001b[38;5;124m\"\u001b[39m\n\u001b[0;32m    587\u001b[0m )\n\u001b[0;32m    588\u001b[0m \u001b[38;5;28;01mif\u001b[39;00m from_logits:\n",
      "\u001b[1;31mValueError\u001b[0m: Arguments `target` and `output` must have the same shape. Received: target.shape=(None, 1), output.shape=(None, 5)"
     ]
    }
   ],
   "source": [
    "print(\"Accuracy of our model on test data : \" , model.evaluate(x_test,y_test)[1]*100 , \"%\")\n",
    "\n",
    "epochs = [i for i in range(50)]\n",
    "fig , ax = plt.subplots(1,2)\n",
    "train_acc = history.history['accuracy']\n",
    "train_loss = history.history['loss']\n",
    "test_acc = history.history['val_accuracy']\n",
    "test_loss = history.history['val_loss']\n",
    "\n",
    "fig.set_size_inches(20,6)\n",
    "ax[0].plot(epochs , train_loss , label = 'Training Loss')\n",
    "ax[0].plot(epochs , test_loss , label = 'Testing Loss')\n",
    "ax[0].set_title('Training & Testing Loss')\n",
    "ax[0].legend()\n",
    "ax[0].set_xlabel(\"Epochs\")\n",
    "\n",
    "ax[1].plot(epochs , train_acc , label = 'Training Accuracy')\n",
    "ax[1].plot(epochs , test_acc , label = 'Testing Accuracy')\n",
    "ax[1].set_title('Training & Testing Accuracy')\n",
    "ax[1].legend()\n",
    "ax[1].set_xlabel(\"Epochs\")\n",
    "plt.show()"
   ]
  },
  {
   "cell_type": "code",
   "execution_count": 95,
   "id": "e00b52f5d7b679b7",
   "metadata": {
    "ExecuteTime": {
     "end_time": "2024-05-05T16:52:58.734124Z",
     "start_time": "2024-05-05T16:52:55.478361Z"
    }
   },
   "outputs": [
    {
     "name": "stdout",
     "output_type": "stream",
     "text": [
      "\u001b[1m122/122\u001b[0m \u001b[32m━━━━━━━━━━━━━━━━━━━━\u001b[0m\u001b[37m\u001b[0m \u001b[1m3s\u001b[0m 24ms/step\n"
     ]
    },
    {
     "ename": "ValueError",
     "evalue": "could not convert string to float: 'other'",
     "output_type": "error",
     "traceback": [
      "\u001b[1;31m---------------------------------------------------------------------------\u001b[0m",
      "\u001b[1;31mValueError\u001b[0m                                Traceback (most recent call last)",
      "Cell \u001b[1;32mIn[95], line 4\u001b[0m\n\u001b[0;32m      1\u001b[0m pred_test \u001b[38;5;241m=\u001b[39m model\u001b[38;5;241m.\u001b[39mpredict(x_test)\n\u001b[0;32m      2\u001b[0m y_pred \u001b[38;5;241m=\u001b[39m encoder\u001b[38;5;241m.\u001b[39minverse_transform(pred_test)\n\u001b[1;32m----> 4\u001b[0m y_test \u001b[38;5;241m=\u001b[39m \u001b[43mencoder\u001b[49m\u001b[38;5;241;43m.\u001b[39;49m\u001b[43minverse_transform\u001b[49m\u001b[43m(\u001b[49m\u001b[43my_test\u001b[49m\u001b[43m)\u001b[49m\n\u001b[0;32m      5\u001b[0m df \u001b[38;5;241m=\u001b[39m pd\u001b[38;5;241m.\u001b[39mDataFrame(columns\u001b[38;5;241m=\u001b[39m[\u001b[38;5;124m'\u001b[39m\u001b[38;5;124mPredicted Labels\u001b[39m\u001b[38;5;124m'\u001b[39m, \u001b[38;5;124m'\u001b[39m\u001b[38;5;124mActual Labels\u001b[39m\u001b[38;5;124m'\u001b[39m])\n\u001b[0;32m      6\u001b[0m df[\u001b[38;5;124m'\u001b[39m\u001b[38;5;124mPredicted Labels\u001b[39m\u001b[38;5;124m'\u001b[39m] \u001b[38;5;241m=\u001b[39m y_pred\u001b[38;5;241m.\u001b[39mflatten()\n",
      "File \u001b[1;32m~\\PycharmProjects\\CourseWork2024\\.venv\\Lib\\site-packages\\sklearn\\preprocessing\\_encoders.py:1091\u001b[0m, in \u001b[0;36mOneHotEncoder.inverse_transform\u001b[1;34m(self, X)\u001b[0m\n\u001b[0;32m   1068\u001b[0m \u001b[38;5;250m\u001b[39m\u001b[38;5;124;03m\"\"\"\u001b[39;00m\n\u001b[0;32m   1069\u001b[0m \u001b[38;5;124;03mConvert the data back to the original representation.\u001b[39;00m\n\u001b[0;32m   1070\u001b[0m \n\u001b[1;32m   (...)\u001b[0m\n\u001b[0;32m   1088\u001b[0m \u001b[38;5;124;03m    Inverse transformed array.\u001b[39;00m\n\u001b[0;32m   1089\u001b[0m \u001b[38;5;124;03m\"\"\"\u001b[39;00m\n\u001b[0;32m   1090\u001b[0m check_is_fitted(\u001b[38;5;28mself\u001b[39m)\n\u001b[1;32m-> 1091\u001b[0m X \u001b[38;5;241m=\u001b[39m \u001b[43mcheck_array\u001b[49m\u001b[43m(\u001b[49m\u001b[43mX\u001b[49m\u001b[43m,\u001b[49m\u001b[43m \u001b[49m\u001b[43maccept_sparse\u001b[49m\u001b[38;5;241;43m=\u001b[39;49m\u001b[38;5;124;43m\"\u001b[39;49m\u001b[38;5;124;43mcsr\u001b[39;49m\u001b[38;5;124;43m\"\u001b[39;49m\u001b[43m)\u001b[49m\n\u001b[0;32m   1093\u001b[0m n_samples, _ \u001b[38;5;241m=\u001b[39m X\u001b[38;5;241m.\u001b[39mshape\n\u001b[0;32m   1094\u001b[0m n_features \u001b[38;5;241m=\u001b[39m \u001b[38;5;28mlen\u001b[39m(\u001b[38;5;28mself\u001b[39m\u001b[38;5;241m.\u001b[39mcategories_)\n",
      "File \u001b[1;32m~\\PycharmProjects\\CourseWork2024\\.venv\\Lib\\site-packages\\sklearn\\utils\\validation.py:997\u001b[0m, in \u001b[0;36mcheck_array\u001b[1;34m(array, accept_sparse, accept_large_sparse, dtype, order, copy, force_all_finite, ensure_2d, allow_nd, ensure_min_samples, ensure_min_features, estimator, input_name)\u001b[0m\n\u001b[0;32m    995\u001b[0m         array \u001b[38;5;241m=\u001b[39m xp\u001b[38;5;241m.\u001b[39mastype(array, dtype, copy\u001b[38;5;241m=\u001b[39m\u001b[38;5;28;01mFalse\u001b[39;00m)\n\u001b[0;32m    996\u001b[0m     \u001b[38;5;28;01melse\u001b[39;00m:\n\u001b[1;32m--> 997\u001b[0m         array \u001b[38;5;241m=\u001b[39m \u001b[43m_asarray_with_order\u001b[49m\u001b[43m(\u001b[49m\u001b[43marray\u001b[49m\u001b[43m,\u001b[49m\u001b[43m \u001b[49m\u001b[43morder\u001b[49m\u001b[38;5;241;43m=\u001b[39;49m\u001b[43morder\u001b[49m\u001b[43m,\u001b[49m\u001b[43m \u001b[49m\u001b[43mdtype\u001b[49m\u001b[38;5;241;43m=\u001b[39;49m\u001b[43mdtype\u001b[49m\u001b[43m,\u001b[49m\u001b[43m \u001b[49m\u001b[43mxp\u001b[49m\u001b[38;5;241;43m=\u001b[39;49m\u001b[43mxp\u001b[49m\u001b[43m)\u001b[49m\n\u001b[0;32m    998\u001b[0m \u001b[38;5;28;01mexcept\u001b[39;00m ComplexWarning \u001b[38;5;28;01mas\u001b[39;00m complex_warning:\n\u001b[0;32m    999\u001b[0m     \u001b[38;5;28;01mraise\u001b[39;00m \u001b[38;5;167;01mValueError\u001b[39;00m(\n\u001b[0;32m   1000\u001b[0m         \u001b[38;5;124m\"\u001b[39m\u001b[38;5;124mComplex data not supported\u001b[39m\u001b[38;5;130;01m\\n\u001b[39;00m\u001b[38;5;132;01m{}\u001b[39;00m\u001b[38;5;130;01m\\n\u001b[39;00m\u001b[38;5;124m\"\u001b[39m\u001b[38;5;241m.\u001b[39mformat(array)\n\u001b[0;32m   1001\u001b[0m     ) \u001b[38;5;28;01mfrom\u001b[39;00m \u001b[38;5;21;01mcomplex_warning\u001b[39;00m\n",
      "File \u001b[1;32m~\\PycharmProjects\\CourseWork2024\\.venv\\Lib\\site-packages\\sklearn\\utils\\_array_api.py:521\u001b[0m, in \u001b[0;36m_asarray_with_order\u001b[1;34m(array, dtype, order, copy, xp)\u001b[0m\n\u001b[0;32m    519\u001b[0m     array \u001b[38;5;241m=\u001b[39m numpy\u001b[38;5;241m.\u001b[39marray(array, order\u001b[38;5;241m=\u001b[39morder, dtype\u001b[38;5;241m=\u001b[39mdtype)\n\u001b[0;32m    520\u001b[0m \u001b[38;5;28;01melse\u001b[39;00m:\n\u001b[1;32m--> 521\u001b[0m     array \u001b[38;5;241m=\u001b[39m \u001b[43mnumpy\u001b[49m\u001b[38;5;241;43m.\u001b[39;49m\u001b[43masarray\u001b[49m\u001b[43m(\u001b[49m\u001b[43marray\u001b[49m\u001b[43m,\u001b[49m\u001b[43m \u001b[49m\u001b[43morder\u001b[49m\u001b[38;5;241;43m=\u001b[39;49m\u001b[43morder\u001b[49m\u001b[43m,\u001b[49m\u001b[43m \u001b[49m\u001b[43mdtype\u001b[49m\u001b[38;5;241;43m=\u001b[39;49m\u001b[43mdtype\u001b[49m\u001b[43m)\u001b[49m\n\u001b[0;32m    523\u001b[0m \u001b[38;5;66;03m# At this point array is a NumPy ndarray. We convert it to an array\u001b[39;00m\n\u001b[0;32m    524\u001b[0m \u001b[38;5;66;03m# container that is consistent with the input's namespace.\u001b[39;00m\n\u001b[0;32m    525\u001b[0m \u001b[38;5;28;01mreturn\u001b[39;00m xp\u001b[38;5;241m.\u001b[39masarray(array)\n",
      "\u001b[1;31mValueError\u001b[0m: could not convert string to float: 'other'"
     ]
    }
   ],
   "source": [
    "pred_test = model.predict(x_test)\n",
    "y_pred = encoder.inverse_transform(pred_test)\n",
    "\n",
    "y_test = encoder.inverse_transform(y_test)\n",
    "df = pd.DataFrame(columns=['Predicted Labels', 'Actual Labels'])\n",
    "df['Predicted Labels'] = y_pred.flatten()\n",
    "df['Actual Labels'] = y_test.flatten()\n",
    "\n",
    "df.head(10)"
   ]
  },
  {
   "cell_type": "code",
   "execution_count": null,
   "id": "cff88b93d05d0b15",
   "metadata": {
    "ExecuteTime": {
     "end_time": "2024-05-05T16:47:32.135095Z",
     "start_time": "2024-05-05T16:47:32.135095Z"
    }
   },
   "outputs": [],
   "source": []
  }
 ],
 "metadata": {
  "kernelspec": {
   "display_name": "Python 3 (ipykernel)",
   "language": "python",
   "name": "python3"
  },
  "language_info": {
   "codemirror_mode": {
    "name": "ipython",
    "version": 3
   },
   "file_extension": ".py",
   "mimetype": "text/x-python",
   "name": "python",
   "nbconvert_exporter": "python",
   "pygments_lexer": "ipython3",
   "version": "3.12.2"
  }
 },
 "nbformat": 4,
 "nbformat_minor": 5
}
